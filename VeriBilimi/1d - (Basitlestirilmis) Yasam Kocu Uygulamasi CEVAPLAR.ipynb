{
 "cells": [
  {
   "cell_type": "code",
   "execution_count": 1,
   "metadata": {},
   "outputs": [],
   "source": [
    "Hayat = \"\"\"\n",
    "Olumlu düşünen, bütün olası dünyaların en iyisinde yaşadığımızı söyler ve olumsuz düşünen, bunun gerçek olmasından korkar. James Cabell\n",
    "\n",
    "Bu dünyaya gelmenin sadece tek bir yolu vardır, terk etmenin ise çok fazla yolu. Donald Harington\n",
    "\n",
    "Birisinin ‘Hayat zor.’ diye yakındığını duyduğumda, her zaman, ‘Neye kıyasla?’ diye sormayı isterim. Sidney Harris\n",
    "\n",
    "Mutsuz olmamamız gerekir. Kimsenin hayatla bir kontratı yok. DavidHeath\n",
    "\n",
    "Hayatını kazanırken yaşamasını bilmeyen bir adam, servetini kazanmadan öncesine göre daha fakirdir. Josiah Holland\n",
    "\n",
    "Yarının ne olacağını sormaktan vazgeç. Her gün, sana verilen bir hazinedir. Eline geçtikçe değerlendir. Horace\n",
    "\n",
    "Hayatınızı yaşamanın en iyi yolu, sizden sonra da kalıcı olacak şeyler için harcamaktır. William James\n",
    "\n",
    "Biz Japonlar, küçük zevklerden hoşlanırız, israftan değil. Daha fazlasını karşılayabilirse de, insanın basit bir yaşam tarzı olması kanısındayım. Massaru Ibuka\n",
    "\n",
    "Benim sanatım ve mesleğim yaşamaktır. Montaigne\n",
    "\n",
    "Hayat, çikolata ile dolu bir kutu gibidir. Ne çıkacağını asla bilemezsiniz. Forrest Gump Filmi\n",
    "\n",
    "Hayat, büyük bir sürprizdir. Ölümün neden daha büyük bir sürpriz olması gerektiğini anlayamıyorum. Vladimir Nabokov\n",
    "\"\"\""
   ]
  },
  {
   "cell_type": "code",
   "execution_count": 2,
   "metadata": {},
   "outputs": [],
   "source": [
    "Sevgi = \"\"\"\n",
    "Karım,  benim  ‘Seni seviyorum.’  dememi binlerce kez duydu ama, hiçbir zaman ‘Üzgünüm.’ dediğimi duymadı. Bruce Willis\n",
    "\n",
    "Büyüklerine saygı, küçüklerine şevkat göstermeyenler, bizden değildir. Hz, Muhammed\n",
    "\n",
    "Sevip de kaybetmek, sevmemiş olmaktan daha iyidir. Seneca\n",
    "\n",
    "Sevgiyle düşünün, sevgiyle konuşun, sevgiyle davranın. Her ihtiyaç karşılanacaktır. James Ailen\n",
    "\n",
    "Sevgi, insanı birliğe, bencillik ise yalnızlığa götürür. Schiller\n",
    "\n",
    "Sevdiği kadını ve sevdiği işi bulan bir erkek, yeryüzünde cenneti bulmuş demektir. Helen Rowland\n",
    "\n",
    "Kızgınlık, kırgınlık ya da acıya tutunmayın. Enerjinizi çalarlar ve sizi sevmekten alıkoyarlar. Leo Buscaglia\n",
    "\n",
    "Herkes temel bir şeyi unutuyor; insanlar sizi, siz onları sevmeden sevmeyecekler. Pat Carroll\n",
    "\n",
    "Sevgi, dünyadaki yaşamın aktığı nehirdir. Henry Beecher\n",
    "\n",
    "Sevmeden verebilirsiniz ama, vermeden sevemezsiniz. Amy Carmichael\n",
    "\n",
    "\"\"\""
   ]
  },
  {
   "cell_type": "code",
   "execution_count": 3,
   "metadata": {},
   "outputs": [],
   "source": [
    "Gayret = \"\"\"\n",
    "Dileyin verilecektir; arayın bulacaksınız; kapıyı çalın size açılacaktır.    Hz.İsa (a.s.)\n",
    "\n",
    "Damlayan su, mermeri, yürüyen de dağları deler. Ovidius\n",
    "\n",
    "Hazine, eziyet çekene gözükür.    Hz. Mevlâna\n",
    "\n",
    "Beklenen gün gelecekse, çekilen çile kutsaldır.V. Hugo\n",
    "\n",
    "Yarınlar yorgun ve bezgin kimseler değil, rahatını terk edebilen gayretli insanlara aittir. Cicero\n",
    "\n",
    "Emek olmadan, yemek olmaz.    Atasözü\n",
    "\n",
    "Kötülüğün hakim olmaması için tek şart, iyilerin gayret göstermeleridir. Kelâmı Kibar\n",
    "\n",
    "İnsan bir şeyi çok ciddi olarak arzu etmeye görsün; hiçbir şey erişilemeyecek kadar yükseklerde değildir. H. Andersen\n",
    "\n",
    "Ümitsizlik ve korkaklık, çalışma azminden yoksun insanlara göredir.  A. Mourois\n",
    "\n",
    "Bir çığlık, bir çığ meydana getirir.  Soljenitsin\n",
    "\n",
    "Kıramıyacağm zinciri, hiç olmazsa kemir. C. Şehabettin\n",
    "\n",
    "Basit bir insanın elinden geleni yapması; bilgili ve zeki bir insanın tembelliğinden çok daha değerlidir.\n",
    "\n",
    "Taşı delen, suyun kuvveti değil; dalgaların sürekliliğidir.\n",
    "\n",
    "Damlayan su, taşı deler. Ovidius\n",
    "\"\"\""
   ]
  },
  {
   "cell_type": "code",
   "execution_count": 4,
   "metadata": {},
   "outputs": [],
   "source": [
    "Umut = \"\"\"\n",
    "Başlangıçta fazla umut ederiz ama, sonrasında yeteri kadar değil. Joesph Roux\n",
    "\n",
    "Hayatta umutsuz durumlar yoktur,  sadece umutsuzluk besleyen insanlar vardır. Booth\n",
    "\n",
    "Şafaktan önce her yer karanlıktır. Katherine Mansfield\n",
    "\n",
    "Umut, gözle görülemeyeni görür, elle tutulamayanı hisseder ve imkansızı başarır. Anonim\n",
    "\n",
    "Büyük umutlar, büyük adamlar yaratır. Thomas Fuller\n",
    "\n",
    "Umut, fakirin ekmeğidir. Thales Miletus\n",
    "\n",
    "Kazanmayı umut etmeyen, daha baştan kaybetmiştir. Jose Olmedo\n",
    "\n",
    "Umut etmeyen, hiçbir zaman umutsuzluğa kapılmaz. George Bernard Shaw\n",
    "\n",
    "Hiçbir kış, sonsuza kadar sürmez. Hal Borland\n",
    "\n",
    "Umut, şüphe etmek daha kolayken, inanmaya devam etmektir. Anonim\n",
    "\n",
    "Umut, mutluluktan alınmış bir miktar borçtur. Joseph İoubert\n",
    "\"\"\""
   ]
  },
  {
   "cell_type": "code",
   "execution_count": 5,
   "metadata": {},
   "outputs": [],
   "source": [
    "Idare = \"\"\"\n",
    "Çok söyleyen değil, çok iş yapan yöneticiye muhtaçsınız. Hz. Ömer (r.a.)\n",
    "\n",
    "Sevginin kurduğu devleti, adalet devam ettirir. Farabi\n",
    "\n",
    "Her memleketin hakettiği bir hükümeti vardır. J. Maistere\n",
    "\n",
    "Hükümetlerin en kötüsü, suçsuzu korkutandır.\n",
    "\n",
    "Kendinizi yönetirken kafanızı, başkalarını yönetirken kalbinizi kullanın.\n",
    "\n",
    "Evi ev eden avrat, yurdu şen eden devlet. Atasözü\n",
    "\n",
    "Mal cimrilerde, silah korkanlarda, idare de zayıflarda olursa, işler bozulur. Hz. Ebubekir\n",
    "\n",
    "İnsanlar üç sınıftır: İdareciler, din alimleri ve halk. İdareciler bozulunca, geçim; alimler bozulunca, din; halk bozulunca da hak bozulur. Ebu Bekir Verrak\n",
    "\n",
    "Kendini yönet, dünyayı yönetecek gücü bulabilirsin. Plato\n",
    "\n",
    "Kötü idarecilerin başarısı, halkın ıstırabıdır.\n",
    "\n",
    "Bir memlekette ayaklar baş olursa, başlar ayaklar altında mahvolur.\n",
    "\n",
    "\"\"\""
   ]
  },
  {
   "cell_type": "markdown",
   "metadata": {},
   "source": [
    "# Yapilacaklar\n",
    "\n",
    "## Veri Hazirligi\n",
    " - Özlü söz listeleri olustur (`ipucu: split('\\n')`)\n",
    " - Listeleri birlestirelim, soz ve kategori listesi olustur\n",
    " - Sozluk olustur (`ipucu: {\"Sozler\": sozler, \"kategori\":kategori}`)\n",
    " - Listelerden sozluk kullanarak veri cercevesi olustur\n",
    " \n",
    "## Islemler\n",
    " - rastgele tavsiye\n",
    " - Secilen kategoride rastgele tavsiye\n",
    " - Jaccard Benzerligi\n",
    " \n",
    "$$\n",
    "benzerlik(A,B) = \\frac{|A \\cap  B|}{|A \\cup  B|}\n",
    "$$\n",
    " - Kullanicidan girdi olarak bir cevap al (`ipucu: cevap = input(\"Merhaba insan ne istiyorsun?)`)\n",
    " - Kullanici cevabi tek kelimeyse ve bilinen kategorilerden biri ise \n",
    "  - rastgele bir tavsiye ver   \n",
    " - Kullanici cevabi uzun bir cumleyse ve verimizdeki sozler ile Jaccard benzerligini hesapla \n",
    "  - ve en yakin sozu dondur\n",
    " "
   ]
  },
  {
   "cell_type": "code",
   "execution_count": null,
   "metadata": {},
   "outputs": [],
   "source": []
  },
  {
   "cell_type": "code",
   "execution_count": null,
   "metadata": {},
   "outputs": [],
   "source": []
  },
  {
   "cell_type": "code",
   "execution_count": null,
   "metadata": {},
   "outputs": [],
   "source": []
  },
  {
   "cell_type": "code",
   "execution_count": null,
   "metadata": {},
   "outputs": [],
   "source": []
  },
  {
   "cell_type": "code",
   "execution_count": null,
   "metadata": {},
   "outputs": [],
   "source": []
  },
  {
   "cell_type": "code",
   "execution_count": 6,
   "metadata": {},
   "outputs": [],
   "source": [
    "Hayat = [soz for soz in Hayat.split('\\n') if soz != '']\n",
    "Sevgi = [soz for soz in Sevgi.split('\\n') if soz != '']\n",
    "Gayret = [soz for soz in Gayret.split('\\n') if soz != '']\n",
    "Idare = [soz for soz in Idare.split('\\n') if soz != '']\n",
    "\n",
    "sozler = Hayat + Sevgi + Gayret + Idare\n",
    "kategori = ['hayat'] * len(Hayat) + ['sevgi'] * len(Sevgi) + ['gayret'] * len(Gayret) + ['idare'] * len(Idare)"
   ]
  },
  {
   "cell_type": "code",
   "execution_count": 7,
   "metadata": {},
   "outputs": [],
   "source": [
    "import pandas as pd\n",
    "\n",
    "yasam_kocu_veri = pd.DataFrame({\"Sozler\": sozler, \"kategori\":kategori})"
   ]
  },
  {
   "cell_type": "code",
   "execution_count": 8,
   "metadata": {},
   "outputs": [
    {
     "data": {
      "text/html": [
       "<div>\n",
       "<style scoped>\n",
       "    .dataframe tbody tr th:only-of-type {\n",
       "        vertical-align: middle;\n",
       "    }\n",
       "\n",
       "    .dataframe tbody tr th {\n",
       "        vertical-align: top;\n",
       "    }\n",
       "\n",
       "    .dataframe thead th {\n",
       "        text-align: right;\n",
       "    }\n",
       "</style>\n",
       "<table border=\"1\" class=\"dataframe\">\n",
       "  <thead>\n",
       "    <tr style=\"text-align: right;\">\n",
       "      <th></th>\n",
       "      <th>Sozler</th>\n",
       "      <th>kategori</th>\n",
       "    </tr>\n",
       "  </thead>\n",
       "  <tbody>\n",
       "    <tr>\n",
       "      <th>0</th>\n",
       "      <td>Olumlu düşünen, bütün olası dünyaların en iyis...</td>\n",
       "      <td>hayat</td>\n",
       "    </tr>\n",
       "    <tr>\n",
       "      <th>1</th>\n",
       "      <td>Bu dünyaya gelmenin sadece tek bir yolu vardır...</td>\n",
       "      <td>hayat</td>\n",
       "    </tr>\n",
       "    <tr>\n",
       "      <th>2</th>\n",
       "      <td>Birisinin ‘Hayat zor.’ diye yakındığını duyduğ...</td>\n",
       "      <td>hayat</td>\n",
       "    </tr>\n",
       "    <tr>\n",
       "      <th>3</th>\n",
       "      <td>Mutsuz olmamamız gerekir. Kimsenin hayatla bir...</td>\n",
       "      <td>hayat</td>\n",
       "    </tr>\n",
       "    <tr>\n",
       "      <th>4</th>\n",
       "      <td>Hayatını kazanırken yaşamasını bilmeyen bir ad...</td>\n",
       "      <td>hayat</td>\n",
       "    </tr>\n",
       "    <tr>\n",
       "      <th>5</th>\n",
       "      <td>Yarının ne olacağını sormaktan vazgeç. Her gün...</td>\n",
       "      <td>hayat</td>\n",
       "    </tr>\n",
       "    <tr>\n",
       "      <th>6</th>\n",
       "      <td>Hayatınızı yaşamanın en iyi yolu, sizden sonra...</td>\n",
       "      <td>hayat</td>\n",
       "    </tr>\n",
       "    <tr>\n",
       "      <th>7</th>\n",
       "      <td>Biz Japonlar, küçük zevklerden hoşlanırız, isr...</td>\n",
       "      <td>hayat</td>\n",
       "    </tr>\n",
       "    <tr>\n",
       "      <th>8</th>\n",
       "      <td>Benim sanatım ve mesleğim yaşamaktır. Montaigne</td>\n",
       "      <td>hayat</td>\n",
       "    </tr>\n",
       "    <tr>\n",
       "      <th>9</th>\n",
       "      <td>Hayat, çikolata ile dolu bir kutu gibidir. Ne ...</td>\n",
       "      <td>hayat</td>\n",
       "    </tr>\n",
       "    <tr>\n",
       "      <th>10</th>\n",
       "      <td>Hayat, büyük bir sürprizdir. Ölümün neden daha...</td>\n",
       "      <td>hayat</td>\n",
       "    </tr>\n",
       "    <tr>\n",
       "      <th>11</th>\n",
       "      <td>Karım,  benim  ‘Seni seviyorum.’  dememi binle...</td>\n",
       "      <td>sevgi</td>\n",
       "    </tr>\n",
       "    <tr>\n",
       "      <th>12</th>\n",
       "      <td>Büyüklerine saygı, küçüklerine şevkat gösterme...</td>\n",
       "      <td>sevgi</td>\n",
       "    </tr>\n",
       "    <tr>\n",
       "      <th>13</th>\n",
       "      <td>Sevip de kaybetmek, sevmemiş olmaktan daha iyi...</td>\n",
       "      <td>sevgi</td>\n",
       "    </tr>\n",
       "    <tr>\n",
       "      <th>14</th>\n",
       "      <td>Sevgiyle düşünün, sevgiyle konuşun, sevgiyle d...</td>\n",
       "      <td>sevgi</td>\n",
       "    </tr>\n",
       "    <tr>\n",
       "      <th>15</th>\n",
       "      <td>Sevgi, insanı birliğe, bencillik ise yalnızlığ...</td>\n",
       "      <td>sevgi</td>\n",
       "    </tr>\n",
       "    <tr>\n",
       "      <th>16</th>\n",
       "      <td>Sevdiği kadını ve sevdiği işi bulan bir erkek,...</td>\n",
       "      <td>sevgi</td>\n",
       "    </tr>\n",
       "    <tr>\n",
       "      <th>17</th>\n",
       "      <td>Kızgınlık, kırgınlık ya da acıya tutunmayın. E...</td>\n",
       "      <td>sevgi</td>\n",
       "    </tr>\n",
       "    <tr>\n",
       "      <th>18</th>\n",
       "      <td>Herkes temel bir şeyi unutuyor; insanlar sizi,...</td>\n",
       "      <td>sevgi</td>\n",
       "    </tr>\n",
       "    <tr>\n",
       "      <th>19</th>\n",
       "      <td>Sevgi, dünyadaki yaşamın aktığı nehirdir. Henr...</td>\n",
       "      <td>sevgi</td>\n",
       "    </tr>\n",
       "    <tr>\n",
       "      <th>20</th>\n",
       "      <td>Sevmeden verebilirsiniz ama, vermeden sevemezs...</td>\n",
       "      <td>sevgi</td>\n",
       "    </tr>\n",
       "    <tr>\n",
       "      <th>21</th>\n",
       "      <td>Dileyin verilecektir; arayın bulacaksınız; kap...</td>\n",
       "      <td>gayret</td>\n",
       "    </tr>\n",
       "    <tr>\n",
       "      <th>22</th>\n",
       "      <td>Damlayan su, mermeri, yürüyen de dağları deler...</td>\n",
       "      <td>gayret</td>\n",
       "    </tr>\n",
       "    <tr>\n",
       "      <th>23</th>\n",
       "      <td>Hazine, eziyet çekene gözükür.    Hz. Mevlâna</td>\n",
       "      <td>gayret</td>\n",
       "    </tr>\n",
       "    <tr>\n",
       "      <th>24</th>\n",
       "      <td>Beklenen gün gelecekse, çekilen çile kutsaldır...</td>\n",
       "      <td>gayret</td>\n",
       "    </tr>\n",
       "    <tr>\n",
       "      <th>25</th>\n",
       "      <td>Yarınlar yorgun ve bezgin kimseler değil, raha...</td>\n",
       "      <td>gayret</td>\n",
       "    </tr>\n",
       "    <tr>\n",
       "      <th>26</th>\n",
       "      <td>Emek olmadan, yemek olmaz.    Atasözü</td>\n",
       "      <td>gayret</td>\n",
       "    </tr>\n",
       "    <tr>\n",
       "      <th>27</th>\n",
       "      <td>Kötülüğün hakim olmaması için tek şart, iyiler...</td>\n",
       "      <td>gayret</td>\n",
       "    </tr>\n",
       "    <tr>\n",
       "      <th>28</th>\n",
       "      <td>İnsan bir şeyi çok ciddi olarak arzu etmeye gö...</td>\n",
       "      <td>gayret</td>\n",
       "    </tr>\n",
       "    <tr>\n",
       "      <th>29</th>\n",
       "      <td>Ümitsizlik ve korkaklık, çalışma azminden yoks...</td>\n",
       "      <td>gayret</td>\n",
       "    </tr>\n",
       "    <tr>\n",
       "      <th>30</th>\n",
       "      <td>Bir çığlık, bir çığ meydana getirir.  Soljenitsin</td>\n",
       "      <td>gayret</td>\n",
       "    </tr>\n",
       "    <tr>\n",
       "      <th>31</th>\n",
       "      <td>Kıramıyacağm zinciri, hiç olmazsa kemir. C. Şe...</td>\n",
       "      <td>gayret</td>\n",
       "    </tr>\n",
       "    <tr>\n",
       "      <th>32</th>\n",
       "      <td>Basit bir insanın elinden geleni yapması; bilg...</td>\n",
       "      <td>gayret</td>\n",
       "    </tr>\n",
       "    <tr>\n",
       "      <th>33</th>\n",
       "      <td>Taşı delen, suyun kuvveti değil; dalgaların sü...</td>\n",
       "      <td>gayret</td>\n",
       "    </tr>\n",
       "    <tr>\n",
       "      <th>34</th>\n",
       "      <td>Damlayan su, taşı deler. Ovidius</td>\n",
       "      <td>gayret</td>\n",
       "    </tr>\n",
       "    <tr>\n",
       "      <th>35</th>\n",
       "      <td>Çok söyleyen değil, çok iş yapan yöneticiye mu...</td>\n",
       "      <td>idare</td>\n",
       "    </tr>\n",
       "    <tr>\n",
       "      <th>36</th>\n",
       "      <td>Sevginin kurduğu devleti, adalet devam ettirir...</td>\n",
       "      <td>idare</td>\n",
       "    </tr>\n",
       "    <tr>\n",
       "      <th>37</th>\n",
       "      <td>Her memleketin hakettiği bir hükümeti vardır. ...</td>\n",
       "      <td>idare</td>\n",
       "    </tr>\n",
       "    <tr>\n",
       "      <th>38</th>\n",
       "      <td>Hükümetlerin en kötüsü, suçsuzu korkutandır.</td>\n",
       "      <td>idare</td>\n",
       "    </tr>\n",
       "    <tr>\n",
       "      <th>39</th>\n",
       "      <td>Kendinizi yönetirken kafanızı, başkalarını yön...</td>\n",
       "      <td>idare</td>\n",
       "    </tr>\n",
       "    <tr>\n",
       "      <th>40</th>\n",
       "      <td>Evi ev eden avrat, yurdu şen eden devlet. Atasözü</td>\n",
       "      <td>idare</td>\n",
       "    </tr>\n",
       "    <tr>\n",
       "      <th>41</th>\n",
       "      <td>Mal cimrilerde, silah korkanlarda, idare de za...</td>\n",
       "      <td>idare</td>\n",
       "    </tr>\n",
       "    <tr>\n",
       "      <th>42</th>\n",
       "      <td>İnsanlar üç sınıftır: İdareciler, din alimleri...</td>\n",
       "      <td>idare</td>\n",
       "    </tr>\n",
       "    <tr>\n",
       "      <th>43</th>\n",
       "      <td>Kendini yönet, dünyayı yönetecek gücü bulabili...</td>\n",
       "      <td>idare</td>\n",
       "    </tr>\n",
       "    <tr>\n",
       "      <th>44</th>\n",
       "      <td>Kötü idarecilerin başarısı, halkın ıstırabıdır.</td>\n",
       "      <td>idare</td>\n",
       "    </tr>\n",
       "    <tr>\n",
       "      <th>45</th>\n",
       "      <td>Bir memlekette ayaklar baş olursa, başlar ayak...</td>\n",
       "      <td>idare</td>\n",
       "    </tr>\n",
       "  </tbody>\n",
       "</table>\n",
       "</div>"
      ],
      "text/plain": [
       "                                               Sozler kategori\n",
       "0   Olumlu düşünen, bütün olası dünyaların en iyis...    hayat\n",
       "1   Bu dünyaya gelmenin sadece tek bir yolu vardır...    hayat\n",
       "2   Birisinin ‘Hayat zor.’ diye yakındığını duyduğ...    hayat\n",
       "3   Mutsuz olmamamız gerekir. Kimsenin hayatla bir...    hayat\n",
       "4   Hayatını kazanırken yaşamasını bilmeyen bir ad...    hayat\n",
       "5   Yarının ne olacağını sormaktan vazgeç. Her gün...    hayat\n",
       "6   Hayatınızı yaşamanın en iyi yolu, sizden sonra...    hayat\n",
       "7   Biz Japonlar, küçük zevklerden hoşlanırız, isr...    hayat\n",
       "8     Benim sanatım ve mesleğim yaşamaktır. Montaigne    hayat\n",
       "9   Hayat, çikolata ile dolu bir kutu gibidir. Ne ...    hayat\n",
       "10  Hayat, büyük bir sürprizdir. Ölümün neden daha...    hayat\n",
       "11  Karım,  benim  ‘Seni seviyorum.’  dememi binle...    sevgi\n",
       "12  Büyüklerine saygı, küçüklerine şevkat gösterme...    sevgi\n",
       "13  Sevip de kaybetmek, sevmemiş olmaktan daha iyi...    sevgi\n",
       "14  Sevgiyle düşünün, sevgiyle konuşun, sevgiyle d...    sevgi\n",
       "15  Sevgi, insanı birliğe, bencillik ise yalnızlığ...    sevgi\n",
       "16  Sevdiği kadını ve sevdiği işi bulan bir erkek,...    sevgi\n",
       "17  Kızgınlık, kırgınlık ya da acıya tutunmayın. E...    sevgi\n",
       "18  Herkes temel bir şeyi unutuyor; insanlar sizi,...    sevgi\n",
       "19  Sevgi, dünyadaki yaşamın aktığı nehirdir. Henr...    sevgi\n",
       "20  Sevmeden verebilirsiniz ama, vermeden sevemezs...    sevgi\n",
       "21  Dileyin verilecektir; arayın bulacaksınız; kap...   gayret\n",
       "22  Damlayan su, mermeri, yürüyen de dağları deler...   gayret\n",
       "23      Hazine, eziyet çekene gözükür.    Hz. Mevlâna   gayret\n",
       "24  Beklenen gün gelecekse, çekilen çile kutsaldır...   gayret\n",
       "25  Yarınlar yorgun ve bezgin kimseler değil, raha...   gayret\n",
       "26              Emek olmadan, yemek olmaz.    Atasözü   gayret\n",
       "27  Kötülüğün hakim olmaması için tek şart, iyiler...   gayret\n",
       "28  İnsan bir şeyi çok ciddi olarak arzu etmeye gö...   gayret\n",
       "29  Ümitsizlik ve korkaklık, çalışma azminden yoks...   gayret\n",
       "30  Bir çığlık, bir çığ meydana getirir.  Soljenitsin   gayret\n",
       "31  Kıramıyacağm zinciri, hiç olmazsa kemir. C. Şe...   gayret\n",
       "32  Basit bir insanın elinden geleni yapması; bilg...   gayret\n",
       "33  Taşı delen, suyun kuvveti değil; dalgaların sü...   gayret\n",
       "34                   Damlayan su, taşı deler. Ovidius   gayret\n",
       "35  Çok söyleyen değil, çok iş yapan yöneticiye mu...    idare\n",
       "36  Sevginin kurduğu devleti, adalet devam ettirir...    idare\n",
       "37  Her memleketin hakettiği bir hükümeti vardır. ...    idare\n",
       "38       Hükümetlerin en kötüsü, suçsuzu korkutandır.    idare\n",
       "39  Kendinizi yönetirken kafanızı, başkalarını yön...    idare\n",
       "40  Evi ev eden avrat, yurdu şen eden devlet. Atasözü    idare\n",
       "41  Mal cimrilerde, silah korkanlarda, idare de za...    idare\n",
       "42  İnsanlar üç sınıftır: İdareciler, din alimleri...    idare\n",
       "43  Kendini yönet, dünyayı yönetecek gücü bulabili...    idare\n",
       "44    Kötü idarecilerin başarısı, halkın ıstırabıdır.    idare\n",
       "45  Bir memlekette ayaklar baş olursa, başlar ayak...    idare"
      ]
     },
     "execution_count": 8,
     "metadata": {},
     "output_type": "execute_result"
    }
   ],
   "source": [
    "yasam_kocu_veri"
   ]
  },
  {
   "cell_type": "code",
   "execution_count": 9,
   "metadata": {},
   "outputs": [
    {
     "data": {
      "text/plain": [
       "34    Damlayan su, taşı deler. Ovidius\n",
       "Name: Sozler, dtype: object"
      ]
     },
     "execution_count": 9,
     "metadata": {},
     "output_type": "execute_result"
    }
   ],
   "source": [
    "yasam_kocu_veri.Sozler.sample(n=1, random_state=1)"
   ]
  },
  {
   "cell_type": "code",
   "execution_count": 10,
   "metadata": {},
   "outputs": [
    {
     "data": {
      "text/plain": [
       "'Damlayan su, taşı deler. Ovidius'"
      ]
     },
     "execution_count": 10,
     "metadata": {},
     "output_type": "execute_result"
    }
   ],
   "source": [
    "yasam_kocu_veri.Sozler.sample(n=1, random_state=1).values[0]"
   ]
  },
  {
   "cell_type": "code",
   "execution_count": 11,
   "metadata": {},
   "outputs": [],
   "source": [
    "def tavsiye():\n",
    "    return yasam_kocu_veri.Sozler.sample(n=1).values[0]"
   ]
  },
  {
   "cell_type": "code",
   "execution_count": 12,
   "metadata": {},
   "outputs": [
    {
     "data": {
      "text/plain": [
       "'Emek olmadan, yemek olmaz.    Atasözü'"
      ]
     },
     "execution_count": 12,
     "metadata": {},
     "output_type": "execute_result"
    }
   ],
   "source": [
    "tavsiye()"
   ]
  },
  {
   "cell_type": "code",
   "execution_count": 13,
   "metadata": {},
   "outputs": [],
   "source": [
    "def tavsiye(secim = \"idare\"):\n",
    "    filtre = yasam_kocu_veri[yasam_kocu_veri.kategori == secim]\n",
    "    return filtre.Sozler.sample(n=1).values[0]"
   ]
  },
  {
   "cell_type": "code",
   "execution_count": 14,
   "metadata": {},
   "outputs": [
    {
     "data": {
      "text/plain": [
       "'Kötü idarecilerin başarısı, halkın ıstırabıdır.'"
      ]
     },
     "execution_count": 14,
     "metadata": {},
     "output_type": "execute_result"
    }
   ],
   "source": [
    "tavsiye()"
   ]
  },
  {
   "cell_type": "code",
   "execution_count": 21,
   "metadata": {},
   "outputs": [
    {
     "data": {
      "text/plain": [
       "'Yarınlar yorgun ve bezgin kimseler değil, rahatını terk edebilen gayretli insanlara aittir. Cicero'"
      ]
     },
     "execution_count": 21,
     "metadata": {},
     "output_type": "execute_result"
    }
   ],
   "source": [
    "tavsiye(secim = \"gayret\")"
   ]
  },
  {
   "cell_type": "code",
   "execution_count": 23,
   "metadata": {},
   "outputs": [
    {
     "name": "stdout",
     "output_type": "stream",
     "text": [
      "Merhaba insan, Hangi konuda tavsiye istersin? f\n"
     ]
    }
   ],
   "source": [
    "cevap = input(\"Merhaba insan, Hangi konuda tavsiye istersin? \")"
   ]
  },
  {
   "cell_type": "code",
   "execution_count": 24,
   "metadata": {},
   "outputs": [
    {
     "data": {
      "text/plain": [
       "'f'"
      ]
     },
     "execution_count": 24,
     "metadata": {},
     "output_type": "execute_result"
    }
   ],
   "source": [
    "cevap"
   ]
  },
  {
   "cell_type": "code",
   "execution_count": 25,
   "metadata": {},
   "outputs": [
    {
     "data": {
      "text/plain": [
       "False"
      ]
     },
     "execution_count": 25,
     "metadata": {},
     "output_type": "execute_result"
    }
   ],
   "source": [
    "cevap.lower() in set(kategori)"
   ]
  },
  {
   "cell_type": "code",
   "execution_count": 27,
   "metadata": {},
   "outputs": [],
   "source": [
    "def dinle_ve_tavsiye_ver():\n",
    "    cevap = input(\"Merhaba insan, \\nHangi konuda tavsiye istersin?(Hayat/Sevgi/Gayret/Idare)\\n\\t Cevabiniz: \").lower()\n",
    "    \n",
    "    if cevap in set(kategori):\n",
    "        return tavsiye(secim = cevap)\n",
    "    else:\n",
    "        return \"Bu da gecer\"\n",
    "    "
   ]
  },
  {
   "cell_type": "code",
   "execution_count": 28,
   "metadata": {},
   "outputs": [
    {
     "name": "stdout",
     "output_type": "stream",
     "text": [
      "Merhaba insan, \n",
      "Hangi konuda tavsiye istersin?(Hayat/Sevgi/Gayret/Idare)\n",
      "\t Cevabiniz: f\n"
     ]
    },
    {
     "data": {
      "text/plain": [
       "'Bu da gecer'"
      ]
     },
     "execution_count": 28,
     "metadata": {},
     "output_type": "execute_result"
    }
   ],
   "source": [
    "dinle_ve_tavsiye_ver()"
   ]
  },
  {
   "cell_type": "code",
   "execution_count": 29,
   "metadata": {},
   "outputs": [
    {
     "name": "stdout",
     "output_type": "stream",
     "text": [
      "Merhaba insan, \n",
      "Hangi konuda tavsiye istersin?(Hayat/Sevgi/Gayret/Idare)\n",
      "\t Cevabiniz: sevgi\n"
     ]
    },
    {
     "data": {
      "text/plain": [
       "'Karım,  benim  ‘Seni seviyorum.’  dememi binlerce kez duydu ama, hiçbir zaman ‘Üzgünüm.’ dediğimi duymadı. Bruce Willis'"
      ]
     },
     "execution_count": 29,
     "metadata": {},
     "output_type": "execute_result"
    }
   ],
   "source": [
    "dinle_ve_tavsiye_ver()"
   ]
  },
  {
   "cell_type": "markdown",
   "metadata": {},
   "source": [
    "# Benzerlik\n",
    "\n",
    "$$\n",
    "benzerlik(A,B) = \\frac{|A \\cap  B|}{|A \\cup  B|}\n",
    "$$"
   ]
  },
  {
   "cell_type": "code",
   "execution_count": 30,
   "metadata": {},
   "outputs": [],
   "source": [
    "A = {v.lower() for v in yasam_kocu_veri.iloc[0,0].split()}"
   ]
  },
  {
   "cell_type": "code",
   "execution_count": 31,
   "metadata": {},
   "outputs": [
    {
     "data": {
      "text/plain": [
       "{'bunun',\n",
       " 'bütün',\n",
       " 'cabell',\n",
       " 'dünyaların',\n",
       " 'düşünen,',\n",
       " 'en',\n",
       " 'gerçek',\n",
       " 'iyisinde',\n",
       " 'james',\n",
       " 'korkar.',\n",
       " 'olası',\n",
       " 'olmasından',\n",
       " 'olumlu',\n",
       " 'olumsuz',\n",
       " 'söyler',\n",
       " 've',\n",
       " 'yaşadığımızı'}"
      ]
     },
     "execution_count": 31,
     "metadata": {},
     "output_type": "execute_result"
    }
   ],
   "source": [
    "A"
   ]
  },
  {
   "cell_type": "code",
   "execution_count": 32,
   "metadata": {},
   "outputs": [],
   "source": [
    "B = 'gerçek nedir'"
   ]
  },
  {
   "cell_type": "code",
   "execution_count": 33,
   "metadata": {},
   "outputs": [
    {
     "data": {
      "text/plain": [
       "{'gerçek', 'nedir'}"
      ]
     },
     "execution_count": 33,
     "metadata": {},
     "output_type": "execute_result"
    }
   ],
   "source": [
    "B = {v.lower() for v in B.split()}\n",
    "B"
   ]
  },
  {
   "cell_type": "code",
   "execution_count": 34,
   "metadata": {},
   "outputs": [],
   "source": [
    "A_kesisim_B = {a for a in A if a in B}\n",
    "A_kesisim_B_sayisi = len(A_kesisim_B)\n",
    "A_birlesim_B_sayisi = len(A) + len(B) - len(A_kesisim_B)"
   ]
  },
  {
   "cell_type": "code",
   "execution_count": 35,
   "metadata": {},
   "outputs": [
    {
     "data": {
      "text/plain": [
       "(1, 18)"
      ]
     },
     "execution_count": 35,
     "metadata": {},
     "output_type": "execute_result"
    }
   ],
   "source": [
    "A_kesisim_B_sayisi, A_birlesim_B_sayisi"
   ]
  },
  {
   "cell_type": "code",
   "execution_count": 49,
   "metadata": {},
   "outputs": [],
   "source": [
    "def benzerlik(A, B):\n",
    "    A = [a.lower() for a in A.split()]\n",
    "    B = [b.lower() for b in B.split()]\n",
    "    \n",
    "    A_kesisim_B = {a for a in A if a in B}\n",
    "    A_kesisim_B_sayisi = len(A_kesisim_B)\n",
    "    A_birlesim_B_sayisi = len(A) + len(B) - len(A_kesisim_B)\n",
    "    return A_kesisim_B_sayisi / A_birlesim_B_sayisi\n"
   ]
  },
  {
   "cell_type": "code",
   "execution_count": 50,
   "metadata": {},
   "outputs": [
    {
     "data": {
      "text/plain": [
       "0.5"
      ]
     },
     "execution_count": 50,
     "metadata": {},
     "output_type": "execute_result"
    }
   ],
   "source": [
    "A = 'Kendinizi yönetirken kafanızı, '\n",
    "B = 'Kendinizi yönetirken kafanızı '\n",
    "benzerlik(A, B)"
   ]
  },
  {
   "cell_type": "code",
   "execution_count": 51,
   "metadata": {},
   "outputs": [],
   "source": [
    "cevap = \"Kendinizi yönetirken kafanızı,\"\n",
    "f = lambda x: benzerlik(x, cevap)"
   ]
  },
  {
   "cell_type": "code",
   "execution_count": 52,
   "metadata": {},
   "outputs": [],
   "source": [
    "sonuc = yasam_kocu_veri.Sozler.apply(f)"
   ]
  },
  {
   "cell_type": "code",
   "execution_count": 53,
   "metadata": {},
   "outputs": [
    {
     "data": {
      "text/plain": [
       "pandas.core.series.Series"
      ]
     },
     "execution_count": 53,
     "metadata": {},
     "output_type": "execute_result"
    }
   ],
   "source": [
    "type(sonuc)"
   ]
  },
  {
   "cell_type": "code",
   "execution_count": 54,
   "metadata": {},
   "outputs": [
    {
     "data": {
      "text/plain": [
       "39    0.428571\n",
       "45    0.000000\n",
       "10    0.000000\n",
       "19    0.000000\n",
       "18    0.000000\n",
       "Name: Sozler, dtype: float64"
      ]
     },
     "execution_count": 54,
     "metadata": {},
     "output_type": "execute_result"
    }
   ],
   "source": [
    "sonuc.sort_values(ascending=False).head()"
   ]
  },
  {
   "cell_type": "code",
   "execution_count": 55,
   "metadata": {},
   "outputs": [],
   "source": [
    "sonuc_idx = sonuc.sort_values(ascending=False)[:3].index"
   ]
  },
  {
   "cell_type": "code",
   "execution_count": 56,
   "metadata": {},
   "outputs": [
    {
     "data": {
      "text/plain": [
       "Int64Index([39, 45, 10], dtype='int64')"
      ]
     },
     "execution_count": 56,
     "metadata": {},
     "output_type": "execute_result"
    }
   ],
   "source": [
    "sonuc_idx"
   ]
  },
  {
   "cell_type": "code",
   "execution_count": 57,
   "metadata": {},
   "outputs": [
    {
     "data": {
      "text/plain": [
       "'Kendinizi yönetirken kafanızı, başkalarını yönetirken kalbinizi kullanın.'"
      ]
     },
     "execution_count": 57,
     "metadata": {},
     "output_type": "execute_result"
    }
   ],
   "source": [
    "yasam_kocu_veri.iloc[sonuc_idx[0]].Sozler"
   ]
  },
  {
   "cell_type": "code",
   "execution_count": 58,
   "metadata": {},
   "outputs": [
    {
     "data": {
      "text/plain": [
       "'Kendinizi yönetirken kafanızı,'"
      ]
     },
     "execution_count": 58,
     "metadata": {},
     "output_type": "execute_result"
    }
   ],
   "source": [
    "cevap"
   ]
  },
  {
   "cell_type": "code",
   "execution_count": 59,
   "metadata": {},
   "outputs": [],
   "source": [
    "def dinle_ve_tavsiye_ver():\n",
    "    cevap = input(\"Merhaba insan, \\nHangi konuda tavsiye istersin?(Hayat/Sevgi/Gayret/Idare)\\n\\t Cevabiniz: \").lower()\n",
    "    \n",
    "    if cevap in set(kategori):\n",
    "        return tavsiye(secim = cevap)\n",
    "    else:\n",
    "        f = lambda x: benzerlik(x, cevap)\n",
    "        sonuc = yasam_kocu_veri.Sozler.apply(f)\n",
    "        sonuc_idx = sonuc.sort_values(ascending=False)[:3].index\n",
    "        return yasam_kocu_veri.iloc[sonuc_idx[0]].Sozler\n",
    "    "
   ]
  },
  {
   "cell_type": "code",
   "execution_count": 60,
   "metadata": {},
   "outputs": [
    {
     "name": "stdout",
     "output_type": "stream",
     "text": [
      "Merhaba insan, \n",
      "Hangi konuda tavsiye istersin?(Hayat/Sevgi/Gayret/Idare)\n",
      "\t Cevabiniz: büyük adamlar\n"
     ]
    },
    {
     "data": {
      "text/plain": [
       "'Hayat, büyük bir sürprizdir. Ölümün neden daha büyük bir sürpriz olması gerektiğini anlayamıyorum. Vladimir Nabokov'"
      ]
     },
     "execution_count": 60,
     "metadata": {},
     "output_type": "execute_result"
    }
   ],
   "source": [
    "dinle_ve_tavsiye_ver()"
   ]
  },
  {
   "cell_type": "code",
   "execution_count": 65,
   "metadata": {},
   "outputs": [
    {
     "name": "stdout",
     "output_type": "stream",
     "text": [
      "Merhaba insan, \n",
      "Hangi konuda tavsiye istersin?(Hayat/Sevgi/Gayret/Idare)\n",
      "\t Cevabiniz: büyük adamlar\n"
     ]
    }
   ],
   "source": [
    "cevap = input(\"Merhaba insan, \\nHangi konuda tavsiye istersin?(Hayat/Sevgi/Gayret/Idare)\\n\\t Cevabiniz: \").lower()    "
   ]
  },
  {
   "cell_type": "code",
   "execution_count": 66,
   "metadata": {},
   "outputs": [
    {
     "data": {
      "text/plain": [
       "'büyük adamlar'"
      ]
     },
     "execution_count": 66,
     "metadata": {},
     "output_type": "execute_result"
    }
   ],
   "source": [
    "cevap"
   ]
  },
  {
   "cell_type": "code",
   "execution_count": 67,
   "metadata": {},
   "outputs": [],
   "source": [
    "f = lambda x: benzerlik(x, cevap)"
   ]
  },
  {
   "cell_type": "code",
   "execution_count": 68,
   "metadata": {},
   "outputs": [],
   "source": [
    "sonuc = yasam_kocu_veri.Sozler.apply(f)"
   ]
  },
  {
   "cell_type": "code",
   "execution_count": 74,
   "metadata": {},
   "outputs": [
    {
     "data": {
      "text/plain": [
       "10"
      ]
     },
     "execution_count": 74,
     "metadata": {},
     "output_type": "execute_result"
    }
   ],
   "source": [
    "sonuc.idxmax()"
   ]
  },
  {
   "cell_type": "code",
   "execution_count": 75,
   "metadata": {},
   "outputs": [
    {
     "data": {
      "text/plain": [
       "'Hayat, büyük bir sürprizdir. Ölümün neden daha büyük bir sürpriz olması gerektiğini anlayamıyorum. Vladimir Nabokov'"
      ]
     },
     "execution_count": 75,
     "metadata": {},
     "output_type": "execute_result"
    }
   ],
   "source": [
    "sonuc.idxmax()\n",
    "yasam_kocu_veri.iloc[sonuc.idxmax()].Sozler"
   ]
  },
  {
   "cell_type": "code",
   "execution_count": null,
   "metadata": {},
   "outputs": [],
   "source": []
  }
 ],
 "metadata": {
  "kernelspec": {
   "display_name": "Python 3",
   "language": "python",
   "name": "python3"
  },
  "language_info": {
   "codemirror_mode": {
    "name": "ipython",
    "version": 3
   },
   "file_extension": ".py",
   "mimetype": "text/x-python",
   "name": "python",
   "nbconvert_exporter": "python",
   "pygments_lexer": "ipython3",
   "version": "3.6.7"
  }
 },
 "nbformat": 4,
 "nbformat_minor": 2
}
