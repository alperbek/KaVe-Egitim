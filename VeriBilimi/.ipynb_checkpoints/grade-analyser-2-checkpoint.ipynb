{
 "cells": [
  {
   "cell_type": "code",
   "execution_count": 11,
   "metadata": {},
   "outputs": [
    {
     "data": {
      "text/html": [
       "<div>\n",
       "<style scoped>\n",
       "    .dataframe tbody tr th:only-of-type {\n",
       "        vertical-align: middle;\n",
       "    }\n",
       "\n",
       "    .dataframe tbody tr th {\n",
       "        vertical-align: top;\n",
       "    }\n",
       "\n",
       "    .dataframe thead th {\n",
       "        text-align: right;\n",
       "    }\n",
       "</style>\n",
       "<table border=\"1\" class=\"dataframe\">\n",
       "  <thead>\n",
       "    <tr style=\"text-align: right;\">\n",
       "      <th></th>\n",
       "      <th>Last Name</th>\n",
       "      <th>First Name</th>\n",
       "      <th>Username</th>\n",
       "      <th>Student ID</th>\n",
       "      <th>Final</th>\n",
       "      <th>Project</th>\n",
       "      <th>midterm</th>\n",
       "      <th>quiz</th>\n",
       "      <th>discussion</th>\n",
       "      <th>grade</th>\n",
       "      <th>letters</th>\n",
       "    </tr>\n",
       "  </thead>\n",
       "  <tbody>\n",
       "    <tr>\n",
       "      <th>0</th>\n",
       "      <td>Abdul Khalek</td>\n",
       "      <td>Rama</td>\n",
       "      <td>rama.abdul.khalek@bilgiedu.net</td>\n",
       "      <td>116200123</td>\n",
       "      <td>0.0</td>\n",
       "      <td>0</td>\n",
       "      <td>0.0</td>\n",
       "      <td>0.0</td>\n",
       "      <td>5</td>\n",
       "      <td>5.00</td>\n",
       "      <td>F</td>\n",
       "    </tr>\n",
       "    <tr>\n",
       "      <th>1</th>\n",
       "      <td>Abozeid</td>\n",
       "      <td>Abdulrahman Ashraf  Mohammad Abdulazeem</td>\n",
       "      <td>abdulrahman.abozeid@bilgiedu.net</td>\n",
       "      <td>117200017</td>\n",
       "      <td>51.0</td>\n",
       "      <td>81</td>\n",
       "      <td>77.0</td>\n",
       "      <td>7.0</td>\n",
       "      <td>5</td>\n",
       "      <td>67.65</td>\n",
       "      <td>B</td>\n",
       "    </tr>\n",
       "    <tr>\n",
       "      <th>2</th>\n",
       "      <td>Acar</td>\n",
       "      <td>Atakan</td>\n",
       "      <td>atakan.acar@bilgiedu.net</td>\n",
       "      <td>117200066</td>\n",
       "      <td>86.0</td>\n",
       "      <td>100</td>\n",
       "      <td>88.0</td>\n",
       "      <td>10.0</td>\n",
       "      <td>5</td>\n",
       "      <td>90.80</td>\n",
       "      <td>A</td>\n",
       "    </tr>\n",
       "    <tr>\n",
       "      <th>3</th>\n",
       "      <td>Acunda_</td>\n",
       "      <td>Hakan</td>\n",
       "      <td>hakan.acundas@bilgiedu.net</td>\n",
       "      <td>116200056</td>\n",
       "      <td>34.0</td>\n",
       "      <td>45</td>\n",
       "      <td>64.0</td>\n",
       "      <td>4.0</td>\n",
       "      <td>5</td>\n",
       "      <td>48.55</td>\n",
       "      <td>C</td>\n",
       "    </tr>\n",
       "    <tr>\n",
       "      <th>4</th>\n",
       "      <td>Ahmad Alomar Alabdalla</td>\n",
       "      <td>Huzaifa</td>\n",
       "      <td>huzaifa.ahmad.alabdalla.alomar@bilgiedu.net</td>\n",
       "      <td>116200008</td>\n",
       "      <td>61.0</td>\n",
       "      <td>100</td>\n",
       "      <td>58.0</td>\n",
       "      <td>10.0</td>\n",
       "      <td>5</td>\n",
       "      <td>71.80</td>\n",
       "      <td>B+</td>\n",
       "    </tr>\n",
       "  </tbody>\n",
       "</table>\n",
       "</div>"
      ],
      "text/plain": [
       "                Last Name                               First Name  \\\n",
       "0            Abdul Khalek                                     Rama   \n",
       "1                 Abozeid  Abdulrahman Ashraf  Mohammad Abdulazeem   \n",
       "2                    Acar                                   Atakan   \n",
       "3                 Acunda_                                    Hakan   \n",
       "4  Ahmad Alomar Alabdalla                                  Huzaifa   \n",
       "\n",
       "                                      Username  Student ID  Final  Project   \\\n",
       "0               rama.abdul.khalek@bilgiedu.net   116200123    0.0         0   \n",
       "1             abdulrahman.abozeid@bilgiedu.net   117200017   51.0        81   \n",
       "2                     atakan.acar@bilgiedu.net   117200066   86.0       100   \n",
       "3                   hakan.acundas@bilgiedu.net   116200056   34.0        45   \n",
       "4  huzaifa.ahmad.alabdalla.alomar@bilgiedu.net   116200008   61.0       100   \n",
       "\n",
       "   midterm  quiz  discussion  grade letters  \n",
       "0      0.0   0.0           5   5.00       F  \n",
       "1     77.0   7.0           5  67.65       B  \n",
       "2     88.0  10.0           5  90.80       A  \n",
       "3     64.0   4.0           5  48.55       C  \n",
       "4     58.0  10.0           5  71.80      B+  "
      ]
     },
     "execution_count": 11,
     "metadata": {},
     "output_type": "execute_result"
    }
   ],
   "source": [
    "import pandas as pd\n",
    "import numpy as np\n",
    "\n",
    "import seaborn as sns;\n",
    "import matplotlib.pyplot as plt\n",
    "\n",
    "grades = pd.read_excel(\"learn.xls\", encoding='utf-8')\n",
    "\n",
    "grades.columns = ['Last Name', 'First Name', 'Username', 'Student ID', 'Final',\n",
    "                 'Project ', 'midterm', 'Quiz2', 'Quiz1', 'Quiz3', 'Quiz3B', \n",
    "                 'Quiz3C', 'Quiz4', 'Quiz4B', 'Quiz5A', 'Quiz5B', 'Quiz5C']\n",
    "\n",
    "grades.fillna(0, inplace=True)\n",
    "grades = grades.replace({'In Progress':0})\n",
    "grades = grades.replace({'Needs Grading':0})\n",
    "\n",
    "\n",
    "quizes = grades[['Quiz2', 'Quiz1', 'Quiz3', 'Quiz3B', 'Quiz3C', 'Quiz4', 'Quiz4B', 'Quiz5A', 'Quiz5B', 'Quiz5C']].sum(axis=1)\n",
    "grades.drop(['Quiz2', 'Quiz1', 'Quiz3', 'Quiz3B', 'Quiz3C', 'Quiz4', 'Quiz4B', 'Quiz5A', 'Quiz5B', 'Quiz5C'], axis=1, inplace=True)\n",
    "grades['quiz'] = quizes\n",
    "\n",
    "\n",
    "grades['discussion'] = 5\n",
    "grades['grade'] = grades['Final'] * 0.4 + grades['midterm'] * 0.3 + grades['Project '] * 0.15 + grades['quiz']  + grades['discussion'] \n",
    "\n",
    "#letter_grade_cuts = [0] + [35 + 4*i for i in range(7)] + [70, 80, 90, 100]\n",
    "letter_grade_cuts = [0, 35, 39, 43, 47, 51, 55, 62, 68, 80, 90, 100]\n",
    "letters = [\"F\",\"D\", \"D+\",\"C-\", \"C\", \"C+\", \"B-\", \"B\", \"B+\", \"A-\", \"A\"]\n",
    "grades['letters'] = pd.cut(grades.grade, letter_grade_cuts, right=False, labels =letters)\n",
    "\n",
    "grades.head()"
   ]
  },
  {
   "cell_type": "code",
   "execution_count": 12,
   "metadata": {},
   "outputs": [
    {
     "data": {
      "text/plain": [
       "<matplotlib.lines.Line2D at 0x1099bf5c0>"
      ]
     },
     "execution_count": 12,
     "metadata": {},
     "output_type": "execute_result"
    },
    {
     "data": {
      "image/png": "[encoded data removed]",
      "text/plain": [
       "<matplotlib.figure.Figure at 0x109b29400>"
      ]
     },
     "metadata": {},
     "output_type": "display_data"
    }
   ],
   "source": [
    "sns.distplot(grades.grade, bins=100)\n",
    "plt.axvline(35, 0, 1, color = \"red\")"
   ]
  },
  {
   "cell_type": "code",
   "execution_count": 15,
   "metadata": {},
   "outputs": [
    {
     "data": {
      "text/plain": [
       "(31, 108, 0.28703703703703703)"
      ]
     },
     "execution_count": 15,
     "metadata": {},
     "output_type": "execute_result"
    }
   ],
   "source": [
    "kalan = len(grades[grades.letters == 'F'])\n",
    "N = len(grades)\n",
    "\n",
    "kalan, N, kalan/N"
   ]
  },
  {
   "cell_type": "code",
   "execution_count": 16,
   "metadata": {},
   "outputs": [],
   "source": [
    "sis2 = pd.read_excel(\"sis2.xlsx\", encoding='utf-8')"
   ]
  },
  {
   "cell_type": "code",
   "execution_count": 17,
   "metadata": {},
   "outputs": [
    {
     "data": {
      "text/html": [
       "<div>\n",
       "<style scoped>\n",
       "    .dataframe tbody tr th:only-of-type {\n",
       "        vertical-align: middle;\n",
       "    }\n",
       "\n",
       "    .dataframe tbody tr th {\n",
       "        vertical-align: top;\n",
       "    }\n",
       "\n",
       "    .dataframe thead th {\n",
       "        text-align: right;\n",
       "    }\n",
       "</style>\n",
       "<table border=\"1\" class=\"dataframe\">\n",
       "  <thead>\n",
       "    <tr style=\"text-align: right;\">\n",
       "      <th></th>\n",
       "      <th>Ders Kodu (Course Code)</th>\n",
       "      <th>Soyad (Last Name)</th>\n",
       "      <th>Ad (First Name)</th>\n",
       "      <th>StudentID</th>\n",
       "      <th>Harf Notu (Letter Grade)</th>\n",
       "      <th>Geçme Sayısal Notu (Overall Numeric Grade)</th>\n",
       "      <th>Assignments</th>\n",
       "      <th>Discussion</th>\n",
       "      <th>Project</th>\n",
       "      <th>Midterm(s)</th>\n",
       "      <th>Final exam</th>\n",
       "    </tr>\n",
       "  </thead>\n",
       "  <tbody>\n",
       "    <tr>\n",
       "      <th>0</th>\n",
       "      <td>CMPE 211.02</td>\n",
       "      <td>Abdul Khalek</td>\n",
       "      <td>Rama</td>\n",
       "      <td>116200123</td>\n",
       "      <td>Incomplete</td>\n",
       "      <td>NaN</td>\n",
       "      <td>NaN</td>\n",
       "      <td>NaN</td>\n",
       "      <td>NaN</td>\n",
       "      <td>NaN</td>\n",
       "      <td>NaN</td>\n",
       "    </tr>\n",
       "    <tr>\n",
       "      <th>1</th>\n",
       "      <td>CMPE 211.02</td>\n",
       "      <td>Abozeid</td>\n",
       "      <td>Abdulrahman Ashraf  Mohammad Abdulazeem</td>\n",
       "      <td>117200017</td>\n",
       "      <td>Incomplete</td>\n",
       "      <td>NaN</td>\n",
       "      <td>NaN</td>\n",
       "      <td>NaN</td>\n",
       "      <td>NaN</td>\n",
       "      <td>NaN</td>\n",
       "      <td>NaN</td>\n",
       "    </tr>\n",
       "    <tr>\n",
       "      <th>2</th>\n",
       "      <td>CMPE 211.02</td>\n",
       "      <td>Al Hayek</td>\n",
       "      <td>Muhanad</td>\n",
       "      <td>117200013</td>\n",
       "      <td>Incomplete</td>\n",
       "      <td>NaN</td>\n",
       "      <td>NaN</td>\n",
       "      <td>NaN</td>\n",
       "      <td>NaN</td>\n",
       "      <td>NaN</td>\n",
       "      <td>NaN</td>\n",
       "    </tr>\n",
       "    <tr>\n",
       "      <th>3</th>\n",
       "      <td>CMPE 211.02</td>\n",
       "      <td>Aljekhleb</td>\n",
       "      <td>Mahmoud Mohamed Kilay Sadu</td>\n",
       "      <td>117200012</td>\n",
       "      <td>Incomplete</td>\n",
       "      <td>NaN</td>\n",
       "      <td>NaN</td>\n",
       "      <td>NaN</td>\n",
       "      <td>NaN</td>\n",
       "      <td>NaN</td>\n",
       "      <td>NaN</td>\n",
       "    </tr>\n",
       "    <tr>\n",
       "      <th>4</th>\n",
       "      <td>CMPE 211.02</td>\n",
       "      <td>Altun</td>\n",
       "      <td>Selen</td>\n",
       "      <td>116200124</td>\n",
       "      <td>Incomplete</td>\n",
       "      <td>NaN</td>\n",
       "      <td>NaN</td>\n",
       "      <td>NaN</td>\n",
       "      <td>NaN</td>\n",
       "      <td>NaN</td>\n",
       "      <td>NaN</td>\n",
       "    </tr>\n",
       "  </tbody>\n",
       "</table>\n",
       "</div>"
      ],
      "text/plain": [
       "  Ders Kodu (Course Code) Soyad (Last Name)  \\\n",
       "0             CMPE 211.02      Abdul Khalek   \n",
       "1             CMPE 211.02           Abozeid   \n",
       "2             CMPE 211.02          Al Hayek   \n",
       "3             CMPE 211.02         Aljekhleb   \n",
       "4             CMPE 211.02             Altun   \n",
       "\n",
       "                           Ad (First Name)  StudentID  \\\n",
       "0                                     Rama  116200123   \n",
       "1  Abdulrahman Ashraf  Mohammad Abdulazeem  117200017   \n",
       "2                                  Muhanad  117200013   \n",
       "3               Mahmoud Mohamed Kilay Sadu  117200012   \n",
       "4                                    Selen  116200124   \n",
       "\n",
       "  Harf Notu (Letter Grade)  Geçme Sayısal Notu (Overall Numeric Grade)  \\\n",
       "0               Incomplete                                         NaN   \n",
       "1               Incomplete                                         NaN   \n",
       "2               Incomplete                                         NaN   \n",
       "3               Incomplete                                         NaN   \n",
       "4               Incomplete                                         NaN   \n",
       "\n",
       "   Assignments  Discussion  Project  Midterm(s)  Final exam  \n",
       "0          NaN         NaN      NaN         NaN         NaN  \n",
       "1          NaN         NaN      NaN         NaN         NaN  \n",
       "2          NaN         NaN      NaN         NaN         NaN  \n",
       "3          NaN         NaN      NaN         NaN         NaN  \n",
       "4          NaN         NaN      NaN         NaN         NaN  "
      ]
     },
     "execution_count": 17,
     "metadata": {},
     "output_type": "execute_result"
    }
   ],
   "source": [
    "sis2.head()"
   ]
  },
  {
   "cell_type": "code",
   "execution_count": 18,
   "metadata": {},
   "outputs": [],
   "source": [
    "studentsID2 = list(sis2['StudentID'])\n",
    "\n",
    "# copy data to sis1\n",
    "for i in range(len(sis2)):\n",
    "    student_i = sis2.loc[i]['StudentID']\n",
    "    student_i #116200056\n",
    "\n",
    "    info_from = ['Final','Project ', 'midterm', 'quiz', 'discussion']\n",
    "    info_to = ['Final exam', 'Project', 'Midterm(s)', 'Assignments','Discussion']\n",
    "\n",
    "    data_i = grades[grades['Student ID'] == student_i]\n",
    "    data_i[info_from]\n",
    "\n",
    "    try:\n",
    "        sis2.loc[i, info_to] = list(data_i[info_from].values[0])\n",
    "    except:\n",
    "        pass"
   ]
  },
  {
   "cell_type": "code",
   "execution_count": 20,
   "metadata": {},
   "outputs": [],
   "source": [
    "sis2.to_excel('data2.xlsx', index=False)"
   ]
  },
  {
   "cell_type": "code",
   "execution_count": 21,
   "metadata": {},
   "outputs": [],
   "source": [
    "sis2_tamam = pd.read_excel(\"sis2-tamam.xlsx\", encoding='utf-8')"
   ]
  },
  {
   "cell_type": "code",
   "execution_count": 22,
   "metadata": {},
   "outputs": [],
   "source": [
    "info_from = ['Last Name', 'Student ID', 'Final','Project ', 'midterm', 'quiz', 'discussion']\n",
    "info_to = ['Soyad (Last Name)','StudentID', 'Final exam', 'Project', 'Midterm(s)', 'Assignments','Discussion']\n",
    "\n",
    "i=-1"
   ]
  },
  {
   "cell_type": "code",
   "execution_count": 62,
   "metadata": {},
   "outputs": [
    {
     "name": "stdout",
     "output_type": "stream",
     "text": [
      "   Soyad (Last Name)  StudentID  Final exam  Project  Midterm(s)  Assignments  \\\n",
      "35             Yayla  115200073          11       65          47            0   \n",
      "\n",
      "    Discussion  \n",
      "35           5  \n",
      "   Last Name  Student ID  Final  Project   midterm  quiz  discussion\n",
      "92     Yayla   115200073   11.0        65     47.0   0.0           5\n",
      "====== i 35\n"
     ]
    }
   ],
   "source": [
    "i = i + 1\n",
    "studentID_i = sis2_tamam.loc[i]['StudentID']\n",
    "\n",
    "print(sis2_tamam[sis2_tamam['StudentID']==studentID_i][info_to])\n",
    "\n",
    "print(grades[grades['Student ID']==studentID_i][info_from])\n",
    "\n",
    "print('====== i', i)"
   ]
  },
  {
   "cell_type": "code",
   "execution_count": null,
   "metadata": {},
   "outputs": [],
   "source": []
  }
 ],
 "metadata": {
  "kernelspec": {
   "display_name": "Python 3",
   "language": "python",
   "name": "python3"
  },
  "language_info": {
   "codemirror_mode": {
    "name": "ipython",
    "version": 3
   },
   "file_extension": ".py",
   "mimetype": "text/x-python",
   "name": "python",
   "nbconvert_exporter": "python",
   "pygments_lexer": "ipython3",
   "version": "3.6.7"
  }
 },
 "nbformat": 4,
 "nbformat_minor": 2
}
