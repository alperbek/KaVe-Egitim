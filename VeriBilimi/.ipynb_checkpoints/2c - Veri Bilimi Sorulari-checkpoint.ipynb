{
 "cells": [
  {
   "cell_type": "markdown",
   "metadata": {},
   "source": [
    "# Starbucks Icecek verileri"
   ]
  },
  {
   "cell_type": "code",
   "execution_count": 1,
   "metadata": {},
   "outputs": [],
   "source": [
    "import pandas as pd\n",
    "import numpy as np"
   ]
  },
  {
   "cell_type": "code",
   "execution_count": 2,
   "metadata": {},
   "outputs": [
    {
     "data": {
      "text/html": [
       "<div>\n",
       "<style scoped>\n",
       "    .dataframe tbody tr th:only-of-type {\n",
       "        vertical-align: middle;\n",
       "    }\n",
       "\n",
       "    .dataframe tbody tr th {\n",
       "        vertical-align: top;\n",
       "    }\n",
       "\n",
       "    .dataframe thead th {\n",
       "        text-align: right;\n",
       "    }\n",
       "</style>\n",
       "<table border=\"1\" class=\"dataframe\">\n",
       "  <thead>\n",
       "    <tr style=\"text-align: right;\">\n",
       "      <th></th>\n",
       "      <th>Unnamed: 0</th>\n",
       "      <th>Calories</th>\n",
       "      <th>Fat (g)</th>\n",
       "      <th>Carb. (g)</th>\n",
       "      <th>Fiber (g)</th>\n",
       "      <th>Protein</th>\n",
       "      <th>Sodium</th>\n",
       "    </tr>\n",
       "  </thead>\n",
       "  <tbody>\n",
       "    <tr>\n",
       "      <th>0</th>\n",
       "      <td>Cool Lime Starbucks Refreshers™ Beverage</td>\n",
       "      <td>45</td>\n",
       "      <td>0</td>\n",
       "      <td>11</td>\n",
       "      <td>0</td>\n",
       "      <td>0</td>\n",
       "      <td>10</td>\n",
       "    </tr>\n",
       "    <tr>\n",
       "      <th>1</th>\n",
       "      <td>Ombré Pink Drink</td>\n",
       "      <td>-</td>\n",
       "      <td>-</td>\n",
       "      <td>-</td>\n",
       "      <td>-</td>\n",
       "      <td>-</td>\n",
       "      <td>-</td>\n",
       "    </tr>\n",
       "    <tr>\n",
       "      <th>2</th>\n",
       "      <td>Pink Drink</td>\n",
       "      <td>-</td>\n",
       "      <td>-</td>\n",
       "      <td>-</td>\n",
       "      <td>-</td>\n",
       "      <td>-</td>\n",
       "      <td>-</td>\n",
       "    </tr>\n",
       "  </tbody>\n",
       "</table>\n",
       "</div>"
      ],
      "text/plain": [
       "                                 Unnamed: 0 Calories Fat (g) Carb. (g)  \\\n",
       "0  Cool Lime Starbucks Refreshers™ Beverage       45       0        11   \n",
       "1                          Ombré Pink Drink        -       -         -   \n",
       "2                                Pink Drink        -       -         -   \n",
       "\n",
       "  Fiber (g) Protein Sodium  \n",
       "0         0       0     10  \n",
       "1         -       -      -  \n",
       "2         -       -      -  "
      ]
     },
     "execution_count": 2,
     "metadata": {},
     "output_type": "execute_result"
    }
   ],
   "source": [
    "drink = pd.read_csv('veri/starbucks-menu-nutrition-drinks.csv')\n",
    "drink.head(3)"
   ]
  },
  {
   "cell_type": "markdown",
   "metadata": {},
   "source": [
    "## Sorular\n",
    " - 1. Kalorosi en yuksek icecegi bulun\n",
    " - 2. iceceklerin kalorisini histogram ile gosterin"
   ]
  },
  {
   "cell_type": "code",
   "execution_count": null,
   "metadata": {},
   "outputs": [],
   "source": []
  },
  {
   "cell_type": "code",
   "execution_count": null,
   "metadata": {},
   "outputs": [],
   "source": []
  },
  {
   "cell_type": "code",
   "execution_count": 27,
   "metadata": {},
   "outputs": [],
   "source": [
    "###############################\n",
    "#Cevaplar\n",
    "#2.\n",
    "#f = lambda x: int(x) if x != '-' else 0\n",
    "#drink['Calories'] = drink['Calories'].apply(f)\n",
    "#drink['Calories'].hist(bins = 50)\n",
    "#1.\n",
    "#drink[drink['Calories'] == drink['Calories'].max()]\n",
    "###############################"
   ]
  },
  {
   "cell_type": "markdown",
   "metadata": {},
   "source": [
    "# Unutulmakta Olan Diller"
   ]
  },
  {
   "cell_type": "code",
   "execution_count": 63,
   "metadata": {},
   "outputs": [
    {
     "data": {
      "text/html": [
       "<div>\n",
       "<style scoped>\n",
       "    .dataframe tbody tr th:only-of-type {\n",
       "        vertical-align: middle;\n",
       "    }\n",
       "\n",
       "    .dataframe tbody tr th {\n",
       "        vertical-align: top;\n",
       "    }\n",
       "\n",
       "    .dataframe thead th {\n",
       "        text-align: right;\n",
       "    }\n",
       "</style>\n",
       "<table border=\"1\" class=\"dataframe\">\n",
       "  <thead>\n",
       "    <tr style=\"text-align: right;\">\n",
       "      <th></th>\n",
       "      <th>ID</th>\n",
       "      <th>Name in English</th>\n",
       "      <th>Countries</th>\n",
       "      <th>Country codes alpha 3</th>\n",
       "      <th>Degree of endangerment</th>\n",
       "      <th>Number of speakers</th>\n",
       "      <th>Latitude</th>\n",
       "      <th>Longitude</th>\n",
       "      <th>Description of the location</th>\n",
       "    </tr>\n",
       "  </thead>\n",
       "  <tbody>\n",
       "    <tr>\n",
       "      <th>0</th>\n",
       "      <td>1022</td>\n",
       "      <td>South Italian</td>\n",
       "      <td>Italy</td>\n",
       "      <td>ITA</td>\n",
       "      <td>Vulnerable</td>\n",
       "      <td>7500000.0</td>\n",
       "      <td>40.9798</td>\n",
       "      <td>15.2490</td>\n",
       "      <td>Campania, Lucania (Basilicata), Abruzzi (Abruz...</td>\n",
       "    </tr>\n",
       "    <tr>\n",
       "      <th>1</th>\n",
       "      <td>1023</td>\n",
       "      <td>Sicilian</td>\n",
       "      <td>Italy</td>\n",
       "      <td>ITA</td>\n",
       "      <td>Vulnerable</td>\n",
       "      <td>5000000.0</td>\n",
       "      <td>37.4399</td>\n",
       "      <td>14.5019</td>\n",
       "      <td>Sicily (Sicilia), southern and central Calabri...</td>\n",
       "    </tr>\n",
       "    <tr>\n",
       "      <th>2</th>\n",
       "      <td>383</td>\n",
       "      <td>Low Saxon</td>\n",
       "      <td>Germany, Denmark, Netherlands, Poland, Russian...</td>\n",
       "      <td>DEU, DNK, NLD, POL, RUS</td>\n",
       "      <td>Vulnerable</td>\n",
       "      <td>4800000.0</td>\n",
       "      <td>53.4029</td>\n",
       "      <td>10.3601</td>\n",
       "      <td>northern Germany, the north-eastern part of th...</td>\n",
       "    </tr>\n",
       "  </tbody>\n",
       "</table>\n",
       "</div>"
      ],
      "text/plain": [
       "     ID Name in English                                          Countries  \\\n",
       "0  1022   South Italian                                              Italy   \n",
       "1  1023        Sicilian                                              Italy   \n",
       "2   383       Low Saxon  Germany, Denmark, Netherlands, Poland, Russian...   \n",
       "\n",
       "     Country codes alpha 3 Degree of endangerment  Number of speakers  \\\n",
       "0                      ITA             Vulnerable           7500000.0   \n",
       "1                      ITA             Vulnerable           5000000.0   \n",
       "2  DEU, DNK, NLD, POL, RUS             Vulnerable           4800000.0   \n",
       "\n",
       "   Latitude  Longitude                        Description of the location  \n",
       "0   40.9798    15.2490  Campania, Lucania (Basilicata), Abruzzi (Abruz...  \n",
       "1   37.4399    14.5019  Sicily (Sicilia), southern and central Calabri...  \n",
       "2   53.4029    10.3601  northern Germany, the north-eastern part of th...  "
      ]
     },
     "execution_count": 63,
     "metadata": {},
     "output_type": "execute_result"
    }
   ],
   "source": [
    "diller = pd.read_csv('veri/endangeredLang.csv')\n",
    "diller.head(3)"
   ]
  },
  {
   "cell_type": "code",
   "execution_count": 64,
   "metadata": {},
   "outputs": [],
   "source": [
    "# Bazi kolonlari silelim\n",
    "diller.drop(['Country codes alpha 3', 'Latitude', 'Longitude', 'Description of the location'], axis = 1, inplace = True)\n",
    "\n",
    "# kolon isimlerini degistirelim\n",
    "diller.columns = ['ID', 'Dil', 'Ulke','Seviye', 'Kisi']"
   ]
  },
  {
   "cell_type": "code",
   "execution_count": 65,
   "metadata": {},
   "outputs": [
    {
     "data": {
      "text/html": [
       "<div>\n",
       "<style scoped>\n",
       "    .dataframe tbody tr th:only-of-type {\n",
       "        vertical-align: middle;\n",
       "    }\n",
       "\n",
       "    .dataframe tbody tr th {\n",
       "        vertical-align: top;\n",
       "    }\n",
       "\n",
       "    .dataframe thead th {\n",
       "        text-align: right;\n",
       "    }\n",
       "</style>\n",
       "<table border=\"1\" class=\"dataframe\">\n",
       "  <thead>\n",
       "    <tr style=\"text-align: right;\">\n",
       "      <th></th>\n",
       "      <th>ID</th>\n",
       "      <th>Dil</th>\n",
       "      <th>Ulke</th>\n",
       "      <th>Seviye</th>\n",
       "      <th>Kisi</th>\n",
       "    </tr>\n",
       "  </thead>\n",
       "  <tbody>\n",
       "    <tr>\n",
       "      <th>0</th>\n",
       "      <td>1022</td>\n",
       "      <td>South Italian</td>\n",
       "      <td>Italy</td>\n",
       "      <td>Vulnerable</td>\n",
       "      <td>7500000.0</td>\n",
       "    </tr>\n",
       "    <tr>\n",
       "      <th>1</th>\n",
       "      <td>1023</td>\n",
       "      <td>Sicilian</td>\n",
       "      <td>Italy</td>\n",
       "      <td>Vulnerable</td>\n",
       "      <td>5000000.0</td>\n",
       "    </tr>\n",
       "    <tr>\n",
       "      <th>2</th>\n",
       "      <td>383</td>\n",
       "      <td>Low Saxon</td>\n",
       "      <td>Germany, Denmark, Netherlands, Poland, Russian...</td>\n",
       "      <td>Vulnerable</td>\n",
       "      <td>4800000.0</td>\n",
       "    </tr>\n",
       "  </tbody>\n",
       "</table>\n",
       "</div>"
      ],
      "text/plain": [
       "     ID            Dil                                               Ulke  \\\n",
       "0  1022  South Italian                                              Italy   \n",
       "1  1023       Sicilian                                              Italy   \n",
       "2   383      Low Saxon  Germany, Denmark, Netherlands, Poland, Russian...   \n",
       "\n",
       "       Seviye       Kisi  \n",
       "0  Vulnerable  7500000.0  \n",
       "1  Vulnerable  5000000.0  \n",
       "2  Vulnerable  4800000.0  "
      ]
     },
     "execution_count": 65,
     "metadata": {},
     "output_type": "execute_result"
    }
   ],
   "source": [
    "diller.head(3)"
   ]
  },
  {
   "cell_type": "markdown",
   "metadata": {},
   "source": [
    "## Sorular\n",
    " - 1. 100 kisiden az kisi tarafindan konusulan diller\n",
    " - 2. 100 kisiden az fakat unutulmamis diller\n",
    " - 3. Turkiyede unutlmaya yuz tutmus ya da unutulmus diller hangileri"
   ]
  },
  {
   "cell_type": "code",
   "execution_count": 102,
   "metadata": {},
   "outputs": [
    {
     "name": "stdout",
     "output_type": "stream",
     "text": [
      "ID              1985\n",
      "Dil           Zazaki\n",
      "Ulke          Turkey\n",
      "Seviye    Vulnerable\n",
      "Kisi           2e+06\n",
      "Name: 15, dtype: object\n",
      "---------------\n",
      "['Turkey']\n",
      "True\n"
     ]
    }
   ],
   "source": [
    "k = 15\n",
    "print(diller.loc[k])\n",
    "print('-'*15)\n",
    "print(diller.Ulke[k].split(','))\n",
    "print('Turkey' in diller.Ulke[k].split(','))"
   ]
  },
  {
   "cell_type": "code",
   "execution_count": 68,
   "metadata": {},
   "outputs": [],
   "source": []
  },
  {
   "cell_type": "code",
   "execution_count": null,
   "metadata": {},
   "outputs": [],
   "source": []
  },
  {
   "cell_type": "code",
   "execution_count": 103,
   "metadata": {},
   "outputs": [],
   "source": [
    "###############################\n",
    "#Cevaplar\n",
    "#1.\n",
    "#diller[diller.Kisi < 100]\n",
    "###############################\n",
    "#2.\n",
    "#diller[(diller.Kisi < 100) & (diller.Kisi > 0)]\n",
    "###############################\n",
    "#3.\n",
    "#def t(x, ulke = 'Turkey'):\n",
    "#    try:\n",
    "#        return ulke in x.split(',')\n",
    "#    except:\n",
    "#        return False\n",
    "#\n",
    "#turkey = diller.Ulke.apply(t)\n",
    "#\n",
    "#print(turkey.sum())\n",
    "#diller[turkey]\n",
    "#\n",
    "#diller.groupby(['Seviye']).count()\n",
    "###############################"
   ]
  },
  {
   "cell_type": "code",
   "execution_count": null,
   "metadata": {},
   "outputs": [],
   "source": []
  },
  {
   "cell_type": "code",
   "execution_count": null,
   "metadata": {},
   "outputs": [],
   "source": []
  }
 ],
 "metadata": {
  "kernelspec": {
   "display_name": "Python 3",
   "language": "python",
   "name": "python3"
  },
  "language_info": {
   "codemirror_mode": {
    "name": "ipython",
    "version": 3
   },
   "file_extension": ".py",
   "mimetype": "text/x-python",
   "name": "python",
   "nbconvert_exporter": "python",
   "pygments_lexer": "ipython3",
   "version": "3.6.7"
  }
 },
 "nbformat": 4,
 "nbformat_minor": 2
}
