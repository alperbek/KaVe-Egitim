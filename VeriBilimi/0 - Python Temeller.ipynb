{
 "cells": [
  {
   "cell_type": "markdown",
   "metadata": {},
   "source": [
    "## Python Temeller\n",
    " \n",
    " - Temel Veri yapilari\n",
    "     - List, Tuple, Dictionary, Set\n",
    " \n",
    " - Fonksiyonlar\n",
    "\n",
    " - Class\n",
    " \n",
    " - Dosya Okumma"
   ]
  },
  {
   "cell_type": "code",
   "execution_count": 3,
   "metadata": {},
   "outputs": [
    {
     "name": "stdout",
     "output_type": "stream",
     "text": [
      "hello world\n"
     ]
    }
   ],
   "source": [
    "print('hello world')"
   ]
  },
  {
   "cell_type": "markdown",
   "metadata": {},
   "source": [
    "## Python Listeler\n",
    " - Degistirilebilir koleksiyonlar"
   ]
  },
  {
   "cell_type": "code",
   "execution_count": 4,
   "metadata": {},
   "outputs": [],
   "source": [
    "mylist = ['merhaba', 'dunya']"
   ]
  },
  {
   "cell_type": "code",
   "execution_count": 8,
   "metadata": {},
   "outputs": [],
   "source": [
    "mylist.append('bye')"
   ]
  },
  {
   "cell_type": "code",
   "execution_count": 9,
   "metadata": {},
   "outputs": [
    {
     "data": {
      "text/plain": [
       "['merhaba', 'dunya', 'bye']"
      ]
     },
     "execution_count": 9,
     "metadata": {},
     "output_type": "execute_result"
    }
   ],
   "source": [
    "mylist"
   ]
  },
  {
   "cell_type": "code",
   "execution_count": 13,
   "metadata": {},
   "outputs": [
    {
     "data": {
      "text/plain": [
       "'dunya'"
      ]
     },
     "execution_count": 13,
     "metadata": {},
     "output_type": "execute_result"
    }
   ],
   "source": [
    "mylist[-2]"
   ]
  },
  {
   "cell_type": "code",
   "execution_count": 15,
   "metadata": {},
   "outputs": [],
   "source": [
    "item = mylist.pop()"
   ]
  },
  {
   "cell_type": "code",
   "execution_count": 16,
   "metadata": {},
   "outputs": [
    {
     "data": {
      "text/plain": [
       "'bye'"
      ]
     },
     "execution_count": 16,
     "metadata": {},
     "output_type": "execute_result"
    }
   ],
   "source": [
    "item"
   ]
  },
  {
   "cell_type": "code",
   "execution_count": 17,
   "metadata": {},
   "outputs": [
    {
     "data": {
      "text/plain": [
       "['merhaba', 'dunya']"
      ]
     },
     "execution_count": 17,
     "metadata": {},
     "output_type": "execute_result"
    }
   ],
   "source": [
    "mylist"
   ]
  },
  {
   "cell_type": "code",
   "execution_count": 20,
   "metadata": {},
   "outputs": [],
   "source": [
    "mylist[0] = 'elveda'"
   ]
  },
  {
   "cell_type": "code",
   "execution_count": null,
   "metadata": {},
   "outputs": [],
   "source": []
  },
  {
   "cell_type": "code",
   "execution_count": 21,
   "metadata": {},
   "outputs": [
    {
     "data": {
      "text/plain": [
       "['elveda', 'dunya']"
      ]
     },
     "execution_count": 21,
     "metadata": {},
     "output_type": "execute_result"
    }
   ],
   "source": [
    "mylist"
   ]
  },
  {
   "cell_type": "markdown",
   "metadata": {},
   "source": [
    "## Python Tuple\n",
    " - Degistirilemez koleksiyonlar"
   ]
  },
  {
   "cell_type": "code",
   "execution_count": 18,
   "metadata": {},
   "outputs": [],
   "source": [
    "mytuple = ('merhaba', 'dunya', 'bye')"
   ]
  },
  {
   "cell_type": "code",
   "execution_count": 19,
   "metadata": {},
   "outputs": [
    {
     "data": {
      "text/plain": [
       "'merhaba'"
      ]
     },
     "execution_count": 19,
     "metadata": {},
     "output_type": "execute_result"
    }
   ],
   "source": [
    "mytuple[0]"
   ]
  },
  {
   "cell_type": "code",
   "execution_count": 24,
   "metadata": {},
   "outputs": [
    {
     "name": "stdout",
     "output_type": "stream",
     "text": [
      "tuple elemanlari degismez!!\n"
     ]
    }
   ],
   "source": [
    "try:\n",
    "    mytuple[0] = 'elveda'\n",
    "except: \n",
    "    print('tuple elemanlari degismez!!')"
   ]
  },
  {
   "cell_type": "markdown",
   "metadata": {},
   "source": [
    "## Python Sozlukler\n",
    " - Hizli veri yapilari\n",
    " - anahtar-deger ciftlerinden olusuyor"
   ]
  },
  {
   "cell_type": "code",
   "execution_count": 26,
   "metadata": {},
   "outputs": [],
   "source": [
    "sozluk = dict()"
   ]
  },
  {
   "cell_type": "code",
   "execution_count": 29,
   "metadata": {},
   "outputs": [],
   "source": [
    "uzay_rating = {'Star Wars': 5, 'Titanic': 4, 'Gladyator':5}\n",
    "ayse_rating = {'Star Wars': 3, 'Titanic': 5, 'Gladyator':2}"
   ]
  },
  {
   "cell_type": "code",
   "execution_count": 28,
   "metadata": {},
   "outputs": [
    {
     "data": {
      "text/plain": [
       "5"
      ]
     },
     "execution_count": 28,
     "metadata": {},
     "output_type": "execute_result"
    }
   ],
   "source": [
    "uzay_rating['Star Wars']"
   ]
  },
  {
   "cell_type": "code",
   "execution_count": 30,
   "metadata": {},
   "outputs": [
    {
     "data": {
      "text/plain": [
       "5"
      ]
     },
     "execution_count": 30,
     "metadata": {},
     "output_type": "execute_result"
    }
   ],
   "source": [
    "ayse_rating['Titanic']"
   ]
  },
  {
   "cell_type": "code",
   "execution_count": 31,
   "metadata": {},
   "outputs": [
    {
     "data": {
      "text/plain": [
       "dict_keys(['Star Wars', 'Titanic', 'Gladyator'])"
      ]
     },
     "execution_count": 31,
     "metadata": {},
     "output_type": "execute_result"
    }
   ],
   "source": [
    "uzay_rating.keys()"
   ]
  },
  {
   "cell_type": "code",
   "execution_count": 32,
   "metadata": {},
   "outputs": [
    {
     "data": {
      "text/plain": [
       "dict_values([5, 4, 5])"
      ]
     },
     "execution_count": 32,
     "metadata": {},
     "output_type": "execute_result"
    }
   ],
   "source": [
    "uzay_rating.values()"
   ]
  },
  {
   "cell_type": "code",
   "execution_count": 33,
   "metadata": {},
   "outputs": [
    {
     "data": {
      "text/plain": [
       "dict_items([('Star Wars', 5), ('Titanic', 4), ('Gladyator', 5)])"
      ]
     },
     "execution_count": 33,
     "metadata": {},
     "output_type": "execute_result"
    }
   ],
   "source": [
    "uzay_rating.items()"
   ]
  },
  {
   "cell_type": "code",
   "execution_count": 34,
   "metadata": {},
   "outputs": [],
   "source": [
    "uzay_rating['Star Wars'] = 4"
   ]
  },
  {
   "cell_type": "code",
   "execution_count": 35,
   "metadata": {},
   "outputs": [
    {
     "data": {
      "text/plain": [
       "{'Star Wars': 4, 'Titanic': 4, 'Gladyator': 5}"
      ]
     },
     "execution_count": 35,
     "metadata": {},
     "output_type": "execute_result"
    }
   ],
   "source": [
    "uzay_rating"
   ]
  },
  {
   "cell_type": "code",
   "execution_count": 37,
   "metadata": {},
   "outputs": [],
   "source": [
    "uzay_rating['X Files'] = 9"
   ]
  },
  {
   "cell_type": "code",
   "execution_count": 38,
   "metadata": {},
   "outputs": [
    {
     "data": {
      "text/plain": [
       "{'Star Wars': 4, 'Titanic': 4, 'Gladyator': 5, 'X Files': 9}"
      ]
     },
     "execution_count": 38,
     "metadata": {},
     "output_type": "execute_result"
    }
   ],
   "source": [
    "uzay_rating"
   ]
  },
  {
   "cell_type": "code",
   "execution_count": 40,
   "metadata": {},
   "outputs": [],
   "source": [
    "uzay_rating['Vizontele'] = 4"
   ]
  },
  {
   "cell_type": "code",
   "execution_count": 42,
   "metadata": {},
   "outputs": [],
   "source": [
    "uzay_rating.update([('where', 4)])"
   ]
  },
  {
   "cell_type": "code",
   "execution_count": 43,
   "metadata": {},
   "outputs": [
    {
     "data": {
      "text/plain": [
       "{'Star Wars': 4,\n",
       " 'Titanic': 4,\n",
       " 'Gladyator': 5,\n",
       " 'X Files': 9,\n",
       " 'Vizontele': 4,\n",
       " 'where': 4}"
      ]
     },
     "execution_count": 43,
     "metadata": {},
     "output_type": "execute_result"
    }
   ],
   "source": [
    "uzay_rating"
   ]
  },
  {
   "cell_type": "code",
   "execution_count": 45,
   "metadata": {},
   "outputs": [],
   "source": [
    "database = {'uzay': uzay_rating, 'ayse':ayse_rating}"
   ]
  },
  {
   "cell_type": "code",
   "execution_count": 46,
   "metadata": {},
   "outputs": [
    {
     "data": {
      "text/plain": [
       "{'uzay': {'Star Wars': 4,\n",
       "  'Titanic': 4,\n",
       "  'Gladyator': 5,\n",
       "  'X Files': 9,\n",
       "  'Vizontele': 4,\n",
       "  'where': 4},\n",
       " 'ayse': {'Star Wars': 3, 'Titanic': 5, 'Gladyator': 2}}"
      ]
     },
     "execution_count": 46,
     "metadata": {},
     "output_type": "execute_result"
    }
   ],
   "source": [
    "database"
   ]
  },
  {
   "cell_type": "code",
   "execution_count": 47,
   "metadata": {},
   "outputs": [
    {
     "data": {
      "text/plain": [
       "4"
      ]
     },
     "execution_count": 47,
     "metadata": {},
     "output_type": "execute_result"
    }
   ],
   "source": [
    "database['uzay']['Star Wars']"
   ]
  },
  {
   "cell_type": "code",
   "execution_count": 48,
   "metadata": {},
   "outputs": [
    {
     "data": {
      "text/plain": [
       "{'Star Wars': 4,\n",
       " 'Titanic': 4,\n",
       " 'Gladyator': 5,\n",
       " 'X Files': 9,\n",
       " 'Vizontele': 4,\n",
       " 'where': 4}"
      ]
     },
     "execution_count": 48,
     "metadata": {},
     "output_type": "execute_result"
    }
   ],
   "source": [
    "database['uzay']"
   ]
  },
  {
   "cell_type": "code",
   "execution_count": 54,
   "metadata": {},
   "outputs": [
    {
     "data": {
      "text/plain": [
       "[('Star Wars', 4), ('Titanic', 4), ('Vizontele', 4), ('where', 4)]"
      ]
     },
     "execution_count": 54,
     "metadata": {},
     "output_type": "execute_result"
    }
   ],
   "source": [
    "[ (k, v) for k, v in uzay_rating.items() if v == 4]"
   ]
  },
  {
   "cell_type": "code",
   "execution_count": 55,
   "metadata": {},
   "outputs": [
    {
     "data": {
      "text/plain": [
       "dict_items([('Star Wars', 4), ('Titanic', 4), ('Gladyator', 5), ('X Files', 9), ('Vizontele', 4), ('where', 4)])"
      ]
     },
     "execution_count": 55,
     "metadata": {},
     "output_type": "execute_result"
    }
   ],
   "source": [
    "uzay_rating.items()"
   ]
  },
  {
   "cell_type": "code",
   "execution_count": 57,
   "metadata": {},
   "outputs": [
    {
     "data": {
      "text/plain": [
       "[('X Files', 9)]"
      ]
     },
     "execution_count": 57,
     "metadata": {},
     "output_type": "execute_result"
    }
   ],
   "source": [
    "[ (k, v) for k, v in uzay_rating.items() if v > 5]"
   ]
  },
  {
   "cell_type": "code",
   "execution_count": null,
   "metadata": {},
   "outputs": [],
   "source": []
  },
  {
   "cell_type": "markdown",
   "metadata": {},
   "source": [
    "## Python Kumeler\n",
    " - tekrar yok"
   ]
  },
  {
   "cell_type": "code",
   "execution_count": 58,
   "metadata": {},
   "outputs": [],
   "source": [
    "lyrics = 'bye bye happiness bye bye loveliness'"
   ]
  },
  {
   "cell_type": "code",
   "execution_count": 60,
   "metadata": {},
   "outputs": [
    {
     "data": {
      "text/plain": [
       "['bye', 'bye', 'happiness', 'bye', 'bye', 'loveliness']"
      ]
     },
     "execution_count": 60,
     "metadata": {},
     "output_type": "execute_result"
    }
   ],
   "source": [
    "lyrics.split()"
   ]
  },
  {
   "cell_type": "code",
   "execution_count": 61,
   "metadata": {},
   "outputs": [
    {
     "data": {
      "text/plain": [
       "{'bye', 'happiness', 'loveliness'}"
      ]
     },
     "execution_count": 61,
     "metadata": {},
     "output_type": "execute_result"
    }
   ],
   "source": [
    "set(lyrics.split())"
   ]
  },
  {
   "cell_type": "markdown",
   "metadata": {},
   "source": [
    "## Fonksiyon"
   ]
  },
  {
   "cell_type": "code",
   "execution_count": 62,
   "metadata": {},
   "outputs": [],
   "source": [
    "# cumlede gecen x kelimesinin sayisi\n",
    "\n",
    "lyrics = 'bye bye happiness bye bye loveliness'\n",
    "kelime_listesi = lyrics.split()"
   ]
  },
  {
   "cell_type": "code",
   "execution_count": 63,
   "metadata": {},
   "outputs": [
    {
     "data": {
      "text/plain": [
       "['bye', 'bye', 'happiness', 'bye', 'bye', 'loveliness']"
      ]
     },
     "execution_count": 63,
     "metadata": {},
     "output_type": "execute_result"
    }
   ],
   "source": [
    "kelime_listesi"
   ]
  },
  {
   "cell_type": "code",
   "execution_count": 65,
   "metadata": {},
   "outputs": [],
   "source": [
    "kelime = 'bye'"
   ]
  },
  {
   "cell_type": "code",
   "execution_count": 66,
   "metadata": {},
   "outputs": [
    {
     "data": {
      "text/plain": [
       "4"
      ]
     },
     "execution_count": 66,
     "metadata": {},
     "output_type": "execute_result"
    }
   ],
   "source": [
    "sayi = 0 \n",
    "for k in kelime_listesi:\n",
    "    if k == kelime:\n",
    "        sayi = sayi + 1\n",
    "sayi"
   ]
  },
  {
   "cell_type": "code",
   "execution_count": 69,
   "metadata": {},
   "outputs": [
    {
     "data": {
      "text/plain": [
       "['bye', 'bye', 'bye', 'bye']"
      ]
     },
     "execution_count": 69,
     "metadata": {},
     "output_type": "execute_result"
    }
   ],
   "source": [
    "[k for k in kelime_listesi if k == kelime]"
   ]
  },
  {
   "cell_type": "code",
   "execution_count": 79,
   "metadata": {},
   "outputs": [],
   "source": [
    "def kelimeSayisiBul(metin, kelime):\n",
    "    kelime_listesi = metin.split()\n",
    "    \n",
    "    sayi = 0 \n",
    "    for k in kelime_listesi:\n",
    "        if k == kelime:\n",
    "            sayi = sayi + 1\n",
    "    return sayi"
   ]
  },
  {
   "cell_type": "code",
   "execution_count": 80,
   "metadata": {},
   "outputs": [
    {
     "data": {
      "text/plain": [
       "4"
      ]
     },
     "execution_count": 80,
     "metadata": {},
     "output_type": "execute_result"
    }
   ],
   "source": [
    "lyrics = 'bye bye happiness bye bye loveliness'\n",
    "kelimeSayisiBul(metin = lyrics, kelime = 'bye')"
   ]
  },
  {
   "cell_type": "code",
   "execution_count": 83,
   "metadata": {},
   "outputs": [
    {
     "data": {
      "text/plain": [
       "0"
      ]
     },
     "execution_count": 83,
     "metadata": {},
     "output_type": "execute_result"
    }
   ],
   "source": [
    "kelimeSayisiBul('bye', lyrics)"
   ]
  },
  {
   "cell_type": "code",
   "execution_count": 89,
   "metadata": {},
   "outputs": [],
   "source": [
    "class metinAnalizi():\n",
    "    def __init__(self, metin):\n",
    "        self.metin = metin\n",
    "        \n",
    "    def kelimeSayisiBul(self, kelime):\n",
    "        kelime_listesi = self.metin.split()\n",
    "\n",
    "        sayi = 0 \n",
    "        for k in kelime_listesi:\n",
    "            if k == kelime:\n",
    "                sayi = sayi + 1\n",
    "        return sayi"
   ]
  },
  {
   "cell_type": "code",
   "execution_count": 90,
   "metadata": {},
   "outputs": [],
   "source": [
    "m = metinAnalizi('merhaba dunya')"
   ]
  },
  {
   "cell_type": "code",
   "execution_count": 91,
   "metadata": {},
   "outputs": [
    {
     "data": {
      "text/plain": [
       "'merhaba dunya'"
      ]
     },
     "execution_count": 91,
     "metadata": {},
     "output_type": "execute_result"
    }
   ],
   "source": [
    "m.metin"
   ]
  },
  {
   "cell_type": "code",
   "execution_count": 94,
   "metadata": {},
   "outputs": [
    {
     "data": {
      "text/plain": [
       "1"
      ]
     },
     "execution_count": 94,
     "metadata": {},
     "output_type": "execute_result"
    }
   ],
   "source": [
    "m.kelimeSayisiBul('dunya')"
   ]
  },
  {
   "cell_type": "code",
   "execution_count": 99,
   "metadata": {},
   "outputs": [],
   "source": [
    "class cocukMetinAnalizi(metinAnalizi):\n",
    "    def __init__(self, metin):\n",
    "        metinAnalizi.__init__(self, metin)"
   ]
  },
  {
   "cell_type": "code",
   "execution_count": 100,
   "metadata": {},
   "outputs": [],
   "source": [
    "c = cocukMetinAnalizi('merhaba dunya')"
   ]
  },
  {
   "cell_type": "code",
   "execution_count": 101,
   "metadata": {},
   "outputs": [
    {
     "data": {
      "text/plain": [
       "1"
      ]
     },
     "execution_count": 101,
     "metadata": {},
     "output_type": "execute_result"
    }
   ],
   "source": [
    "c.kelimeSayisiBul('dunya')"
   ]
  },
  {
   "cell_type": "markdown",
   "metadata": {},
   "source": [
    "# Starbucks Icecek verileri"
   ]
  },
  {
   "cell_type": "code",
   "execution_count": 102,
   "metadata": {},
   "outputs": [],
   "source": [
    "import pandas as pd\n",
    "import numpy as np"
   ]
  },
  {
   "cell_type": "code",
   "execution_count": 103,
   "metadata": {},
   "outputs": [
    {
     "data": {
      "text/html": [
       "<div>\n",
       "<style scoped>\n",
       "    .dataframe tbody tr th:only-of-type {\n",
       "        vertical-align: middle;\n",
       "    }\n",
       "\n",
       "    .dataframe tbody tr th {\n",
       "        vertical-align: top;\n",
       "    }\n",
       "\n",
       "    .dataframe thead th {\n",
       "        text-align: right;\n",
       "    }\n",
       "</style>\n",
       "<table border=\"1\" class=\"dataframe\">\n",
       "  <thead>\n",
       "    <tr style=\"text-align: right;\">\n",
       "      <th></th>\n",
       "      <th>Unnamed: 0</th>\n",
       "      <th>Calories</th>\n",
       "      <th>Fat (g)</th>\n",
       "      <th>Carb. (g)</th>\n",
       "      <th>Fiber (g)</th>\n",
       "      <th>Protein</th>\n",
       "      <th>Sodium</th>\n",
       "    </tr>\n",
       "  </thead>\n",
       "  <tbody>\n",
       "    <tr>\n",
       "      <th>0</th>\n",
       "      <td>Cool Lime Starbucks Refreshers™ Beverage</td>\n",
       "      <td>45</td>\n",
       "      <td>0</td>\n",
       "      <td>11</td>\n",
       "      <td>0</td>\n",
       "      <td>0</td>\n",
       "      <td>10</td>\n",
       "    </tr>\n",
       "    <tr>\n",
       "      <th>1</th>\n",
       "      <td>Ombré Pink Drink</td>\n",
       "      <td>-</td>\n",
       "      <td>-</td>\n",
       "      <td>-</td>\n",
       "      <td>-</td>\n",
       "      <td>-</td>\n",
       "      <td>-</td>\n",
       "    </tr>\n",
       "    <tr>\n",
       "      <th>2</th>\n",
       "      <td>Pink Drink</td>\n",
       "      <td>-</td>\n",
       "      <td>-</td>\n",
       "      <td>-</td>\n",
       "      <td>-</td>\n",
       "      <td>-</td>\n",
       "      <td>-</td>\n",
       "    </tr>\n",
       "  </tbody>\n",
       "</table>\n",
       "</div>"
      ],
      "text/plain": [
       "                                 Unnamed: 0 Calories Fat (g) Carb. (g)  \\\n",
       "0  Cool Lime Starbucks Refreshers™ Beverage       45       0        11   \n",
       "1                          Ombré Pink Drink        -       -         -   \n",
       "2                                Pink Drink        -       -         -   \n",
       "\n",
       "  Fiber (g) Protein Sodium  \n",
       "0         0       0     10  \n",
       "1         -       -      -  \n",
       "2         -       -      -  "
      ]
     },
     "execution_count": 103,
     "metadata": {},
     "output_type": "execute_result"
    }
   ],
   "source": [
    "drink = pd.read_csv('veri/starbucks-menu-nutrition-drinks.csv')\n",
    "drink.head(3)"
   ]
  },
  {
   "cell_type": "code",
   "execution_count": 105,
   "metadata": {},
   "outputs": [
    {
     "data": {
      "text/html": [
       "<div>\n",
       "<style scoped>\n",
       "    .dataframe tbody tr th:only-of-type {\n",
       "        vertical-align: middle;\n",
       "    }\n",
       "\n",
       "    .dataframe tbody tr th {\n",
       "        vertical-align: top;\n",
       "    }\n",
       "\n",
       "    .dataframe thead th {\n",
       "        text-align: right;\n",
       "    }\n",
       "</style>\n",
       "<table border=\"1\" class=\"dataframe\">\n",
       "  <thead>\n",
       "    <tr style=\"text-align: right;\">\n",
       "      <th></th>\n",
       "      <th>Unnamed: 0</th>\n",
       "      <th>Calories</th>\n",
       "      <th>Fat (g)</th>\n",
       "      <th>Carb. (g)</th>\n",
       "      <th>Fiber (g)</th>\n",
       "      <th>Protein</th>\n",
       "      <th>Sodium</th>\n",
       "    </tr>\n",
       "  </thead>\n",
       "  <tbody>\n",
       "    <tr>\n",
       "      <th>0</th>\n",
       "      <td>Cool Lime Starbucks Refreshers™ Beverage</td>\n",
       "      <td>45</td>\n",
       "      <td>0</td>\n",
       "      <td>11</td>\n",
       "      <td>0</td>\n",
       "      <td>0</td>\n",
       "      <td>10</td>\n",
       "    </tr>\n",
       "    <tr>\n",
       "      <th>1</th>\n",
       "      <td>Ombré Pink Drink</td>\n",
       "      <td>-</td>\n",
       "      <td>-</td>\n",
       "      <td>-</td>\n",
       "      <td>-</td>\n",
       "      <td>-</td>\n",
       "      <td>-</td>\n",
       "    </tr>\n",
       "    <tr>\n",
       "      <th>2</th>\n",
       "      <td>Pink Drink</td>\n",
       "      <td>-</td>\n",
       "      <td>-</td>\n",
       "      <td>-</td>\n",
       "      <td>-</td>\n",
       "      <td>-</td>\n",
       "      <td>-</td>\n",
       "    </tr>\n",
       "    <tr>\n",
       "      <th>3</th>\n",
       "      <td>Strawberry Acai Starbucks Refreshers™ Beverage</td>\n",
       "      <td>80</td>\n",
       "      <td>0</td>\n",
       "      <td>18</td>\n",
       "      <td>1</td>\n",
       "      <td>0</td>\n",
       "      <td>10</td>\n",
       "    </tr>\n",
       "    <tr>\n",
       "      <th>4</th>\n",
       "      <td>Very Berry Hibiscus Starbucks Refreshers™ Beve...</td>\n",
       "      <td>60</td>\n",
       "      <td>0</td>\n",
       "      <td>14</td>\n",
       "      <td>1</td>\n",
       "      <td>0</td>\n",
       "      <td>10</td>\n",
       "    </tr>\n",
       "    <tr>\n",
       "      <th>5</th>\n",
       "      <td>Violet Drink</td>\n",
       "      <td>-</td>\n",
       "      <td>-</td>\n",
       "      <td>-</td>\n",
       "      <td>-</td>\n",
       "      <td>-</td>\n",
       "      <td>-</td>\n",
       "    </tr>\n",
       "    <tr>\n",
       "      <th>6</th>\n",
       "      <td>Evolution Fresh™ Cold-Pressed Apple Berry Juice</td>\n",
       "      <td>-</td>\n",
       "      <td>-</td>\n",
       "      <td>-</td>\n",
       "      <td>-</td>\n",
       "      <td>-</td>\n",
       "      <td>-</td>\n",
       "    </tr>\n",
       "    <tr>\n",
       "      <th>7</th>\n",
       "      <td>Evolution Fresh™ Defense Up</td>\n",
       "      <td>-</td>\n",
       "      <td>-</td>\n",
       "      <td>-</td>\n",
       "      <td>-</td>\n",
       "      <td>-</td>\n",
       "      <td>-</td>\n",
       "    </tr>\n",
       "    <tr>\n",
       "      <th>8</th>\n",
       "      <td>Evolution Fresh™ Organic Ginger Limeade</td>\n",
       "      <td>110</td>\n",
       "      <td>0</td>\n",
       "      <td>28</td>\n",
       "      <td>0</td>\n",
       "      <td>0</td>\n",
       "      <td>5</td>\n",
       "    </tr>\n",
       "    <tr>\n",
       "      <th>9</th>\n",
       "      <td>Iced Coffee</td>\n",
       "      <td>0</td>\n",
       "      <td>0</td>\n",
       "      <td>0</td>\n",
       "      <td>0</td>\n",
       "      <td>0</td>\n",
       "      <td>0</td>\n",
       "    </tr>\n",
       "    <tr>\n",
       "      <th>10</th>\n",
       "      <td>Iced Coffee with Milk</td>\n",
       "      <td>-</td>\n",
       "      <td>-</td>\n",
       "      <td>-</td>\n",
       "      <td>-</td>\n",
       "      <td>-</td>\n",
       "      <td>-</td>\n",
       "    </tr>\n",
       "    <tr>\n",
       "      <th>11</th>\n",
       "      <td>Iced Espresso Classics - Vanilla Latte</td>\n",
       "      <td>130</td>\n",
       "      <td>2.5</td>\n",
       "      <td>21</td>\n",
       "      <td>0</td>\n",
       "      <td>5</td>\n",
       "      <td>65</td>\n",
       "    </tr>\n",
       "    <tr>\n",
       "      <th>12</th>\n",
       "      <td>Iced Espresso Classics - Caffe Mocha</td>\n",
       "      <td>140</td>\n",
       "      <td>2.5</td>\n",
       "      <td>23</td>\n",
       "      <td>0</td>\n",
       "      <td>5</td>\n",
       "      <td>90</td>\n",
       "    </tr>\n",
       "    <tr>\n",
       "      <th>13</th>\n",
       "      <td>Iced Espresso Classics - Caramel Macchiato</td>\n",
       "      <td>130</td>\n",
       "      <td>2.5</td>\n",
       "      <td>21</td>\n",
       "      <td>0</td>\n",
       "      <td>5</td>\n",
       "      <td>65</td>\n",
       "    </tr>\n",
       "    <tr>\n",
       "      <th>14</th>\n",
       "      <td>Starbucks® Caramel Iced Coffee</td>\n",
       "      <td>-</td>\n",
       "      <td>-</td>\n",
       "      <td>-</td>\n",
       "      <td>-</td>\n",
       "      <td>-</td>\n",
       "      <td>-</td>\n",
       "    </tr>\n",
       "    <tr>\n",
       "      <th>15</th>\n",
       "      <td>Starbucks® Iced Coffee + Milk</td>\n",
       "      <td>-</td>\n",
       "      <td>-</td>\n",
       "      <td>-</td>\n",
       "      <td>-</td>\n",
       "      <td>-</td>\n",
       "      <td>-</td>\n",
       "    </tr>\n",
       "    <tr>\n",
       "      <th>16</th>\n",
       "      <td>Starbucks® Low Calorie Iced Coffee + Milk</td>\n",
       "      <td>-</td>\n",
       "      <td>-</td>\n",
       "      <td>-</td>\n",
       "      <td>-</td>\n",
       "      <td>-</td>\n",
       "      <td>-</td>\n",
       "    </tr>\n",
       "    <tr>\n",
       "      <th>17</th>\n",
       "      <td>Starbucks® Vanilla Iced Coffee</td>\n",
       "      <td>-</td>\n",
       "      <td>-</td>\n",
       "      <td>-</td>\n",
       "      <td>-</td>\n",
       "      <td>-</td>\n",
       "      <td>-</td>\n",
       "    </tr>\n",
       "    <tr>\n",
       "      <th>18</th>\n",
       "      <td>Shaken Sweet Tea</td>\n",
       "      <td>80</td>\n",
       "      <td>0</td>\n",
       "      <td>19</td>\n",
       "      <td>0</td>\n",
       "      <td>0</td>\n",
       "      <td>10</td>\n",
       "    </tr>\n",
       "    <tr>\n",
       "      <th>19</th>\n",
       "      <td>Tazo® Bottled Berry Blossom White</td>\n",
       "      <td>60</td>\n",
       "      <td>0</td>\n",
       "      <td>15</td>\n",
       "      <td>0</td>\n",
       "      <td>0</td>\n",
       "      <td>10</td>\n",
       "    </tr>\n",
       "    <tr>\n",
       "      <th>20</th>\n",
       "      <td>Tazo® Bottled Black Mango</td>\n",
       "      <td>150</td>\n",
       "      <td>0</td>\n",
       "      <td>38</td>\n",
       "      <td>0</td>\n",
       "      <td>0</td>\n",
       "      <td>15</td>\n",
       "    </tr>\n",
       "    <tr>\n",
       "      <th>21</th>\n",
       "      <td>Tazo® Bottled Black with Lemon</td>\n",
       "      <td>140</td>\n",
       "      <td>0</td>\n",
       "      <td>35</td>\n",
       "      <td>0</td>\n",
       "      <td>0</td>\n",
       "      <td>10</td>\n",
       "    </tr>\n",
       "    <tr>\n",
       "      <th>22</th>\n",
       "      <td>Tazo® Bottled Brambleberry</td>\n",
       "      <td>140</td>\n",
       "      <td>0</td>\n",
       "      <td>35</td>\n",
       "      <td>0</td>\n",
       "      <td>0</td>\n",
       "      <td>15</td>\n",
       "    </tr>\n",
       "    <tr>\n",
       "      <th>23</th>\n",
       "      <td>Tazo® Bottled Giant Peach</td>\n",
       "      <td>150</td>\n",
       "      <td>0</td>\n",
       "      <td>37</td>\n",
       "      <td>0</td>\n",
       "      <td>0</td>\n",
       "      <td>15</td>\n",
       "    </tr>\n",
       "    <tr>\n",
       "      <th>24</th>\n",
       "      <td>Tazo® Bottled Iced Passion</td>\n",
       "      <td>70</td>\n",
       "      <td>0</td>\n",
       "      <td>17</td>\n",
       "      <td>0</td>\n",
       "      <td>0</td>\n",
       "      <td>10</td>\n",
       "    </tr>\n",
       "    <tr>\n",
       "      <th>25</th>\n",
       "      <td>Tazo® Bottled Lemon Ginger</td>\n",
       "      <td>120</td>\n",
       "      <td>0</td>\n",
       "      <td>31</td>\n",
       "      <td>0</td>\n",
       "      <td>0</td>\n",
       "      <td>10</td>\n",
       "    </tr>\n",
       "    <tr>\n",
       "      <th>26</th>\n",
       "      <td>Tazo® Bottled Organic Black Lemonade</td>\n",
       "      <td>140</td>\n",
       "      <td>0</td>\n",
       "      <td>35</td>\n",
       "      <td>0</td>\n",
       "      <td>0</td>\n",
       "      <td>10</td>\n",
       "    </tr>\n",
       "    <tr>\n",
       "      <th>27</th>\n",
       "      <td>Tazo® Bottled Organic Iced Black Tea</td>\n",
       "      <td>60</td>\n",
       "      <td>0</td>\n",
       "      <td>15</td>\n",
       "      <td>0</td>\n",
       "      <td>0</td>\n",
       "      <td>10</td>\n",
       "    </tr>\n",
       "    <tr>\n",
       "      <th>28</th>\n",
       "      <td>Tazo® Bottled Organic Iced Green Tea</td>\n",
       "      <td>120</td>\n",
       "      <td>0</td>\n",
       "      <td>31</td>\n",
       "      <td>0</td>\n",
       "      <td>0</td>\n",
       "      <td>10</td>\n",
       "    </tr>\n",
       "    <tr>\n",
       "      <th>29</th>\n",
       "      <td>Tazo® Bottled Plum Pomegranate</td>\n",
       "      <td>140</td>\n",
       "      <td>0</td>\n",
       "      <td>35</td>\n",
       "      <td>0</td>\n",
       "      <td>0</td>\n",
       "      <td>10</td>\n",
       "    </tr>\n",
       "    <tr>\n",
       "      <th>...</th>\n",
       "      <td>...</td>\n",
       "      <td>...</td>\n",
       "      <td>...</td>\n",
       "      <td>...</td>\n",
       "      <td>...</td>\n",
       "      <td>...</td>\n",
       "      <td>...</td>\n",
       "    </tr>\n",
       "    <tr>\n",
       "      <th>147</th>\n",
       "      <td>Cinnamon Dolce Light Frappuccino® Blended Coffee</td>\n",
       "      <td>-</td>\n",
       "      <td>-</td>\n",
       "      <td>-</td>\n",
       "      <td>-</td>\n",
       "      <td>-</td>\n",
       "      <td>-</td>\n",
       "    </tr>\n",
       "    <tr>\n",
       "      <th>148</th>\n",
       "      <td>Cinnamon Roll Frappuccino® Blended Coffee</td>\n",
       "      <td>-</td>\n",
       "      <td>-</td>\n",
       "      <td>-</td>\n",
       "      <td>-</td>\n",
       "      <td>-</td>\n",
       "      <td>-</td>\n",
       "    </tr>\n",
       "    <tr>\n",
       "      <th>149</th>\n",
       "      <td>Coffee Frappuccino® Blended Coffee</td>\n",
       "      <td>-</td>\n",
       "      <td>-</td>\n",
       "      <td>-</td>\n",
       "      <td>-</td>\n",
       "      <td>-</td>\n",
       "      <td>-</td>\n",
       "    </tr>\n",
       "    <tr>\n",
       "      <th>150</th>\n",
       "      <td>Coffee Light Frappuccino® Blended Coffee</td>\n",
       "      <td>110</td>\n",
       "      <td>0</td>\n",
       "      <td>24</td>\n",
       "      <td>0</td>\n",
       "      <td>3</td>\n",
       "      <td>200</td>\n",
       "    </tr>\n",
       "    <tr>\n",
       "      <th>151</th>\n",
       "      <td>Cupcake Crème Frappuccino® Blended Crème</td>\n",
       "      <td>-</td>\n",
       "      <td>-</td>\n",
       "      <td>-</td>\n",
       "      <td>-</td>\n",
       "      <td>-</td>\n",
       "      <td>-</td>\n",
       "    </tr>\n",
       "    <tr>\n",
       "      <th>152</th>\n",
       "      <td>Green Tea Crème Frappuccino® Blended Crème</td>\n",
       "      <td>-</td>\n",
       "      <td>-</td>\n",
       "      <td>-</td>\n",
       "      <td>-</td>\n",
       "      <td>-</td>\n",
       "      <td>-</td>\n",
       "    </tr>\n",
       "    <tr>\n",
       "      <th>153</th>\n",
       "      <td>Java Chip Frappuccino® Blended Coffee</td>\n",
       "      <td>-</td>\n",
       "      <td>-</td>\n",
       "      <td>-</td>\n",
       "      <td>-</td>\n",
       "      <td>-</td>\n",
       "      <td>-</td>\n",
       "    </tr>\n",
       "    <tr>\n",
       "      <th>154</th>\n",
       "      <td>Java Chip Light Frappuccino® Blended Coffee</td>\n",
       "      <td>-</td>\n",
       "      <td>-</td>\n",
       "      <td>-</td>\n",
       "      <td>-</td>\n",
       "      <td>-</td>\n",
       "      <td>-</td>\n",
       "    </tr>\n",
       "    <tr>\n",
       "      <th>155</th>\n",
       "      <td>Lemon Bar Crème Frappuccino® Blended Crème</td>\n",
       "      <td>-</td>\n",
       "      <td>-</td>\n",
       "      <td>-</td>\n",
       "      <td>-</td>\n",
       "      <td>-</td>\n",
       "      <td>-</td>\n",
       "    </tr>\n",
       "    <tr>\n",
       "      <th>156</th>\n",
       "      <td>Midnight Mint Mocha Frappuccino® Blended Coffee</td>\n",
       "      <td>-</td>\n",
       "      <td>-</td>\n",
       "      <td>-</td>\n",
       "      <td>-</td>\n",
       "      <td>-</td>\n",
       "      <td>-</td>\n",
       "    </tr>\n",
       "    <tr>\n",
       "      <th>157</th>\n",
       "      <td>Midnight Mint Mocha Frappuccino® Blended Crème</td>\n",
       "      <td>-</td>\n",
       "      <td>-</td>\n",
       "      <td>-</td>\n",
       "      <td>-</td>\n",
       "      <td>-</td>\n",
       "      <td>-</td>\n",
       "    </tr>\n",
       "    <tr>\n",
       "      <th>158</th>\n",
       "      <td>Mocha Frappuccino® Blended Coffee</td>\n",
       "      <td>280</td>\n",
       "      <td>2.5</td>\n",
       "      <td>60</td>\n",
       "      <td>2</td>\n",
       "      <td>4</td>\n",
       "      <td>220</td>\n",
       "    </tr>\n",
       "    <tr>\n",
       "      <th>159</th>\n",
       "      <td>Mocha Light Frappuccino® Blended Coffee</td>\n",
       "      <td>140</td>\n",
       "      <td>0.5</td>\n",
       "      <td>28</td>\n",
       "      <td>1</td>\n",
       "      <td>4</td>\n",
       "      <td>180</td>\n",
       "    </tr>\n",
       "    <tr>\n",
       "      <th>160</th>\n",
       "      <td>Oprah Cinnamon Chai Crème Frappuccino® Blended...</td>\n",
       "      <td>-</td>\n",
       "      <td>-</td>\n",
       "      <td>-</td>\n",
       "      <td>-</td>\n",
       "      <td>-</td>\n",
       "      <td>-</td>\n",
       "    </tr>\n",
       "    <tr>\n",
       "      <th>161</th>\n",
       "      <td>Red Velvet Cake Crème Frappuccino® Blended Crème</td>\n",
       "      <td>-</td>\n",
       "      <td>-</td>\n",
       "      <td>-</td>\n",
       "      <td>-</td>\n",
       "      <td>-</td>\n",
       "      <td>-</td>\n",
       "    </tr>\n",
       "    <tr>\n",
       "      <th>162</th>\n",
       "      <td>S'mores Frappuccino® Blended Coffee</td>\n",
       "      <td>-</td>\n",
       "      <td>-</td>\n",
       "      <td>-</td>\n",
       "      <td>-</td>\n",
       "      <td>-</td>\n",
       "      <td>-</td>\n",
       "    </tr>\n",
       "    <tr>\n",
       "      <th>163</th>\n",
       "      <td>S'mores Frappuccino® Blended Crème</td>\n",
       "      <td>-</td>\n",
       "      <td>-</td>\n",
       "      <td>-</td>\n",
       "      <td>-</td>\n",
       "      <td>-</td>\n",
       "      <td>-</td>\n",
       "    </tr>\n",
       "    <tr>\n",
       "      <th>164</th>\n",
       "      <td>Strawberries &amp; Crème Frappuccino® Blended Crème</td>\n",
       "      <td>-</td>\n",
       "      <td>-</td>\n",
       "      <td>-</td>\n",
       "      <td>-</td>\n",
       "      <td>-</td>\n",
       "      <td>-</td>\n",
       "    </tr>\n",
       "    <tr>\n",
       "      <th>165</th>\n",
       "      <td>The Pokémon™ GO Frappuccino® Blended Beverage</td>\n",
       "      <td>-</td>\n",
       "      <td>-</td>\n",
       "      <td>-</td>\n",
       "      <td>-</td>\n",
       "      <td>-</td>\n",
       "      <td>-</td>\n",
       "    </tr>\n",
       "    <tr>\n",
       "      <th>166</th>\n",
       "      <td>Vanilla Bean Crème Frappuccino® Blended Crème</td>\n",
       "      <td>-</td>\n",
       "      <td>-</td>\n",
       "      <td>-</td>\n",
       "      <td>-</td>\n",
       "      <td>-</td>\n",
       "      <td>-</td>\n",
       "    </tr>\n",
       "    <tr>\n",
       "      <th>167</th>\n",
       "      <td>White Chocolate Mocha Frappuccino® Blended Coffee</td>\n",
       "      <td>-</td>\n",
       "      <td>-</td>\n",
       "      <td>-</td>\n",
       "      <td>-</td>\n",
       "      <td>-</td>\n",
       "      <td>-</td>\n",
       "    </tr>\n",
       "    <tr>\n",
       "      <th>168</th>\n",
       "      <td>Cinnamon Dolce Crème</td>\n",
       "      <td>200</td>\n",
       "      <td>6</td>\n",
       "      <td>28</td>\n",
       "      <td>0</td>\n",
       "      <td>10</td>\n",
       "      <td>135</td>\n",
       "    </tr>\n",
       "    <tr>\n",
       "      <th>169</th>\n",
       "      <td>Organic Chocolate Milk Box</td>\n",
       "      <td>-</td>\n",
       "      <td>-</td>\n",
       "      <td>-</td>\n",
       "      <td>-</td>\n",
       "      <td>-</td>\n",
       "      <td>-</td>\n",
       "    </tr>\n",
       "    <tr>\n",
       "      <th>170</th>\n",
       "      <td>Steamed Apple Juice</td>\n",
       "      <td>-</td>\n",
       "      <td>-</td>\n",
       "      <td>-</td>\n",
       "      <td>-</td>\n",
       "      <td>-</td>\n",
       "      <td>-</td>\n",
       "    </tr>\n",
       "    <tr>\n",
       "      <th>171</th>\n",
       "      <td>Vanilla Crème</td>\n",
       "      <td>200</td>\n",
       "      <td>6</td>\n",
       "      <td>28</td>\n",
       "      <td>0</td>\n",
       "      <td>10</td>\n",
       "      <td>135</td>\n",
       "    </tr>\n",
       "    <tr>\n",
       "      <th>172</th>\n",
       "      <td>Chocolate Smoothie</td>\n",
       "      <td>320</td>\n",
       "      <td>5</td>\n",
       "      <td>53</td>\n",
       "      <td>8</td>\n",
       "      <td>20</td>\n",
       "      <td>170</td>\n",
       "    </tr>\n",
       "    <tr>\n",
       "      <th>173</th>\n",
       "      <td>Strawberry Smoothie</td>\n",
       "      <td>300</td>\n",
       "      <td>2</td>\n",
       "      <td>60</td>\n",
       "      <td>7</td>\n",
       "      <td>16</td>\n",
       "      <td>130</td>\n",
       "    </tr>\n",
       "    <tr>\n",
       "      <th>174</th>\n",
       "      <td>Ginger Ale</td>\n",
       "      <td>-</td>\n",
       "      <td>-</td>\n",
       "      <td>-</td>\n",
       "      <td>-</td>\n",
       "      <td>-</td>\n",
       "      <td>-</td>\n",
       "    </tr>\n",
       "    <tr>\n",
       "      <th>175</th>\n",
       "      <td>Lemon Ale</td>\n",
       "      <td>-</td>\n",
       "      <td>-</td>\n",
       "      <td>-</td>\n",
       "      <td>-</td>\n",
       "      <td>-</td>\n",
       "      <td>-</td>\n",
       "    </tr>\n",
       "    <tr>\n",
       "      <th>176</th>\n",
       "      <td>Orange Cream Soda</td>\n",
       "      <td>-</td>\n",
       "      <td>-</td>\n",
       "      <td>-</td>\n",
       "      <td>-</td>\n",
       "      <td>-</td>\n",
       "      <td>-</td>\n",
       "    </tr>\n",
       "  </tbody>\n",
       "</table>\n",
       "<p>177 rows × 7 columns</p>\n",
       "</div>"
      ],
      "text/plain": [
       "                                            Unnamed: 0 Calories Fat (g)  \\\n",
       "0             Cool Lime Starbucks Refreshers™ Beverage       45       0   \n",
       "1                                     Ombré Pink Drink        -       -   \n",
       "2                                           Pink Drink        -       -   \n",
       "3       Strawberry Acai Starbucks Refreshers™ Beverage       80       0   \n",
       "4    Very Berry Hibiscus Starbucks Refreshers™ Beve...       60       0   \n",
       "5                                         Violet Drink        -       -   \n",
       "6      Evolution Fresh™ Cold-Pressed Apple Berry Juice        -       -   \n",
       "7                          Evolution Fresh™ Defense Up        -       -   \n",
       "8              Evolution Fresh™ Organic Ginger Limeade      110       0   \n",
       "9                                          Iced Coffee        0       0   \n",
       "10                               Iced Coffee with Milk        -       -   \n",
       "11              Iced Espresso Classics - Vanilla Latte      130     2.5   \n",
       "12                Iced Espresso Classics - Caffe Mocha      140     2.5   \n",
       "13          Iced Espresso Classics - Caramel Macchiato      130     2.5   \n",
       "14                      Starbucks® Caramel Iced Coffee        -       -   \n",
       "15                       Starbucks® Iced Coffee + Milk        -       -   \n",
       "16           Starbucks® Low Calorie Iced Coffee + Milk        -       -   \n",
       "17                      Starbucks® Vanilla Iced Coffee        -       -   \n",
       "18                                    Shaken Sweet Tea       80       0   \n",
       "19                   Tazo® Bottled Berry Blossom White       60       0   \n",
       "20                           Tazo® Bottled Black Mango      150       0   \n",
       "21                      Tazo® Bottled Black with Lemon      140       0   \n",
       "22                          Tazo® Bottled Brambleberry      140       0   \n",
       "23                           Tazo® Bottled Giant Peach      150       0   \n",
       "24                          Tazo® Bottled Iced Passion       70       0   \n",
       "25                          Tazo® Bottled Lemon Ginger      120       0   \n",
       "26                Tazo® Bottled Organic Black Lemonade      140       0   \n",
       "27                Tazo® Bottled Organic Iced Black Tea       60       0   \n",
       "28                Tazo® Bottled Organic Iced Green Tea      120       0   \n",
       "29                      Tazo® Bottled Plum Pomegranate      140       0   \n",
       "..                                                 ...      ...     ...   \n",
       "147   Cinnamon Dolce Light Frappuccino® Blended Coffee        -       -   \n",
       "148          Cinnamon Roll Frappuccino® Blended Coffee        -       -   \n",
       "149                 Coffee Frappuccino® Blended Coffee        -       -   \n",
       "150           Coffee Light Frappuccino® Blended Coffee      110       0   \n",
       "151           Cupcake Crème Frappuccino® Blended Crème        -       -   \n",
       "152         Green Tea Crème Frappuccino® Blended Crème        -       -   \n",
       "153              Java Chip Frappuccino® Blended Coffee        -       -   \n",
       "154        Java Chip Light Frappuccino® Blended Coffee        -       -   \n",
       "155         Lemon Bar Crème Frappuccino® Blended Crème        -       -   \n",
       "156    Midnight Mint Mocha Frappuccino® Blended Coffee        -       -   \n",
       "157     Midnight Mint Mocha Frappuccino® Blended Crème        -       -   \n",
       "158                  Mocha Frappuccino® Blended Coffee      280     2.5   \n",
       "159            Mocha Light Frappuccino® Blended Coffee      140     0.5   \n",
       "160  Oprah Cinnamon Chai Crème Frappuccino® Blended...        -       -   \n",
       "161   Red Velvet Cake Crème Frappuccino® Blended Crème        -       -   \n",
       "162                S'mores Frappuccino® Blended Coffee        -       -   \n",
       "163                 S'mores Frappuccino® Blended Crème        -       -   \n",
       "164    Strawberries & Crème Frappuccino® Blended Crème        -       -   \n",
       "165      The Pokémon™ GO Frappuccino® Blended Beverage        -       -   \n",
       "166      Vanilla Bean Crème Frappuccino® Blended Crème        -       -   \n",
       "167  White Chocolate Mocha Frappuccino® Blended Coffee        -       -   \n",
       "168                               Cinnamon Dolce Crème      200       6   \n",
       "169                         Organic Chocolate Milk Box        -       -   \n",
       "170                                Steamed Apple Juice        -       -   \n",
       "171                                      Vanilla Crème      200       6   \n",
       "172                                 Chocolate Smoothie      320       5   \n",
       "173                                Strawberry Smoothie      300       2   \n",
       "174                                         Ginger Ale        -       -   \n",
       "175                                          Lemon Ale        -       -   \n",
       "176                                  Orange Cream Soda        -       -   \n",
       "\n",
       "    Carb. (g) Fiber (g) Protein Sodium  \n",
       "0          11         0       0     10  \n",
       "1           -         -       -      -  \n",
       "2           -         -       -      -  \n",
       "3          18         1       0     10  \n",
       "4          14         1       0     10  \n",
       "5           -         -       -      -  \n",
       "6           -         -       -      -  \n",
       "7           -         -       -      -  \n",
       "8          28         0       0      5  \n",
       "9           0         0       0      0  \n",
       "10          -         -       -      -  \n",
       "11         21         0       5     65  \n",
       "12         23         0       5     90  \n",
       "13         21         0       5     65  \n",
       "14          -         -       -      -  \n",
       "15          -         -       -      -  \n",
       "16          -         -       -      -  \n",
       "17          -         -       -      -  \n",
       "18         19         0       0     10  \n",
       "19         15         0       0     10  \n",
       "20         38         0       0     15  \n",
       "21         35         0       0     10  \n",
       "22         35         0       0     15  \n",
       "23         37         0       0     15  \n",
       "24         17         0       0     10  \n",
       "25         31         0       0     10  \n",
       "26         35         0       0     10  \n",
       "27         15         0       0     10  \n",
       "28         31         0       0     10  \n",
       "29         35         0       0     10  \n",
       "..        ...       ...     ...    ...  \n",
       "147         -         -       -      -  \n",
       "148         -         -       -      -  \n",
       "149         -         -       -      -  \n",
       "150        24         0       3    200  \n",
       "151         -         -       -      -  \n",
       "152         -         -       -      -  \n",
       "153         -         -       -      -  \n",
       "154         -         -       -      -  \n",
       "155         -         -       -      -  \n",
       "156         -         -       -      -  \n",
       "157         -         -       -      -  \n",
       "158        60         2       4    220  \n",
       "159        28         1       4    180  \n",
       "160         -         -       -      -  \n",
       "161         -         -       -      -  \n",
       "162         -         -       -      -  \n",
       "163         -         -       -      -  \n",
       "164         -         -       -      -  \n",
       "165         -         -       -      -  \n",
       "166         -         -       -      -  \n",
       "167         -         -       -      -  \n",
       "168        28         0      10    135  \n",
       "169         -         -       -      -  \n",
       "170         -         -       -      -  \n",
       "171        28         0      10    135  \n",
       "172        53         8      20    170  \n",
       "173        60         7      16    130  \n",
       "174         -         -       -      -  \n",
       "175         -         -       -      -  \n",
       "176         -         -       -      -  \n",
       "\n",
       "[177 rows x 7 columns]"
      ]
     },
     "execution_count": 105,
     "metadata": {},
     "output_type": "execute_result"
    }
   ],
   "source": [
    "drink"
   ]
  },
  {
   "cell_type": "markdown",
   "metadata": {},
   "source": [
    "## Sorular\n",
    " - 1. Kalorosi en yuksek icecegi bulun\n",
    " - 2. iceceklerin kalorisini histogram ile gosterin"
   ]
  },
  {
   "cell_type": "code",
   "execution_count": 104,
   "metadata": {},
   "outputs": [
    {
     "data": {
      "text/plain": [
       "0       45\n",
       "1        -\n",
       "2        -\n",
       "3       80\n",
       "4       60\n",
       "5        -\n",
       "6        -\n",
       "7        -\n",
       "8      110\n",
       "9        0\n",
       "10       -\n",
       "11     130\n",
       "12     140\n",
       "13     130\n",
       "14       -\n",
       "15       -\n",
       "16       -\n",
       "17       -\n",
       "18      80\n",
       "19      60\n",
       "20     150\n",
       "21     140\n",
       "22     140\n",
       "23     150\n",
       "24      70\n",
       "25     120\n",
       "26     140\n",
       "27      60\n",
       "28     120\n",
       "29     140\n",
       "      ... \n",
       "147      -\n",
       "148      -\n",
       "149      -\n",
       "150    110\n",
       "151      -\n",
       "152      -\n",
       "153      -\n",
       "154      -\n",
       "155      -\n",
       "156      -\n",
       "157      -\n",
       "158    280\n",
       "159    140\n",
       "160      -\n",
       "161      -\n",
       "162      -\n",
       "163      -\n",
       "164      -\n",
       "165      -\n",
       "166      -\n",
       "167      -\n",
       "168    200\n",
       "169      -\n",
       "170      -\n",
       "171    200\n",
       "172    320\n",
       "173    300\n",
       "174      -\n",
       "175      -\n",
       "176      -\n",
       "Name: Calories, Length: 177, dtype: object"
      ]
     },
     "execution_count": 104,
     "metadata": {},
     "output_type": "execute_result"
    }
   ],
   "source": [
    "drink['Calories']"
   ]
  },
  {
   "cell_type": "code",
   "execution_count": 106,
   "metadata": {},
   "outputs": [],
   "source": [
    "f = lambda x: int(x) if x != '-' else 0"
   ]
  },
  {
   "cell_type": "code",
   "execution_count": 107,
   "metadata": {},
   "outputs": [],
   "source": [
    "drink['Calories'] = drink['Calories'].apply(f)"
   ]
  },
  {
   "cell_type": "code",
   "execution_count": 108,
   "metadata": {},
   "outputs": [
    {
     "data": {
      "text/html": [
       "<div>\n",
       "<style scoped>\n",
       "    .dataframe tbody tr th:only-of-type {\n",
       "        vertical-align: middle;\n",
       "    }\n",
       "\n",
       "    .dataframe tbody tr th {\n",
       "        vertical-align: top;\n",
       "    }\n",
       "\n",
       "    .dataframe thead th {\n",
       "        text-align: right;\n",
       "    }\n",
       "</style>\n",
       "<table border=\"1\" class=\"dataframe\">\n",
       "  <thead>\n",
       "    <tr style=\"text-align: right;\">\n",
       "      <th></th>\n",
       "      <th>Unnamed: 0</th>\n",
       "      <th>Calories</th>\n",
       "      <th>Fat (g)</th>\n",
       "      <th>Carb. (g)</th>\n",
       "      <th>Fiber (g)</th>\n",
       "      <th>Protein</th>\n",
       "      <th>Sodium</th>\n",
       "    </tr>\n",
       "  </thead>\n",
       "  <tbody>\n",
       "    <tr>\n",
       "      <th>0</th>\n",
       "      <td>Cool Lime Starbucks Refreshers™ Beverage</td>\n",
       "      <td>45</td>\n",
       "      <td>0</td>\n",
       "      <td>11</td>\n",
       "      <td>0</td>\n",
       "      <td>0</td>\n",
       "      <td>10</td>\n",
       "    </tr>\n",
       "    <tr>\n",
       "      <th>1</th>\n",
       "      <td>Ombré Pink Drink</td>\n",
       "      <td>0</td>\n",
       "      <td>-</td>\n",
       "      <td>-</td>\n",
       "      <td>-</td>\n",
       "      <td>-</td>\n",
       "      <td>-</td>\n",
       "    </tr>\n",
       "    <tr>\n",
       "      <th>2</th>\n",
       "      <td>Pink Drink</td>\n",
       "      <td>0</td>\n",
       "      <td>-</td>\n",
       "      <td>-</td>\n",
       "      <td>-</td>\n",
       "      <td>-</td>\n",
       "      <td>-</td>\n",
       "    </tr>\n",
       "    <tr>\n",
       "      <th>3</th>\n",
       "      <td>Strawberry Acai Starbucks Refreshers™ Beverage</td>\n",
       "      <td>80</td>\n",
       "      <td>0</td>\n",
       "      <td>18</td>\n",
       "      <td>1</td>\n",
       "      <td>0</td>\n",
       "      <td>10</td>\n",
       "    </tr>\n",
       "    <tr>\n",
       "      <th>4</th>\n",
       "      <td>Very Berry Hibiscus Starbucks Refreshers™ Beve...</td>\n",
       "      <td>60</td>\n",
       "      <td>0</td>\n",
       "      <td>14</td>\n",
       "      <td>1</td>\n",
       "      <td>0</td>\n",
       "      <td>10</td>\n",
       "    </tr>\n",
       "    <tr>\n",
       "      <th>5</th>\n",
       "      <td>Violet Drink</td>\n",
       "      <td>0</td>\n",
       "      <td>-</td>\n",
       "      <td>-</td>\n",
       "      <td>-</td>\n",
       "      <td>-</td>\n",
       "      <td>-</td>\n",
       "    </tr>\n",
       "    <tr>\n",
       "      <th>6</th>\n",
       "      <td>Evolution Fresh™ Cold-Pressed Apple Berry Juice</td>\n",
       "      <td>0</td>\n",
       "      <td>-</td>\n",
       "      <td>-</td>\n",
       "      <td>-</td>\n",
       "      <td>-</td>\n",
       "      <td>-</td>\n",
       "    </tr>\n",
       "    <tr>\n",
       "      <th>7</th>\n",
       "      <td>Evolution Fresh™ Defense Up</td>\n",
       "      <td>0</td>\n",
       "      <td>-</td>\n",
       "      <td>-</td>\n",
       "      <td>-</td>\n",
       "      <td>-</td>\n",
       "      <td>-</td>\n",
       "    </tr>\n",
       "    <tr>\n",
       "      <th>8</th>\n",
       "      <td>Evolution Fresh™ Organic Ginger Limeade</td>\n",
       "      <td>110</td>\n",
       "      <td>0</td>\n",
       "      <td>28</td>\n",
       "      <td>0</td>\n",
       "      <td>0</td>\n",
       "      <td>5</td>\n",
       "    </tr>\n",
       "    <tr>\n",
       "      <th>9</th>\n",
       "      <td>Iced Coffee</td>\n",
       "      <td>0</td>\n",
       "      <td>0</td>\n",
       "      <td>0</td>\n",
       "      <td>0</td>\n",
       "      <td>0</td>\n",
       "      <td>0</td>\n",
       "    </tr>\n",
       "    <tr>\n",
       "      <th>10</th>\n",
       "      <td>Iced Coffee with Milk</td>\n",
       "      <td>0</td>\n",
       "      <td>-</td>\n",
       "      <td>-</td>\n",
       "      <td>-</td>\n",
       "      <td>-</td>\n",
       "      <td>-</td>\n",
       "    </tr>\n",
       "    <tr>\n",
       "      <th>11</th>\n",
       "      <td>Iced Espresso Classics - Vanilla Latte</td>\n",
       "      <td>130</td>\n",
       "      <td>2.5</td>\n",
       "      <td>21</td>\n",
       "      <td>0</td>\n",
       "      <td>5</td>\n",
       "      <td>65</td>\n",
       "    </tr>\n",
       "    <tr>\n",
       "      <th>12</th>\n",
       "      <td>Iced Espresso Classics - Caffe Mocha</td>\n",
       "      <td>140</td>\n",
       "      <td>2.5</td>\n",
       "      <td>23</td>\n",
       "      <td>0</td>\n",
       "      <td>5</td>\n",
       "      <td>90</td>\n",
       "    </tr>\n",
       "    <tr>\n",
       "      <th>13</th>\n",
       "      <td>Iced Espresso Classics - Caramel Macchiato</td>\n",
       "      <td>130</td>\n",
       "      <td>2.5</td>\n",
       "      <td>21</td>\n",
       "      <td>0</td>\n",
       "      <td>5</td>\n",
       "      <td>65</td>\n",
       "    </tr>\n",
       "    <tr>\n",
       "      <th>14</th>\n",
       "      <td>Starbucks® Caramel Iced Coffee</td>\n",
       "      <td>0</td>\n",
       "      <td>-</td>\n",
       "      <td>-</td>\n",
       "      <td>-</td>\n",
       "      <td>-</td>\n",
       "      <td>-</td>\n",
       "    </tr>\n",
       "    <tr>\n",
       "      <th>15</th>\n",
       "      <td>Starbucks® Iced Coffee + Milk</td>\n",
       "      <td>0</td>\n",
       "      <td>-</td>\n",
       "      <td>-</td>\n",
       "      <td>-</td>\n",
       "      <td>-</td>\n",
       "      <td>-</td>\n",
       "    </tr>\n",
       "    <tr>\n",
       "      <th>16</th>\n",
       "      <td>Starbucks® Low Calorie Iced Coffee + Milk</td>\n",
       "      <td>0</td>\n",
       "      <td>-</td>\n",
       "      <td>-</td>\n",
       "      <td>-</td>\n",
       "      <td>-</td>\n",
       "      <td>-</td>\n",
       "    </tr>\n",
       "    <tr>\n",
       "      <th>17</th>\n",
       "      <td>Starbucks® Vanilla Iced Coffee</td>\n",
       "      <td>0</td>\n",
       "      <td>-</td>\n",
       "      <td>-</td>\n",
       "      <td>-</td>\n",
       "      <td>-</td>\n",
       "      <td>-</td>\n",
       "    </tr>\n",
       "    <tr>\n",
       "      <th>18</th>\n",
       "      <td>Shaken Sweet Tea</td>\n",
       "      <td>80</td>\n",
       "      <td>0</td>\n",
       "      <td>19</td>\n",
       "      <td>0</td>\n",
       "      <td>0</td>\n",
       "      <td>10</td>\n",
       "    </tr>\n",
       "    <tr>\n",
       "      <th>19</th>\n",
       "      <td>Tazo® Bottled Berry Blossom White</td>\n",
       "      <td>60</td>\n",
       "      <td>0</td>\n",
       "      <td>15</td>\n",
       "      <td>0</td>\n",
       "      <td>0</td>\n",
       "      <td>10</td>\n",
       "    </tr>\n",
       "    <tr>\n",
       "      <th>20</th>\n",
       "      <td>Tazo® Bottled Black Mango</td>\n",
       "      <td>150</td>\n",
       "      <td>0</td>\n",
       "      <td>38</td>\n",
       "      <td>0</td>\n",
       "      <td>0</td>\n",
       "      <td>15</td>\n",
       "    </tr>\n",
       "    <tr>\n",
       "      <th>21</th>\n",
       "      <td>Tazo® Bottled Black with Lemon</td>\n",
       "      <td>140</td>\n",
       "      <td>0</td>\n",
       "      <td>35</td>\n",
       "      <td>0</td>\n",
       "      <td>0</td>\n",
       "      <td>10</td>\n",
       "    </tr>\n",
       "    <tr>\n",
       "      <th>22</th>\n",
       "      <td>Tazo® Bottled Brambleberry</td>\n",
       "      <td>140</td>\n",
       "      <td>0</td>\n",
       "      <td>35</td>\n",
       "      <td>0</td>\n",
       "      <td>0</td>\n",
       "      <td>15</td>\n",
       "    </tr>\n",
       "    <tr>\n",
       "      <th>23</th>\n",
       "      <td>Tazo® Bottled Giant Peach</td>\n",
       "      <td>150</td>\n",
       "      <td>0</td>\n",
       "      <td>37</td>\n",
       "      <td>0</td>\n",
       "      <td>0</td>\n",
       "      <td>15</td>\n",
       "    </tr>\n",
       "    <tr>\n",
       "      <th>24</th>\n",
       "      <td>Tazo® Bottled Iced Passion</td>\n",
       "      <td>70</td>\n",
       "      <td>0</td>\n",
       "      <td>17</td>\n",
       "      <td>0</td>\n",
       "      <td>0</td>\n",
       "      <td>10</td>\n",
       "    </tr>\n",
       "    <tr>\n",
       "      <th>25</th>\n",
       "      <td>Tazo® Bottled Lemon Ginger</td>\n",
       "      <td>120</td>\n",
       "      <td>0</td>\n",
       "      <td>31</td>\n",
       "      <td>0</td>\n",
       "      <td>0</td>\n",
       "      <td>10</td>\n",
       "    </tr>\n",
       "    <tr>\n",
       "      <th>26</th>\n",
       "      <td>Tazo® Bottled Organic Black Lemonade</td>\n",
       "      <td>140</td>\n",
       "      <td>0</td>\n",
       "      <td>35</td>\n",
       "      <td>0</td>\n",
       "      <td>0</td>\n",
       "      <td>10</td>\n",
       "    </tr>\n",
       "    <tr>\n",
       "      <th>27</th>\n",
       "      <td>Tazo® Bottled Organic Iced Black Tea</td>\n",
       "      <td>60</td>\n",
       "      <td>0</td>\n",
       "      <td>15</td>\n",
       "      <td>0</td>\n",
       "      <td>0</td>\n",
       "      <td>10</td>\n",
       "    </tr>\n",
       "    <tr>\n",
       "      <th>28</th>\n",
       "      <td>Tazo® Bottled Organic Iced Green Tea</td>\n",
       "      <td>120</td>\n",
       "      <td>0</td>\n",
       "      <td>31</td>\n",
       "      <td>0</td>\n",
       "      <td>0</td>\n",
       "      <td>10</td>\n",
       "    </tr>\n",
       "    <tr>\n",
       "      <th>29</th>\n",
       "      <td>Tazo® Bottled Plum Pomegranate</td>\n",
       "      <td>140</td>\n",
       "      <td>0</td>\n",
       "      <td>35</td>\n",
       "      <td>0</td>\n",
       "      <td>0</td>\n",
       "      <td>10</td>\n",
       "    </tr>\n",
       "    <tr>\n",
       "      <th>...</th>\n",
       "      <td>...</td>\n",
       "      <td>...</td>\n",
       "      <td>...</td>\n",
       "      <td>...</td>\n",
       "      <td>...</td>\n",
       "      <td>...</td>\n",
       "      <td>...</td>\n",
       "    </tr>\n",
       "    <tr>\n",
       "      <th>147</th>\n",
       "      <td>Cinnamon Dolce Light Frappuccino® Blended Coffee</td>\n",
       "      <td>0</td>\n",
       "      <td>-</td>\n",
       "      <td>-</td>\n",
       "      <td>-</td>\n",
       "      <td>-</td>\n",
       "      <td>-</td>\n",
       "    </tr>\n",
       "    <tr>\n",
       "      <th>148</th>\n",
       "      <td>Cinnamon Roll Frappuccino® Blended Coffee</td>\n",
       "      <td>0</td>\n",
       "      <td>-</td>\n",
       "      <td>-</td>\n",
       "      <td>-</td>\n",
       "      <td>-</td>\n",
       "      <td>-</td>\n",
       "    </tr>\n",
       "    <tr>\n",
       "      <th>149</th>\n",
       "      <td>Coffee Frappuccino® Blended Coffee</td>\n",
       "      <td>0</td>\n",
       "      <td>-</td>\n",
       "      <td>-</td>\n",
       "      <td>-</td>\n",
       "      <td>-</td>\n",
       "      <td>-</td>\n",
       "    </tr>\n",
       "    <tr>\n",
       "      <th>150</th>\n",
       "      <td>Coffee Light Frappuccino® Blended Coffee</td>\n",
       "      <td>110</td>\n",
       "      <td>0</td>\n",
       "      <td>24</td>\n",
       "      <td>0</td>\n",
       "      <td>3</td>\n",
       "      <td>200</td>\n",
       "    </tr>\n",
       "    <tr>\n",
       "      <th>151</th>\n",
       "      <td>Cupcake Crème Frappuccino® Blended Crème</td>\n",
       "      <td>0</td>\n",
       "      <td>-</td>\n",
       "      <td>-</td>\n",
       "      <td>-</td>\n",
       "      <td>-</td>\n",
       "      <td>-</td>\n",
       "    </tr>\n",
       "    <tr>\n",
       "      <th>152</th>\n",
       "      <td>Green Tea Crème Frappuccino® Blended Crème</td>\n",
       "      <td>0</td>\n",
       "      <td>-</td>\n",
       "      <td>-</td>\n",
       "      <td>-</td>\n",
       "      <td>-</td>\n",
       "      <td>-</td>\n",
       "    </tr>\n",
       "    <tr>\n",
       "      <th>153</th>\n",
       "      <td>Java Chip Frappuccino® Blended Coffee</td>\n",
       "      <td>0</td>\n",
       "      <td>-</td>\n",
       "      <td>-</td>\n",
       "      <td>-</td>\n",
       "      <td>-</td>\n",
       "      <td>-</td>\n",
       "    </tr>\n",
       "    <tr>\n",
       "      <th>154</th>\n",
       "      <td>Java Chip Light Frappuccino® Blended Coffee</td>\n",
       "      <td>0</td>\n",
       "      <td>-</td>\n",
       "      <td>-</td>\n",
       "      <td>-</td>\n",
       "      <td>-</td>\n",
       "      <td>-</td>\n",
       "    </tr>\n",
       "    <tr>\n",
       "      <th>155</th>\n",
       "      <td>Lemon Bar Crème Frappuccino® Blended Crème</td>\n",
       "      <td>0</td>\n",
       "      <td>-</td>\n",
       "      <td>-</td>\n",
       "      <td>-</td>\n",
       "      <td>-</td>\n",
       "      <td>-</td>\n",
       "    </tr>\n",
       "    <tr>\n",
       "      <th>156</th>\n",
       "      <td>Midnight Mint Mocha Frappuccino® Blended Coffee</td>\n",
       "      <td>0</td>\n",
       "      <td>-</td>\n",
       "      <td>-</td>\n",
       "      <td>-</td>\n",
       "      <td>-</td>\n",
       "      <td>-</td>\n",
       "    </tr>\n",
       "    <tr>\n",
       "      <th>157</th>\n",
       "      <td>Midnight Mint Mocha Frappuccino® Blended Crème</td>\n",
       "      <td>0</td>\n",
       "      <td>-</td>\n",
       "      <td>-</td>\n",
       "      <td>-</td>\n",
       "      <td>-</td>\n",
       "      <td>-</td>\n",
       "    </tr>\n",
       "    <tr>\n",
       "      <th>158</th>\n",
       "      <td>Mocha Frappuccino® Blended Coffee</td>\n",
       "      <td>280</td>\n",
       "      <td>2.5</td>\n",
       "      <td>60</td>\n",
       "      <td>2</td>\n",
       "      <td>4</td>\n",
       "      <td>220</td>\n",
       "    </tr>\n",
       "    <tr>\n",
       "      <th>159</th>\n",
       "      <td>Mocha Light Frappuccino® Blended Coffee</td>\n",
       "      <td>140</td>\n",
       "      <td>0.5</td>\n",
       "      <td>28</td>\n",
       "      <td>1</td>\n",
       "      <td>4</td>\n",
       "      <td>180</td>\n",
       "    </tr>\n",
       "    <tr>\n",
       "      <th>160</th>\n",
       "      <td>Oprah Cinnamon Chai Crème Frappuccino® Blended...</td>\n",
       "      <td>0</td>\n",
       "      <td>-</td>\n",
       "      <td>-</td>\n",
       "      <td>-</td>\n",
       "      <td>-</td>\n",
       "      <td>-</td>\n",
       "    </tr>\n",
       "    <tr>\n",
       "      <th>161</th>\n",
       "      <td>Red Velvet Cake Crème Frappuccino® Blended Crème</td>\n",
       "      <td>0</td>\n",
       "      <td>-</td>\n",
       "      <td>-</td>\n",
       "      <td>-</td>\n",
       "      <td>-</td>\n",
       "      <td>-</td>\n",
       "    </tr>\n",
       "    <tr>\n",
       "      <th>162</th>\n",
       "      <td>S'mores Frappuccino® Blended Coffee</td>\n",
       "      <td>0</td>\n",
       "      <td>-</td>\n",
       "      <td>-</td>\n",
       "      <td>-</td>\n",
       "      <td>-</td>\n",
       "      <td>-</td>\n",
       "    </tr>\n",
       "    <tr>\n",
       "      <th>163</th>\n",
       "      <td>S'mores Frappuccino® Blended Crème</td>\n",
       "      <td>0</td>\n",
       "      <td>-</td>\n",
       "      <td>-</td>\n",
       "      <td>-</td>\n",
       "      <td>-</td>\n",
       "      <td>-</td>\n",
       "    </tr>\n",
       "    <tr>\n",
       "      <th>164</th>\n",
       "      <td>Strawberries &amp; Crème Frappuccino® Blended Crème</td>\n",
       "      <td>0</td>\n",
       "      <td>-</td>\n",
       "      <td>-</td>\n",
       "      <td>-</td>\n",
       "      <td>-</td>\n",
       "      <td>-</td>\n",
       "    </tr>\n",
       "    <tr>\n",
       "      <th>165</th>\n",
       "      <td>The Pokémon™ GO Frappuccino® Blended Beverage</td>\n",
       "      <td>0</td>\n",
       "      <td>-</td>\n",
       "      <td>-</td>\n",
       "      <td>-</td>\n",
       "      <td>-</td>\n",
       "      <td>-</td>\n",
       "    </tr>\n",
       "    <tr>\n",
       "      <th>166</th>\n",
       "      <td>Vanilla Bean Crème Frappuccino® Blended Crème</td>\n",
       "      <td>0</td>\n",
       "      <td>-</td>\n",
       "      <td>-</td>\n",
       "      <td>-</td>\n",
       "      <td>-</td>\n",
       "      <td>-</td>\n",
       "    </tr>\n",
       "    <tr>\n",
       "      <th>167</th>\n",
       "      <td>White Chocolate Mocha Frappuccino® Blended Coffee</td>\n",
       "      <td>0</td>\n",
       "      <td>-</td>\n",
       "      <td>-</td>\n",
       "      <td>-</td>\n",
       "      <td>-</td>\n",
       "      <td>-</td>\n",
       "    </tr>\n",
       "    <tr>\n",
       "      <th>168</th>\n",
       "      <td>Cinnamon Dolce Crème</td>\n",
       "      <td>200</td>\n",
       "      <td>6</td>\n",
       "      <td>28</td>\n",
       "      <td>0</td>\n",
       "      <td>10</td>\n",
       "      <td>135</td>\n",
       "    </tr>\n",
       "    <tr>\n",
       "      <th>169</th>\n",
       "      <td>Organic Chocolate Milk Box</td>\n",
       "      <td>0</td>\n",
       "      <td>-</td>\n",
       "      <td>-</td>\n",
       "      <td>-</td>\n",
       "      <td>-</td>\n",
       "      <td>-</td>\n",
       "    </tr>\n",
       "    <tr>\n",
       "      <th>170</th>\n",
       "      <td>Steamed Apple Juice</td>\n",
       "      <td>0</td>\n",
       "      <td>-</td>\n",
       "      <td>-</td>\n",
       "      <td>-</td>\n",
       "      <td>-</td>\n",
       "      <td>-</td>\n",
       "    </tr>\n",
       "    <tr>\n",
       "      <th>171</th>\n",
       "      <td>Vanilla Crème</td>\n",
       "      <td>200</td>\n",
       "      <td>6</td>\n",
       "      <td>28</td>\n",
       "      <td>0</td>\n",
       "      <td>10</td>\n",
       "      <td>135</td>\n",
       "    </tr>\n",
       "    <tr>\n",
       "      <th>172</th>\n",
       "      <td>Chocolate Smoothie</td>\n",
       "      <td>320</td>\n",
       "      <td>5</td>\n",
       "      <td>53</td>\n",
       "      <td>8</td>\n",
       "      <td>20</td>\n",
       "      <td>170</td>\n",
       "    </tr>\n",
       "    <tr>\n",
       "      <th>173</th>\n",
       "      <td>Strawberry Smoothie</td>\n",
       "      <td>300</td>\n",
       "      <td>2</td>\n",
       "      <td>60</td>\n",
       "      <td>7</td>\n",
       "      <td>16</td>\n",
       "      <td>130</td>\n",
       "    </tr>\n",
       "    <tr>\n",
       "      <th>174</th>\n",
       "      <td>Ginger Ale</td>\n",
       "      <td>0</td>\n",
       "      <td>-</td>\n",
       "      <td>-</td>\n",
       "      <td>-</td>\n",
       "      <td>-</td>\n",
       "      <td>-</td>\n",
       "    </tr>\n",
       "    <tr>\n",
       "      <th>175</th>\n",
       "      <td>Lemon Ale</td>\n",
       "      <td>0</td>\n",
       "      <td>-</td>\n",
       "      <td>-</td>\n",
       "      <td>-</td>\n",
       "      <td>-</td>\n",
       "      <td>-</td>\n",
       "    </tr>\n",
       "    <tr>\n",
       "      <th>176</th>\n",
       "      <td>Orange Cream Soda</td>\n",
       "      <td>0</td>\n",
       "      <td>-</td>\n",
       "      <td>-</td>\n",
       "      <td>-</td>\n",
       "      <td>-</td>\n",
       "      <td>-</td>\n",
       "    </tr>\n",
       "  </tbody>\n",
       "</table>\n",
       "<p>177 rows × 7 columns</p>\n",
       "</div>"
      ],
      "text/plain": [
       "                                            Unnamed: 0  Calories Fat (g)  \\\n",
       "0             Cool Lime Starbucks Refreshers™ Beverage        45       0   \n",
       "1                                     Ombré Pink Drink         0       -   \n",
       "2                                           Pink Drink         0       -   \n",
       "3       Strawberry Acai Starbucks Refreshers™ Beverage        80       0   \n",
       "4    Very Berry Hibiscus Starbucks Refreshers™ Beve...        60       0   \n",
       "5                                         Violet Drink         0       -   \n",
       "6      Evolution Fresh™ Cold-Pressed Apple Berry Juice         0       -   \n",
       "7                          Evolution Fresh™ Defense Up         0       -   \n",
       "8              Evolution Fresh™ Organic Ginger Limeade       110       0   \n",
       "9                                          Iced Coffee         0       0   \n",
       "10                               Iced Coffee with Milk         0       -   \n",
       "11              Iced Espresso Classics - Vanilla Latte       130     2.5   \n",
       "12                Iced Espresso Classics - Caffe Mocha       140     2.5   \n",
       "13          Iced Espresso Classics - Caramel Macchiato       130     2.5   \n",
       "14                      Starbucks® Caramel Iced Coffee         0       -   \n",
       "15                       Starbucks® Iced Coffee + Milk         0       -   \n",
       "16           Starbucks® Low Calorie Iced Coffee + Milk         0       -   \n",
       "17                      Starbucks® Vanilla Iced Coffee         0       -   \n",
       "18                                    Shaken Sweet Tea        80       0   \n",
       "19                   Tazo® Bottled Berry Blossom White        60       0   \n",
       "20                           Tazo® Bottled Black Mango       150       0   \n",
       "21                      Tazo® Bottled Black with Lemon       140       0   \n",
       "22                          Tazo® Bottled Brambleberry       140       0   \n",
       "23                           Tazo® Bottled Giant Peach       150       0   \n",
       "24                          Tazo® Bottled Iced Passion        70       0   \n",
       "25                          Tazo® Bottled Lemon Ginger       120       0   \n",
       "26                Tazo® Bottled Organic Black Lemonade       140       0   \n",
       "27                Tazo® Bottled Organic Iced Black Tea        60       0   \n",
       "28                Tazo® Bottled Organic Iced Green Tea       120       0   \n",
       "29                      Tazo® Bottled Plum Pomegranate       140       0   \n",
       "..                                                 ...       ...     ...   \n",
       "147   Cinnamon Dolce Light Frappuccino® Blended Coffee         0       -   \n",
       "148          Cinnamon Roll Frappuccino® Blended Coffee         0       -   \n",
       "149                 Coffee Frappuccino® Blended Coffee         0       -   \n",
       "150           Coffee Light Frappuccino® Blended Coffee       110       0   \n",
       "151           Cupcake Crème Frappuccino® Blended Crème         0       -   \n",
       "152         Green Tea Crème Frappuccino® Blended Crème         0       -   \n",
       "153              Java Chip Frappuccino® Blended Coffee         0       -   \n",
       "154        Java Chip Light Frappuccino® Blended Coffee         0       -   \n",
       "155         Lemon Bar Crème Frappuccino® Blended Crème         0       -   \n",
       "156    Midnight Mint Mocha Frappuccino® Blended Coffee         0       -   \n",
       "157     Midnight Mint Mocha Frappuccino® Blended Crème         0       -   \n",
       "158                  Mocha Frappuccino® Blended Coffee       280     2.5   \n",
       "159            Mocha Light Frappuccino® Blended Coffee       140     0.5   \n",
       "160  Oprah Cinnamon Chai Crème Frappuccino® Blended...         0       -   \n",
       "161   Red Velvet Cake Crème Frappuccino® Blended Crème         0       -   \n",
       "162                S'mores Frappuccino® Blended Coffee         0       -   \n",
       "163                 S'mores Frappuccino® Blended Crème         0       -   \n",
       "164    Strawberries & Crème Frappuccino® Blended Crème         0       -   \n",
       "165      The Pokémon™ GO Frappuccino® Blended Beverage         0       -   \n",
       "166      Vanilla Bean Crème Frappuccino® Blended Crème         0       -   \n",
       "167  White Chocolate Mocha Frappuccino® Blended Coffee         0       -   \n",
       "168                               Cinnamon Dolce Crème       200       6   \n",
       "169                         Organic Chocolate Milk Box         0       -   \n",
       "170                                Steamed Apple Juice         0       -   \n",
       "171                                      Vanilla Crème       200       6   \n",
       "172                                 Chocolate Smoothie       320       5   \n",
       "173                                Strawberry Smoothie       300       2   \n",
       "174                                         Ginger Ale         0       -   \n",
       "175                                          Lemon Ale         0       -   \n",
       "176                                  Orange Cream Soda         0       -   \n",
       "\n",
       "    Carb. (g) Fiber (g) Protein Sodium  \n",
       "0          11         0       0     10  \n",
       "1           -         -       -      -  \n",
       "2           -         -       -      -  \n",
       "3          18         1       0     10  \n",
       "4          14         1       0     10  \n",
       "5           -         -       -      -  \n",
       "6           -         -       -      -  \n",
       "7           -         -       -      -  \n",
       "8          28         0       0      5  \n",
       "9           0         0       0      0  \n",
       "10          -         -       -      -  \n",
       "11         21         0       5     65  \n",
       "12         23         0       5     90  \n",
       "13         21         0       5     65  \n",
       "14          -         -       -      -  \n",
       "15          -         -       -      -  \n",
       "16          -         -       -      -  \n",
       "17          -         -       -      -  \n",
       "18         19         0       0     10  \n",
       "19         15         0       0     10  \n",
       "20         38         0       0     15  \n",
       "21         35         0       0     10  \n",
       "22         35         0       0     15  \n",
       "23         37         0       0     15  \n",
       "24         17         0       0     10  \n",
       "25         31         0       0     10  \n",
       "26         35         0       0     10  \n",
       "27         15         0       0     10  \n",
       "28         31         0       0     10  \n",
       "29         35         0       0     10  \n",
       "..        ...       ...     ...    ...  \n",
       "147         -         -       -      -  \n",
       "148         -         -       -      -  \n",
       "149         -         -       -      -  \n",
       "150        24         0       3    200  \n",
       "151         -         -       -      -  \n",
       "152         -         -       -      -  \n",
       "153         -         -       -      -  \n",
       "154         -         -       -      -  \n",
       "155         -         -       -      -  \n",
       "156         -         -       -      -  \n",
       "157         -         -       -      -  \n",
       "158        60         2       4    220  \n",
       "159        28         1       4    180  \n",
       "160         -         -       -      -  \n",
       "161         -         -       -      -  \n",
       "162         -         -       -      -  \n",
       "163         -         -       -      -  \n",
       "164         -         -       -      -  \n",
       "165         -         -       -      -  \n",
       "166         -         -       -      -  \n",
       "167         -         -       -      -  \n",
       "168        28         0      10    135  \n",
       "169         -         -       -      -  \n",
       "170         -         -       -      -  \n",
       "171        28         0      10    135  \n",
       "172        53         8      20    170  \n",
       "173        60         7      16    130  \n",
       "174         -         -       -      -  \n",
       "175         -         -       -      -  \n",
       "176         -         -       -      -  \n",
       "\n",
       "[177 rows x 7 columns]"
      ]
     },
     "execution_count": 108,
     "metadata": {},
     "output_type": "execute_result"
    }
   ],
   "source": [
    "drink"
   ]
  },
  {
   "cell_type": "code",
   "execution_count": 109,
   "metadata": {},
   "outputs": [
    {
     "data": {
      "text/html": [
       "<div>\n",
       "<style scoped>\n",
       "    .dataframe tbody tr th:only-of-type {\n",
       "        vertical-align: middle;\n",
       "    }\n",
       "\n",
       "    .dataframe tbody tr th {\n",
       "        vertical-align: top;\n",
       "    }\n",
       "\n",
       "    .dataframe thead th {\n",
       "        text-align: right;\n",
       "    }\n",
       "</style>\n",
       "<table border=\"1\" class=\"dataframe\">\n",
       "  <thead>\n",
       "    <tr style=\"text-align: right;\">\n",
       "      <th></th>\n",
       "      <th>Unnamed: 0</th>\n",
       "      <th>Calories</th>\n",
       "      <th>Fat (g)</th>\n",
       "      <th>Carb. (g)</th>\n",
       "      <th>Fiber (g)</th>\n",
       "      <th>Protein</th>\n",
       "      <th>Sodium</th>\n",
       "    </tr>\n",
       "  </thead>\n",
       "  <tbody>\n",
       "    <tr>\n",
       "      <th>109</th>\n",
       "      <td>Hot Chocolate</td>\n",
       "      <td>320</td>\n",
       "      <td>9</td>\n",
       "      <td>47</td>\n",
       "      <td>4</td>\n",
       "      <td>14</td>\n",
       "      <td>160</td>\n",
       "    </tr>\n",
       "    <tr>\n",
       "      <th>172</th>\n",
       "      <td>Chocolate Smoothie</td>\n",
       "      <td>320</td>\n",
       "      <td>5</td>\n",
       "      <td>53</td>\n",
       "      <td>8</td>\n",
       "      <td>20</td>\n",
       "      <td>170</td>\n",
       "    </tr>\n",
       "  </tbody>\n",
       "</table>\n",
       "</div>"
      ],
      "text/plain": [
       "             Unnamed: 0  Calories Fat (g) Carb. (g) Fiber (g) Protein Sodium\n",
       "109       Hot Chocolate       320       9        47         4      14    160\n",
       "172  Chocolate Smoothie       320       5        53         8      20    170"
      ]
     },
     "execution_count": 109,
     "metadata": {},
     "output_type": "execute_result"
    }
   ],
   "source": [
    "drink[drink['Calories'] == 320]"
   ]
  },
  {
   "cell_type": "code",
   "execution_count": 110,
   "metadata": {},
   "outputs": [
    {
     "data": {
      "text/plain": [
       "430"
      ]
     },
     "execution_count": 110,
     "metadata": {},
     "output_type": "execute_result"
    }
   ],
   "source": [
    "drink['Calories'].max()"
   ]
  },
  {
   "cell_type": "code",
   "execution_count": 111,
   "metadata": {},
   "outputs": [
    {
     "data": {
      "text/html": [
       "<div>\n",
       "<style scoped>\n",
       "    .dataframe tbody tr th:only-of-type {\n",
       "        vertical-align: middle;\n",
       "    }\n",
       "\n",
       "    .dataframe tbody tr th {\n",
       "        vertical-align: top;\n",
       "    }\n",
       "\n",
       "    .dataframe thead th {\n",
       "        text-align: right;\n",
       "    }\n",
       "</style>\n",
       "<table border=\"1\" class=\"dataframe\">\n",
       "  <thead>\n",
       "    <tr style=\"text-align: right;\">\n",
       "      <th></th>\n",
       "      <th>Unnamed: 0</th>\n",
       "      <th>Calories</th>\n",
       "      <th>Fat (g)</th>\n",
       "      <th>Carb. (g)</th>\n",
       "      <th>Fiber (g)</th>\n",
       "      <th>Protein</th>\n",
       "      <th>Sodium</th>\n",
       "    </tr>\n",
       "  </thead>\n",
       "  <tbody>\n",
       "    <tr>\n",
       "      <th>110</th>\n",
       "      <td>Starbucks® Signature Hot Chocolate</td>\n",
       "      <td>430</td>\n",
       "      <td>26</td>\n",
       "      <td>45</td>\n",
       "      <td>5</td>\n",
       "      <td>12</td>\n",
       "      <td>115</td>\n",
       "    </tr>\n",
       "  </tbody>\n",
       "</table>\n",
       "</div>"
      ],
      "text/plain": [
       "                             Unnamed: 0  Calories Fat (g) Carb. (g) Fiber (g)  \\\n",
       "110  Starbucks® Signature Hot Chocolate       430      26        45         5   \n",
       "\n",
       "    Protein Sodium  \n",
       "110      12    115  "
      ]
     },
     "execution_count": 111,
     "metadata": {},
     "output_type": "execute_result"
    }
   ],
   "source": [
    "drink[drink['Calories'] == 430]"
   ]
  },
  {
   "cell_type": "code",
   "execution_count": 112,
   "metadata": {},
   "outputs": [
    {
     "data": {
      "text/html": [
       "<div>\n",
       "<style scoped>\n",
       "    .dataframe tbody tr th:only-of-type {\n",
       "        vertical-align: middle;\n",
       "    }\n",
       "\n",
       "    .dataframe tbody tr th {\n",
       "        vertical-align: top;\n",
       "    }\n",
       "\n",
       "    .dataframe thead th {\n",
       "        text-align: right;\n",
       "    }\n",
       "</style>\n",
       "<table border=\"1\" class=\"dataframe\">\n",
       "  <thead>\n",
       "    <tr style=\"text-align: right;\">\n",
       "      <th></th>\n",
       "      <th>Unnamed: 0</th>\n",
       "      <th>Calories</th>\n",
       "      <th>Fat (g)</th>\n",
       "      <th>Carb. (g)</th>\n",
       "      <th>Fiber (g)</th>\n",
       "      <th>Protein</th>\n",
       "      <th>Sodium</th>\n",
       "    </tr>\n",
       "  </thead>\n",
       "  <tbody>\n",
       "    <tr>\n",
       "      <th>110</th>\n",
       "      <td>Starbucks® Signature Hot Chocolate</td>\n",
       "      <td>430</td>\n",
       "      <td>26</td>\n",
       "      <td>45</td>\n",
       "      <td>5</td>\n",
       "      <td>12</td>\n",
       "      <td>115</td>\n",
       "    </tr>\n",
       "  </tbody>\n",
       "</table>\n",
       "</div>"
      ],
      "text/plain": [
       "                             Unnamed: 0  Calories Fat (g) Carb. (g) Fiber (g)  \\\n",
       "110  Starbucks® Signature Hot Chocolate       430      26        45         5   \n",
       "\n",
       "    Protein Sodium  \n",
       "110      12    115  "
      ]
     },
     "execution_count": 112,
     "metadata": {},
     "output_type": "execute_result"
    }
   ],
   "source": [
    "drink[drink['Calories'] == drink['Calories'].max()]"
   ]
  },
  {
   "cell_type": "code",
   "execution_count": null,
   "metadata": {},
   "outputs": [],
   "source": []
  }
 ],
 "metadata": {
  "kernelspec": {
   "display_name": "Python 3",
   "language": "python",
   "name": "python3"
  },
  "language_info": {
   "codemirror_mode": {
    "name": "ipython",
    "version": 3
   },
   "file_extension": ".py",
   "mimetype": "text/x-python",
   "name": "python",
   "nbconvert_exporter": "python",
   "pygments_lexer": "ipython3",
   "version": "3.6.7"
  }
 },
 "nbformat": 4,
 "nbformat_minor": 2
}
