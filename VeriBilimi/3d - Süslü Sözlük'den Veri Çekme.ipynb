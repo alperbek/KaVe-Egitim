{
 "cells": [
  {
   "cell_type": "code",
   "execution_count": 4,
   "metadata": {},
   "outputs": [],
   "source": [
    "import pandas as pd\n",
    "import numpy as np\n",
    "from bs4 import BeautifulSoup\n",
    "import requests\n",
    "from urllib.request import Request, urlopen\n",
    "\n",
    "headers = {\"User-Agent\" : \"Mozilla/5.0 (Macintosh; Intel Mac OS X 10_14_0) AppleWebKit/537.36 (KHTML, like Gecko) Chrome/70.0.3538.67 Safari/537.36\"}\n",
    "\n",
    "a=[]\n",
    "for i in range(1,75):\n",
    "    site= \"https://www.suslusozluk.com/ruj?tab=entries&p=\"+str(i)+\"&options={%22sort_by%22:%22created_at%22,%22sort_direction%22:%22ASC%22}\"\n",
    "    req = Request(site,headers=headers)\n",
    "    page = urlopen(req)\n",
    "    soup = BeautifulSoup(page)\n",
    "    for headlines in soup.find_all('div',attrs={'class':'post-body buttonable'}):\n",
    "        a.append(headlines.text.strip())"
   ]
  },
  {
   "cell_type": "code",
   "execution_count": 6,
   "metadata": {},
   "outputs": [
    {
     "data": {
      "text/plain": [
       "731"
      ]
     },
     "execution_count": 6,
     "metadata": {},
     "output_type": "execute_result"
    }
   ],
   "source": [
    "len(a)"
   ]
  },
  {
   "cell_type": "code",
   "execution_count": 7,
   "metadata": {},
   "outputs": [
    {
     "data": {
      "text/plain": [
       "[\"1.\\n                                vurgu. ilk defa mezopotamyalı kadınlar tarafından uygulaması görülmüş, 10. yüzyılda endülüs'de yaşayan modern tıbbın babası sayınlan   müslüman bir doktor tarafından katı ruj bulunmuştur. ondan önceki uygulamaları bazı süs eşylarının öğütülerek kullanılması ve mısırlılar tarafından bazı bitki özleri ve yağların karıştırılması şeklindedir. bir dönem kilise tarafından profesyonel olmayan kadınlara yasaklanmış olan ruj, hiçbir halttan geri kalmayan fransız erkekleri tarafından 19. yüzyılda kullanılmaya başlanmış ve hala günümüzde  pigmentler , bazı yağlar, balmumu ve katılığı alan  ürünler yardımıyla üretilmektedir.\",\n",
       " '2.\\n                                En sevdiğim, en çok kullandığım ve muhakkak yanımda taşıdığım makyaj malzemesi.Gözleri çok da süper bir insan değilim, bu nedenle makyaj yaptığımda, ki genelde oldukça hafif yaparım, ağırlığı dudaklara vermeyi yeğliyorum. Kendini belli eden baba bir ruj sürdüğünüzde zaten bir tek rimel bile sürseniz yetiyor. Ama ağır bir göz Makyajı yaparsanız muhakkak hafif veya nude tonlarda rujları tercih edin, aksi takdirde palyaço gibi olursunuz. Ha ben çok ağır makyaj yapmasamda gözlerime nude sürdüğüm oluyor, ama dudakları iyice yok eden bir nude değil, pembe yahut şeftali alt tonlu, kendini belli eden bir nude sürüyorum. Bu şekilde dengeliyorum.',\n",
       " '3.\\n                                şöyle çatlak çatlak durmayanını bulunca çok sevdiğim, ama yağ gibi sürülenleri cıvık bir görünümde olan malzeme. genelde mat rujları seviyorum. en mat rujum inglottan, sürümü zor olabiliyor ama ciddi kalıcı oluyor matlar. genelde nude tonlar tercihim, ağırlığı gözlere verdiğim için.. en zor seçim de nude olanlarda yaşanıyor. iyi bir nude ruj bulmak kolay iş değil, zombi olmuş da kanı çekilmiş gibi bir dudağa da sahip olabilirsiniz. bir de ruj sürdükten sonra hafifçe pudrayla sabitlemek de işe yarıyor.',\n",
       " '4.\\n                                en sevdigim, hic yanimdan ayirmadigim kozmetik urunu. kirmizisini duzgun surmek beceri ve cokca pratik ister.',\n",
       " '5.\\n                                (bkz: anlamlı ve çekici dudak)']"
      ]
     },
     "execution_count": 7,
     "metadata": {},
     "output_type": "execute_result"
    }
   ],
   "source": [
    "a[:5]"
   ]
  },
  {
   "cell_type": "code",
   "execution_count": null,
   "metadata": {},
   "outputs": [],
   "source": []
  }
 ],
 "metadata": {
  "kernelspec": {
   "display_name": "Python 3",
   "language": "python",
   "name": "python3"
  },
  "language_info": {
   "codemirror_mode": {
    "name": "ipython",
    "version": 3
   },
   "file_extension": ".py",
   "mimetype": "text/x-python",
   "name": "python",
   "nbconvert_exporter": "python",
   "pygments_lexer": "ipython3",
   "version": "3.6.7"
  }
 },
 "nbformat": 4,
 "nbformat_minor": 2
}
