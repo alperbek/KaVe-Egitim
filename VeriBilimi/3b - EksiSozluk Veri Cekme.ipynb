{
 "cells": [
  {
   "cell_type": "code",
   "execution_count": 1,
   "metadata": {},
   "outputs": [],
   "source": [
    "import pandas as pd\n",
    "import numpy as np\n",
    "import matplotlib.pyplot as plt\n",
    "from bs4 import BeautifulSoup\n",
    "import requests\n",
    "\n",
    "headers = {\"User-Agent\" : \"Mozilla/5.0 (Macintosh; Intel Mac OS X 10_14_0) AppleWebKit/537.36 (KHTML, like Gecko) Chrome/70.0.3538.67 Safari/537.36\"}\n",
    "url_list = [\"https://eksisozluk.com/mustafa-kemal-ataturk--34712?p=\",\n",
    "            \"https://eksisozluk.com/enes-batur--2825586?p=\",\n",
    "            \"http://eksisozluk.com/filmi-varken-gidip-500-sayfa-roman-okuyan-tip--5830909?p=\"]\n",
    "\n",
    "\n",
    "# Retrieving the data from URL's.\n",
    "pre_data = []\n",
    "def get_data(url_link):\n",
    "    for x in range(1,22):\n",
    "        page = requests.get(url_link+str(x),headers=headers)\n",
    "        soup = BeautifulSoup(page.content,\"html.parser\")\n",
    "        for entry in soup.find_all(\"div\",{\"class\" : \"content\"}):\n",
    "            pre_data.append(entry.get_text())\n",
    "            \n",
    "for url in url_list:\n",
    "    get_data(url)"
   ]
  },
  {
   "cell_type": "code",
   "execution_count": 2,
   "metadata": {},
   "outputs": [
    {
     "data": {
      "text/plain": [
       "['\\r\\n    bu cografya da dogmus olduguma sevinmem için bir kaç nedenden biri\\r\\n  ',\n",
       " '\\r\\n    o olmasaydi biz, \"biz\" olur muyduk bilemiyorum...\\r\\n  ',\n",
       " '\\r\\n    guzel insan keza bu kadarı yeter.\\r\\n  ',\n",
       " '\\r\\n    (bkz: 10 kasim)\\r\\n  ',\n",
       " '\\r\\n    sarı saçlı mavi gözlü yakışıklı, güzel elli, prezentabl geyikleri arasında kayanayıp gitmeye başlamış, büyük bir lider.kara kaşlı kara gözlü, kambur olsa idi, bu kadar çok saygı duyulmayacak mıydı?yalvarırım şu sarı saçlıyı, şu mavi gözlüyü, rakı-sigara-leblebi, tarlada karga kovalama edebiyatını bi kenara bırakın.ata, alemci akşamcıların jön dostu hareketli korkuluk değildir.maalesef yaptıklarından çok, düşünceleri ile sonsuza dek yaşamayı bilmiş birisidir.çelik erişçi yaklaşımları ile ancak yeni captainhowdyler yaratırsınız.\\r\\n  ']"
      ]
     },
     "execution_count": 2,
     "metadata": {},
     "output_type": "execute_result"
    }
   ],
   "source": [
    "pre_data[:5]"
   ]
  },
  {
   "cell_type": "code",
   "execution_count": null,
   "metadata": {},
   "outputs": [],
   "source": []
  }
 ],
 "metadata": {
  "kernelspec": {
   "display_name": "Python 3",
   "language": "python",
   "name": "python3"
  },
  "language_info": {
   "codemirror_mode": {
    "name": "ipython",
    "version": 3
   },
   "file_extension": ".py",
   "mimetype": "text/x-python",
   "name": "python",
   "nbconvert_exporter": "python",
   "pygments_lexer": "ipython3",
   "version": "3.6.7"
  }
 },
 "nbformat": 4,
 "nbformat_minor": 2
}
