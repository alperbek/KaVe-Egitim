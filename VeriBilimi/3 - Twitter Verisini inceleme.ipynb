{
 "cells": [
  {
   "cell_type": "markdown",
   "metadata": {},
   "source": [
    "# Twitter Verisini inceleme"
   ]
  },
  {
   "cell_type": "code",
   "execution_count": 9,
   "metadata": {},
   "outputs": [],
   "source": [
    "#!pip install tweepy"
   ]
  },
  {
   "cell_type": "code",
   "execution_count": 4,
   "metadata": {},
   "outputs": [],
   "source": [
    "import json\n",
    "import tweepy\n",
    "import time\n",
    "from tweepy import OAuthHandler\n",
    "import numpy as np\n",
    "import pandas as pd\n",
    "\n",
    "\n",
    "consumer_key = 'yoIwFkjZGYDa49aO16XqSNqcN'\n",
    "consumer_secret = 'gl4LQOItV7Z1aFwNrlvaiKJ3t8o8h99blMIAmnmdHxYjzjRAxO' \n",
    "access_token = '624310916-E7fDF2IE8P6bfY1oVFglASf6F8RnxMd3vgSXFqnZ'\n",
    "access_token_secret ='ID9JcoXHsDcKtvNcnmBGcCQhUlO0wmwAxBJ6LCesiUAas'\n",
    " \n",
    "auth = OAuthHandler(consumer_key, consumer_secret)\n",
    "auth.set_access_token(access_token, access_token_secret)\n",
    " \n",
    "#api = tweepy.API(auth)\n",
    "api = tweepy.API(auth, wait_on_rate_limit=True, wait_on_rate_limit_notify=True, retry_count=3, retry_delay=60)"
   ]
  },
  {
   "cell_type": "code",
   "execution_count": 5,
   "metadata": {},
   "outputs": [],
   "source": [
    "# empty list to store parsed tweets\n",
    "coordinates = []\n",
    "people = []\n",
    "time = []\n",
    "tweet_text = []\n",
    "fetched_tweets = api.search(q = 'Fazıl Say', count = 100)\n",
    "# parsing tweets one by one\n",
    "for tweet in fetched_tweets:\n",
    "    coordinates.append(tweet.coordinates)\n",
    "    people.append(tweet.author.name)\n",
    "    tweet_text.append(tweet.text)\n",
    "    time.append(tweet.created_at)"
   ]
  },
  {
   "cell_type": "code",
   "execution_count": 6,
   "metadata": {},
   "outputs": [
    {
     "data": {
      "text/html": [
       "<div>\n",
       "<style scoped>\n",
       "    .dataframe tbody tr th:only-of-type {\n",
       "        vertical-align: middle;\n",
       "    }\n",
       "\n",
       "    .dataframe tbody tr th {\n",
       "        vertical-align: top;\n",
       "    }\n",
       "\n",
       "    .dataframe thead th {\n",
       "        text-align: right;\n",
       "    }\n",
       "</style>\n",
       "<table border=\"1\" class=\"dataframe\">\n",
       "  <thead>\n",
       "    <tr style=\"text-align: right;\">\n",
       "      <th></th>\n",
       "      <th>people</th>\n",
       "      <th>tweets</th>\n",
       "      <th>time</th>\n",
       "    </tr>\n",
       "  </thead>\n",
       "  <tbody>\n",
       "    <tr>\n",
       "      <th>0</th>\n",
       "      <td>Barış KAYASELÇUK</td>\n",
       "      <td>RT @talataciman: ne güzel bitti değil mi kutup...</td>\n",
       "      <td>2019-01-23 14:35:31</td>\n",
       "    </tr>\n",
       "    <tr>\n",
       "      <th>1</th>\n",
       "      <td>İPSİZ RECEP 🇹🇷</td>\n",
       "      <td>Fazıl Say’ın müzik eleştirmeni babası Ahmet Sa...</td>\n",
       "      <td>2019-01-23 14:34:55</td>\n",
       "    </tr>\n",
       "    <tr>\n",
       "      <th>2</th>\n",
       "      <td>Adnan Celayir</td>\n",
       "      <td>Fazıl Say ve AK Parti Programı  https://t.co/8...</td>\n",
       "      <td>2019-01-23 14:34:36</td>\n",
       "    </tr>\n",
       "    <tr>\n",
       "      <th>3</th>\n",
       "      <td>Akif Urhan</td>\n",
       "      <td>RT @SuriyeOperasyon: \"Erdoğan ülkeyi kutuplaşt...</td>\n",
       "      <td>2019-01-23 14:34:17</td>\n",
       "    </tr>\n",
       "    <tr>\n",
       "      <th>4</th>\n",
       "      <td>Malkoçoğlu</td>\n",
       "      <td>RT @drlsmzwriter: Muhalefet, hem \"Erdoğan oyla...</td>\n",
       "      <td>2019-01-23 14:31:58</td>\n",
       "    </tr>\n",
       "  </tbody>\n",
       "</table>\n",
       "</div>"
      ],
      "text/plain": [
       "             people                                             tweets  \\\n",
       "0  Barış KAYASELÇUK  RT @talataciman: ne güzel bitti değil mi kutup...   \n",
       "1    İPSİZ RECEP 🇹🇷  Fazıl Say’ın müzik eleştirmeni babası Ahmet Sa...   \n",
       "2     Adnan Celayir  Fazıl Say ve AK Parti Programı  https://t.co/8...   \n",
       "3        Akif Urhan  RT @SuriyeOperasyon: \"Erdoğan ülkeyi kutuplaşt...   \n",
       "4        Malkoçoğlu  RT @drlsmzwriter: Muhalefet, hem \"Erdoğan oyla...   \n",
       "\n",
       "                 time  \n",
       "0 2019-01-23 14:35:31  \n",
       "1 2019-01-23 14:34:55  \n",
       "2 2019-01-23 14:34:36  \n",
       "3 2019-01-23 14:34:17  \n",
       "4 2019-01-23 14:31:58  "
      ]
     },
     "execution_count": 6,
     "metadata": {},
     "output_type": "execute_result"
    }
   ],
   "source": [
    "df = pd.DataFrame({'people': people,'tweets': tweet_text,  'time':time})\n",
    "df.head()"
   ]
  },
  {
   "cell_type": "code",
   "execution_count": 10,
   "metadata": {},
   "outputs": [
    {
     "data": {
      "text/plain": [
       "'Fazıl Say https://t.co/6gkhrimjZV #Cumhuriyet #cumhuriyetgzt @cumhuriyetgzt aracılığıyla'"
      ]
     },
     "execution_count": 10,
     "metadata": {},
     "output_type": "execute_result"
    }
   ],
   "source": [
    "df.tweets[5]"
   ]
  },
  {
   "cell_type": "code",
   "execution_count": 11,
   "metadata": {},
   "outputs": [
    {
     "data": {
      "text/html": [
       "<div>\n",
       "<style scoped>\n",
       "    .dataframe tbody tr th:only-of-type {\n",
       "        vertical-align: middle;\n",
       "    }\n",
       "\n",
       "    .dataframe tbody tr th {\n",
       "        vertical-align: top;\n",
       "    }\n",
       "\n",
       "    .dataframe thead th {\n",
       "        text-align: right;\n",
       "    }\n",
       "</style>\n",
       "<table border=\"1\" class=\"dataframe\">\n",
       "  <thead>\n",
       "    <tr style=\"text-align: right;\">\n",
       "      <th></th>\n",
       "      <th>people</th>\n",
       "      <th>tweets</th>\n",
       "      <th>time</th>\n",
       "    </tr>\n",
       "  </thead>\n",
       "  <tbody>\n",
       "    <tr>\n",
       "      <th>0</th>\n",
       "      <td>Alina</td>\n",
       "      <td>RT @selcuksalih: Şu klasik \"Eziliyoruz büzülüy...</td>\n",
       "      <td>2019-01-22 18:18:20</td>\n",
       "    </tr>\n",
       "    <tr>\n",
       "      <th>1</th>\n",
       "      <td>Retweet Gazetesi</td>\n",
       "      <td>RT @fazilsaymusic: \"Sait Faik\" Fazıl Say YouTu...</td>\n",
       "      <td>2019-01-22 18:17:59</td>\n",
       "    </tr>\n",
       "    <tr>\n",
       "      <th>2</th>\n",
       "      <td>eyt lilerin kankisi 🇹🇷</td>\n",
       "      <td>RT @haciismailgezic: Erdoğan - fazıl say konse...</td>\n",
       "      <td>2019-01-22 18:17:53</td>\n",
       "    </tr>\n",
       "    <tr>\n",
       "      <th>3</th>\n",
       "      <td>Ercan Ertuğral</td>\n",
       "      <td>RT @AliErginGran: Fazıl Say, tavşan dudaklı bi...</td>\n",
       "      <td>2019-01-22 18:17:39</td>\n",
       "    </tr>\n",
       "    <tr>\n",
       "      <th>4</th>\n",
       "      <td>Kozan</td>\n",
       "      <td>@gsirma Orası öyle. Ancak, Fazıl Say doğru yap...</td>\n",
       "      <td>2019-01-22 18:17:32</td>\n",
       "    </tr>\n",
       "  </tbody>\n",
       "</table>\n",
       "</div>"
      ],
      "text/plain": [
       "                   people                                             tweets  \\\n",
       "0                   Alina  RT @selcuksalih: Şu klasik \"Eziliyoruz büzülüy...   \n",
       "1        Retweet Gazetesi  RT @fazilsaymusic: \"Sait Faik\" Fazıl Say YouTu...   \n",
       "2  eyt lilerin kankisi 🇹🇷  RT @haciismailgezic: Erdoğan - fazıl say konse...   \n",
       "3          Ercan Ertuğral  RT @AliErginGran: Fazıl Say, tavşan dudaklı bi...   \n",
       "4                   Kozan  @gsirma Orası öyle. Ancak, Fazıl Say doğru yap...   \n",
       "\n",
       "                 time  \n",
       "0 2019-01-22 18:18:20  \n",
       "1 2019-01-22 18:17:59  \n",
       "2 2019-01-22 18:17:53  \n",
       "3 2019-01-22 18:17:39  \n",
       "4 2019-01-22 18:17:32  "
      ]
     },
     "execution_count": 11,
     "metadata": {},
     "output_type": "execute_result"
    }
   ],
   "source": [
    "df.head()"
   ]
  },
  {
   "cell_type": "markdown",
   "metadata": {},
   "source": [
    "## Cekilis"
   ]
  },
  {
   "cell_type": "code",
   "execution_count": 12,
   "metadata": {},
   "outputs": [
    {
     "data": {
      "text/plain": [
       "['miro bey', 'Aydınlık']"
      ]
     },
     "execution_count": 12,
     "metadata": {},
     "output_type": "execute_result"
    }
   ],
   "source": [
    "list(np.random.choice(people,2))"
   ]
  },
  {
   "cell_type": "code",
   "execution_count": null,
   "metadata": {},
   "outputs": [],
   "source": []
  }
 ],
 "metadata": {
  "kernelspec": {
   "display_name": "Python 3",
   "language": "python",
   "name": "python3"
  },
  "language_info": {
   "codemirror_mode": {
    "name": "ipython",
    "version": 3
   },
   "file_extension": ".py",
   "mimetype": "text/x-python",
   "name": "python",
   "nbconvert_exporter": "python",
   "pygments_lexer": "ipython3",
   "version": "3.6.7"
  }
 },
 "nbformat": 4,
 "nbformat_minor": 2
}
