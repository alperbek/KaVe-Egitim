{
 "cells": [
  {
   "cell_type": "markdown",
   "metadata": {},
   "source": [
    "## Math\n",
    "\n",
    "For Math: http://saitcelebi.com/tut/output/part2.html\n",
    "\n",
    "## Keras\n",
    "\n",
    "https://keras.io/#getting-started-30-seconds-to-keras\n",
    "\n",
    "\n",
    "## Keras Steps\n",
    "\n",
    "https://machinelearningmastery.com/5-step-life-cycle-neural-network-models-keras/\n",
    "\n",
    " - Define Network.\n",
    " - Compile Network.\n",
    " - Fit Network.\n",
    " - Evaluate Network.\n",
    " - Make Predictions.\n",
    "\n",
    "## Iris Dataset for MultiClass Classification\n",
    "\n",
    "Example taken from: https://machinelearningmastery.com/multi-class-classification-tutorial-keras-deep-learning-library/"
   ]
  },
  {
   "cell_type": "code",
   "execution_count": 97,
   "metadata": {},
   "outputs": [],
   "source": [
    "import numpy as np\n",
    "import pandas as pd\n",
    "from keras.models import Sequential\n",
    "from keras.layers import Dense\n",
    "from keras.wrappers.scikit_learn import KerasClassifier\n",
    "from keras.utils import np_utils\n",
    "from keras.metrics import categorical_accuracy\n",
    "\n",
    "from sklearn.model_selection import cross_val_score\n",
    "from sklearn.model_selection import KFold\n",
    "from sklearn.model_selection import train_test_split\n",
    "\n",
    "from sklearn.preprocessing import LabelEncoder\n",
    "from sklearn.pipeline import Pipeline\n",
    "from sklearn import datasets \n",
    "\n",
    "\n",
    "# fix random seed for reproducibility\n",
    "seed = 7\n",
    "numpy.random.seed(seed)\n",
    "\n",
    "iris = datasets.load_iris()"
   ]
  },
  {
   "cell_type": "code",
   "execution_count": 98,
   "metadata": {},
   "outputs": [],
   "source": [
    "X, y = iris.data, iris.target"
   ]
  },
  {
   "cell_type": "code",
   "execution_count": 99,
   "metadata": {},
   "outputs": [
    {
     "data": {
      "text/plain": [
       "((150, 4), (150,))"
      ]
     },
     "execution_count": 99,
     "metadata": {},
     "output_type": "execute_result"
    }
   ],
   "source": [
    "X.shape, y.shape"
   ]
  },
  {
   "cell_type": "code",
   "execution_count": 100,
   "metadata": {},
   "outputs": [
    {
     "data": {
      "text/plain": [
       "array([0, 0, 0, 0, 0, 0, 0, 0, 0, 0, 0, 0, 0, 0, 0, 0, 0, 0, 0, 0, 0, 0,\n",
       "       0, 0, 0, 0, 0, 0, 0, 0, 0, 0, 0, 0, 0, 0, 0, 0, 0, 0, 0, 0, 0, 0,\n",
       "       0, 0, 0, 0, 0, 0, 1, 1, 1, 1, 1, 1, 1, 1, 1, 1, 1, 1, 1, 1, 1, 1,\n",
       "       1, 1, 1, 1, 1, 1, 1, 1, 1, 1, 1, 1, 1, 1, 1, 1, 1, 1, 1, 1, 1, 1,\n",
       "       1, 1, 1, 1, 1, 1, 1, 1, 1, 1, 1, 1, 2, 2, 2, 2, 2, 2, 2, 2, 2, 2,\n",
       "       2, 2, 2, 2, 2, 2, 2, 2, 2, 2, 2, 2, 2, 2, 2, 2, 2, 2, 2, 2, 2, 2,\n",
       "       2, 2, 2, 2, 2, 2, 2, 2, 2, 2, 2, 2, 2, 2, 2, 2, 2, 2])"
      ]
     },
     "execution_count": 100,
     "metadata": {},
     "output_type": "execute_result"
    }
   ],
   "source": [
    "y"
   ]
  },
  {
   "cell_type": "code",
   "execution_count": 101,
   "metadata": {},
   "outputs": [
    {
     "data": {
      "text/plain": [
       "array([[1., 0., 0.],\n",
       "       [1., 0., 0.],\n",
       "       [1., 0., 0.],\n",
       "       [1., 0., 0.],\n",
       "       [1., 0., 0.]])"
      ]
     },
     "execution_count": 101,
     "metadata": {},
     "output_type": "execute_result"
    }
   ],
   "source": [
    "# convert integers to dummy variables (i.e. one hot encoded)\n",
    "dummy_y = np_utils.to_categorical(y)\n",
    "dummy_y[:5]"
   ]
  },
  {
   "cell_type": "code",
   "execution_count": 102,
   "metadata": {},
   "outputs": [
    {
     "data": {
      "text/plain": [
       "array([[1., 0., 0.],\n",
       "       [1., 0., 0.],\n",
       "       [1., 0., 0.],\n",
       "       [1., 0., 0.],\n",
       "       [1., 0., 0.]])"
      ]
     },
     "execution_count": 102,
     "metadata": {},
     "output_type": "execute_result"
    }
   ],
   "source": [
    "dummy_y[:5]"
   ]
  },
  {
   "cell_type": "code",
   "execution_count": 103,
   "metadata": {},
   "outputs": [],
   "source": [
    "# create model\n",
    "model = Sequential()\n",
    "model.add(Dense(8, input_dim=4, activation='relu'))\n",
    "model.add(Dense(3, activation='softmax'))\n",
    "# Compile model\n",
    "model.compile(loss='categorical_crossentropy', optimizer='adam', metrics=['accuracy'])"
   ]
  },
  {
   "cell_type": "code",
   "execution_count": 104,
   "metadata": {},
   "outputs": [],
   "source": [
    "X_train, X_test, y_train, y_test = train_test_split(X, dummy_y, test_size=0.33, random_state=42)"
   ]
  },
  {
   "cell_type": "code",
   "execution_count": 105,
   "metadata": {},
   "outputs": [
    {
     "name": "stdout",
     "output_type": "stream",
     "text": [
      "Epoch 1/10\n",
      "100/100 [==============================] - 0s 4ms/step - loss: 1.2842 - acc: 0.3100\n",
      "Epoch 2/10\n",
      "100/100 [==============================] - 0s 103us/step - loss: 1.2510 - acc: 0.3100\n",
      "Epoch 3/10\n",
      "100/100 [==============================] - 0s 101us/step - loss: 1.2180 - acc: 0.3100\n",
      "Epoch 4/10\n",
      "100/100 [==============================] - 0s 94us/step - loss: 1.1866 - acc: 0.3300\n",
      "Epoch 5/10\n",
      "100/100 [==============================] - 0s 95us/step - loss: 1.1578 - acc: 0.3600\n",
      "Epoch 6/10\n",
      "100/100 [==============================] - 0s 103us/step - loss: 1.1264 - acc: 0.4800\n",
      "Epoch 7/10\n",
      "100/100 [==============================] - 0s 87us/step - loss: 1.0971 - acc: 0.6200\n",
      "Epoch 8/10\n",
      "100/100 [==============================] - 0s 101us/step - loss: 1.0713 - acc: 0.6400\n",
      "Epoch 9/10\n",
      "100/100 [==============================] - 0s 91us/step - loss: 1.0529 - acc: 0.6400\n",
      "Epoch 10/10\n",
      "100/100 [==============================] - 0s 96us/step - loss: 1.0389 - acc: 0.6200\n"
     ]
    },
    {
     "data": {
      "text/plain": [
       "<keras.callbacks.History at 0x1a2acaeb00>"
      ]
     },
     "execution_count": 105,
     "metadata": {},
     "output_type": "execute_result"
    }
   ],
   "source": [
    "# x_train and y_train are Numpy arrays --just like in the Scikit-Learn API.\n",
    "model.fit(X_train, y_train, epochs=10, batch_size=16)"
   ]
  },
  {
   "cell_type": "code",
   "execution_count": 106,
   "metadata": {},
   "outputs": [
    {
     "name": "stdout",
     "output_type": "stream",
     "text": [
      "50/50 [==============================] - 0s 3ms/step\n"
     ]
    },
    {
     "data": {
      "text/plain": [
       "(1.0149609851837158, 0.6600000071525574)"
      ]
     },
     "execution_count": 106,
     "metadata": {},
     "output_type": "execute_result"
    }
   ],
   "source": [
    "loss, accuracy = model.evaluate(X_test, y_test)\n",
    "loss, accuracy"
   ]
  },
  {
   "cell_type": "code",
   "execution_count": 107,
   "metadata": {},
   "outputs": [
    {
     "data": {
      "text/plain": [
       "array([[0.281423  , 0.2403107 , 0.47826633],\n",
       "       [0.36880517, 0.2920784 , 0.3391164 ],\n",
       "       [0.18694662, 0.15879409, 0.6542593 ],\n",
       "       [0.28994837, 0.24767037, 0.4623812 ],\n",
       "       [0.24960506, 0.21753465, 0.5328603 ],\n",
       "       [0.3518741 , 0.29752284, 0.350603  ],\n",
       "       [0.30828804, 0.26952097, 0.42219093],\n",
       "       [0.2585082 , 0.2195341 , 0.5219577 ],\n",
       "       [0.22567025, 0.20913951, 0.5651902 ],\n",
       "       [0.28522474, 0.25257057, 0.46220478],\n",
       "       [0.28762922, 0.23744754, 0.47492328],\n",
       "       [0.347865  , 0.3019945 , 0.3501405 ],\n",
       "       [0.3554201 , 0.29661706, 0.3479628 ],\n",
       "       [0.3513338 , 0.30036315, 0.34830305],\n",
       "       [0.38132346, 0.29612342, 0.32255313],\n",
       "       [0.30946907, 0.25374207, 0.43678883],\n",
       "       [0.2686124 , 0.22063366, 0.5107539 ],\n",
       "       [0.27852142, 0.25004348, 0.4714351 ],\n",
       "       [0.2968921 , 0.25312126, 0.44998667],\n",
       "       [0.25635424, 0.21637298, 0.5272727 ],\n",
       "       [0.3632358 , 0.30070186, 0.33606237],\n",
       "       [0.29046178, 0.24329454, 0.46624362],\n",
       "       [0.36465135, 0.29897404, 0.33637464],\n",
       "       [0.2576135 , 0.2170395 , 0.525347  ],\n",
       "       [0.2779716 , 0.21209344, 0.50993496],\n",
       "       [0.2587663 , 0.21985024, 0.52138346],\n",
       "       [0.22491859, 0.1947334 , 0.580348  ],\n",
       "       [0.27114847, 0.21939245, 0.50945914],\n",
       "       [0.3463365 , 0.30295604, 0.35070744],\n",
       "       [0.3541087 , 0.30081293, 0.34507838],\n",
       "       [0.37232894, 0.30293456, 0.32473654],\n",
       "       [0.38767242, 0.2906245 , 0.32170302],\n",
       "       [0.27811623, 0.23804006, 0.48384368],\n",
       "       [0.37239048, 0.29887196, 0.3287376 ],\n",
       "       [0.37090296, 0.30375212, 0.32534498],\n",
       "       [0.24012178, 0.21302408, 0.54685414],\n",
       "       [0.2979257 , 0.24936664, 0.45270762],\n",
       "       [0.36566043, 0.29697335, 0.33736622],\n",
       "       [0.3774827 , 0.29768807, 0.32482922],\n",
       "       [0.38440722, 0.2936326 , 0.32196018],\n",
       "       [0.27714303, 0.23600173, 0.48685527],\n",
       "       [0.33038703, 0.26788312, 0.40172985],\n",
       "       [0.27699065, 0.23444907, 0.48856032],\n",
       "       [0.38149056, 0.29535556, 0.32315394],\n",
       "       [0.37174818, 0.29472414, 0.33352762],\n",
       "       [0.2756711 , 0.25112382, 0.47320503],\n",
       "       [0.26932997, 0.22865492, 0.5020151 ],\n",
       "       [0.28634334, 0.23329397, 0.48036274],\n",
       "       [0.2741056 , 0.23643869, 0.48945564],\n",
       "       [0.28501743, 0.22243744, 0.49254513]], dtype=float32)"
      ]
     },
     "execution_count": 107,
     "metadata": {},
     "output_type": "execute_result"
    }
   ],
   "source": [
    "predictions = model.predict(X_test)\n",
    "predictions"
   ]
  },
  {
   "cell_type": "code",
   "execution_count": 108,
   "metadata": {},
   "outputs": [
    {
     "data": {
      "text/plain": [
       "array([2, 0, 2, 2, 2, 0, 2, 2, 2, 2, 2, 2, 0, 0, 0, 2, 2, 2, 2, 2, 0, 2,\n",
       "       0, 2, 2, 2, 2, 2, 2, 0, 0, 0, 2, 0, 0, 2, 2, 0, 0, 0, 2, 2, 2, 0,\n",
       "       0, 2, 2, 2, 2, 2])"
      ]
     },
     "execution_count": 108,
     "metadata": {},
     "output_type": "execute_result"
    }
   ],
   "source": [
    "pred = np.argmax(predictions, axis = 1)\n",
    "pred"
   ]
  },
  {
   "cell_type": "code",
   "execution_count": 109,
   "metadata": {},
   "outputs": [
    {
     "data": {
      "text/plain": [
       "array([1, 0, 2, 1, 1, 0, 1, 2, 1, 1, 2, 0, 0, 0, 0, 1, 2, 1, 1, 2, 0, 2,\n",
       "       0, 2, 2, 2, 2, 2, 0, 0, 0, 0, 1, 0, 0, 2, 1, 0, 0, 0, 2, 1, 1, 0,\n",
       "       0, 1, 2, 2, 1, 2])"
      ]
     },
     "execution_count": 109,
     "metadata": {},
     "output_type": "execute_result"
    }
   ],
   "source": [
    "y_true =np.argmax(y_test, axis = 1)\n",
    "y_true"
   ]
  },
  {
   "cell_type": "code",
   "execution_count": 110,
   "metadata": {},
   "outputs": [
    {
     "data": {
      "text/plain": [
       "0.66"
      ]
     },
     "execution_count": 110,
     "metadata": {},
     "output_type": "execute_result"
    }
   ],
   "source": [
    "np.mean(pred == y_true)"
   ]
  },
  {
   "cell_type": "code",
   "execution_count": null,
   "metadata": {},
   "outputs": [],
   "source": []
  },
  {
   "cell_type": "code",
   "execution_count": null,
   "metadata": {},
   "outputs": [],
   "source": []
  },
  {
   "cell_type": "code",
   "execution_count": null,
   "metadata": {},
   "outputs": [],
   "source": []
  },
  {
   "cell_type": "code",
   "execution_count": 21,
   "metadata": {},
   "outputs": [],
   "source": [
    "# define baseline model\n",
    "def baseline_model():\n",
    "    # create model\n",
    "    model = Sequential()\n",
    "    model.add(Dense(8, input_dim=4, activation='relu'))\n",
    "    model.add(Dense(3, activation='softmax'))\n",
    "    # Compile model\n",
    "    model.compile(loss='categorical_crossentropy', optimizer='adam', metrics=['accuracy'])\n",
    "    return model"
   ]
  },
  {
   "cell_type": "code",
   "execution_count": 22,
   "metadata": {},
   "outputs": [],
   "source": [
    "estimator = KerasClassifier(build_fn=baseline_model, epochs=200, batch_size=5, verbose=0)"
   ]
  },
  {
   "cell_type": "code",
   "execution_count": 26,
   "metadata": {},
   "outputs": [],
   "source": [
    "kfold = KFold(n_splits=10, shuffle=True, random_state=seed)"
   ]
  },
  {
   "cell_type": "code",
   "execution_count": 27,
   "metadata": {},
   "outputs": [
    {
     "name": "stdout",
     "output_type": "stream",
     "text": [
      "WARNING:tensorflow:From /anaconda3/lib/python3.6/site-packages/keras/backend/tensorflow_backend.py:2885: calling reduce_sum (from tensorflow.python.ops.math_ops) with keep_dims is deprecated and will be removed in a future version.\n",
      "Instructions for updating:\n",
      "keep_dims is deprecated, use keepdims instead\n",
      "WARNING:tensorflow:From /anaconda3/lib/python3.6/site-packages/keras/backend/tensorflow_backend.py:1349: calling reduce_mean (from tensorflow.python.ops.math_ops) with keep_dims is deprecated and will be removed in a future version.\n",
      "Instructions for updating:\n",
      "keep_dims is deprecated, use keepdims instead\n",
      "Baseline: 97.33% (4.42%)\n"
     ]
    }
   ],
   "source": [
    "results = cross_val_score(estimator, X, dummy_y, cv=kfold)\n",
    "print(\"Baseline: %.2f%% (%.2f%%)\" % (results.mean()*100, results.std()*100))"
   ]
  },
  {
   "cell_type": "code",
   "execution_count": null,
   "metadata": {},
   "outputs": [],
   "source": []
  }
 ],
 "metadata": {
  "kernelspec": {
   "display_name": "Python 3",
   "language": "python",
   "name": "python3"
  },
  "language_info": {
   "codemirror_mode": {
    "name": "ipython",
    "version": 3
   },
   "file_extension": ".py",
   "mimetype": "text/x-python",
   "name": "python",
   "nbconvert_exporter": "python",
   "pygments_lexer": "ipython3",
   "version": "3.6.7"
  }
 },
 "nbformat": 4,
 "nbformat_minor": 2
}
