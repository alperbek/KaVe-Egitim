{
 "cells": [
  {
   "cell_type": "markdown",
   "metadata": {},
   "source": [
    "## Performance Evaluation on Keras\n",
    " - automatic verification dataset\n",
    " - manual verification dataset.\n",
    " - k-fold cross-validation"
   ]
  },
  {
   "cell_type": "markdown",
   "metadata": {},
   "source": [
    "## Automatic Verification\n",
    " - validation_split in `model.fit(X, Y,validation_split=0.33,  nb_epoch = 10, batch_size = 100)`"
   ]
  },
  {
   "cell_type": "code",
   "execution_count": 2,
   "metadata": {},
   "outputs": [
    {
     "name": "stderr",
     "output_type": "stream",
     "text": [
      "Using TensorFlow backend.\n",
      "/anaconda3/lib/python3.6/site-packages/ipykernel_launcher.py:18: UserWarning: Update your `Dense` call to the Keras 2 API: `Dense(12, input_dim=8, activation=\"relu\", kernel_initializer=\"uniform\")`\n",
      "/anaconda3/lib/python3.6/site-packages/ipykernel_launcher.py:19: UserWarning: Update your `Dense` call to the Keras 2 API: `Dense(8, activation=\"relu\", kernel_initializer=\"uniform\")`\n",
      "/anaconda3/lib/python3.6/site-packages/ipykernel_launcher.py:20: UserWarning: Update your `Dense` call to the Keras 2 API: `Dense(1, activation=\"sigmoid\", kernel_initializer=\"uniform\")`\n"
     ]
    },
    {
     "name": "stdout",
     "output_type": "stream",
     "text": [
      "WARNING:tensorflow:From /anaconda3/lib/python3.6/site-packages/keras/backend/tensorflow_backend.py:1349: calling reduce_mean (from tensorflow.python.ops.math_ops) with keep_dims is deprecated and will be removed in a future version.\n",
      "Instructions for updating:\n",
      "keep_dims is deprecated, use keepdims instead\n"
     ]
    },
    {
     "name": "stderr",
     "output_type": "stream",
     "text": [
      "/anaconda3/lib/python3.6/site-packages/keras/models.py:939: UserWarning: The `nb_epoch` argument in `fit` has been renamed `epochs`.\n",
      "  warnings.warn('The `nb_epoch` argument in `fit` '\n"
     ]
    },
    {
     "name": "stdout",
     "output_type": "stream",
     "text": [
      "Train on 514 samples, validate on 254 samples\n",
      "Epoch 1/10\n",
      "514/514 [==============================] - 0s 487us/step - loss: 0.6902 - acc: 0.6401 - val_loss: 0.6864 - val_acc: 0.6732\n",
      "Epoch 2/10\n",
      "514/514 [==============================] - 0s 23us/step - loss: 0.6860 - acc: 0.6401 - val_loss: 0.6803 - val_acc: 0.6732\n",
      "Epoch 3/10\n",
      "514/514 [==============================] - 0s 22us/step - loss: 0.6815 - acc: 0.6401 - val_loss: 0.6748 - val_acc: 0.6732\n",
      "Epoch 4/10\n",
      "514/514 [==============================] - 0s 22us/step - loss: 0.6769 - acc: 0.6401 - val_loss: 0.6678 - val_acc: 0.6732\n",
      "Epoch 5/10\n",
      "514/514 [==============================] - 0s 21us/step - loss: 0.6721 - acc: 0.6401 - val_loss: 0.6613 - val_acc: 0.6732\n",
      "Epoch 6/10\n",
      "514/514 [==============================] - 0s 23us/step - loss: 0.6690 - acc: 0.6401 - val_loss: 0.6573 - val_acc: 0.6732\n",
      "Epoch 7/10\n",
      "514/514 [==============================] - 0s 22us/step - loss: 0.6679 - acc: 0.6401 - val_loss: 0.6554 - val_acc: 0.6732\n",
      "Epoch 8/10\n",
      "514/514 [==============================] - 0s 21us/step - loss: 0.6663 - acc: 0.6401 - val_loss: 0.6541 - val_acc: 0.6732\n",
      "Epoch 9/10\n",
      "514/514 [==============================] - 0s 22us/step - loss: 0.6635 - acc: 0.6401 - val_loss: 0.6529 - val_acc: 0.6732\n",
      "Epoch 10/10\n",
      "514/514 [==============================] - 0s 23us/step - loss: 0.6612 - acc: 0.6401 - val_loss: 0.6534 - val_acc: 0.6732\n",
      "768/768 [==============================] - 0s 18us/step\n",
      "acc: 65.10%\n"
     ]
    }
   ],
   "source": [
    "from keras.models import Sequential\n",
    "from keras.layers import Dense\n",
    "import numpy as np\n",
    "import pandas as pd\n",
    "# fix random seed for reproducibility\n",
    "seed = 7\n",
    "np.random.seed(seed)\n",
    "\n",
    "data_url = \"https://raw.githubusercontent.com/uzay00/KaVe-Egitim/master/DerinOgrenme/Keras-Giris/pima-indians-diabetes.csv\" \n",
    "data = pd.read_csv(data_url, skiprows=9, header = None)\n",
    "\n",
    "# split into input (X) and output (Y) variables\n",
    "X = data.iloc[:,0:8].values\n",
    "Y = data.iloc[:,8].values\n",
    "\n",
    "# create model\n",
    "model = Sequential()\n",
    "model.add(Dense(12, input_dim=8, init= 'uniform' , activation= 'relu'))\n",
    "model.add(Dense(8, init= 'uniform' , activation= 'relu' ))\n",
    "model.add(Dense(1, init= 'uniform' , activation= 'sigmoid'))\n",
    "\n",
    "# Compile model\n",
    "model.compile(loss= 'binary_crossentropy' , optimizer= 'adam' , metrics=['accuracy'])\n",
    "\n",
    "# Fit Model\n",
    "model.fit(X, Y,validation_split=0.33,  nb_epoch = 10, batch_size = 100)  ## validation_split !!\n",
    "\n",
    "# evaluate the model\n",
    "scores = model.evaluate(X, Y)\n",
    "print(\"%s: %.2f%%\" % (model.metrics_names[1], scores[1]*100))"
   ]
  },
  {
   "cell_type": "markdown",
   "metadata": {},
   "source": [
    "## Manuel Validation\n",
    " - use `from sklearn.model_selection import train_test_split`\n",
    " - `model.fit(X_train, y_train, validation_data=(X_test,y_test), nb_epoch=150, batch_size=10)`\n",
    "\n"
   ]
  },
  {
   "cell_type": "code",
   "execution_count": 4,
   "metadata": {},
   "outputs": [
    {
     "name": "stderr",
     "output_type": "stream",
     "text": [
      "/anaconda3/lib/python3.6/site-packages/ipykernel_launcher.py:23: UserWarning: Update your `Dense` call to the Keras 2 API: `Dense(12, input_dim=8, activation=\"relu\", kernel_initializer=\"uniform\")`\n",
      "/anaconda3/lib/python3.6/site-packages/ipykernel_launcher.py:24: UserWarning: Update your `Dense` call to the Keras 2 API: `Dense(8, activation=\"relu\", kernel_initializer=\"uniform\")`\n",
      "/anaconda3/lib/python3.6/site-packages/ipykernel_launcher.py:25: UserWarning: Update your `Dense` call to the Keras 2 API: `Dense(1, activation=\"sigmoid\", kernel_initializer=\"uniform\")`\n"
     ]
    },
    {
     "name": "stdout",
     "output_type": "stream",
     "text": [
      "Train on 514 samples, validate on 254 samples\n",
      "Epoch 1/10\n",
      "514/514 [==============================] - 0s 746us/step - loss: 0.6793 - acc: 0.6576 - val_loss: 0.6748 - val_acc: 0.6378\n",
      "Epoch 2/10\n",
      "514/514 [==============================] - 0s 145us/step - loss: 0.6642 - acc: 0.6576 - val_loss: 0.6675 - val_acc: 0.6378\n",
      "Epoch 3/10\n",
      "514/514 [==============================] - 0s 141us/step - loss: 0.6582 - acc: 0.6576 - val_loss: 0.6592 - val_acc: 0.6378\n",
      "Epoch 4/10\n",
      "514/514 [==============================] - 0s 139us/step - loss: 0.6539 - acc: 0.6576 - val_loss: 0.6540 - val_acc: 0.6378\n",
      "Epoch 5/10\n",
      "514/514 [==============================] - 0s 239us/step - loss: 0.6509 - acc: 0.6615 - val_loss: 0.6611 - val_acc: 0.6378\n",
      "Epoch 6/10\n",
      "514/514 [==============================] - 0s 319us/step - loss: 0.6449 - acc: 0.6537 - val_loss: 0.6405 - val_acc: 0.6575\n",
      "Epoch 7/10\n",
      "514/514 [==============================] - 0s 298us/step - loss: 0.6352 - acc: 0.6751 - val_loss: 0.6505 - val_acc: 0.6535\n",
      "Epoch 8/10\n",
      "514/514 [==============================] - 0s 291us/step - loss: 0.6271 - acc: 0.6654 - val_loss: 0.6271 - val_acc: 0.6772\n",
      "Epoch 9/10\n",
      "514/514 [==============================] - 0s 303us/step - loss: 0.6174 - acc: 0.6770 - val_loss: 0.6172 - val_acc: 0.6811\n",
      "Epoch 10/10\n",
      "514/514 [==============================] - 0s 201us/step - loss: 0.6083 - acc: 0.6907 - val_loss: 0.6366 - val_acc: 0.6417\n",
      "768/768 [==============================] - 0s 28us/step\n",
      "acc: 65.36%\n"
     ]
    }
   ],
   "source": [
    "from keras.models import Sequential\n",
    "from keras.layers import Dense\n",
    "from sklearn.model_selection import train_test_split\n",
    "\n",
    "import numpy as np\n",
    "import pandas as pd\n",
    "# fix random seed for reproducibility\n",
    "seed = 7\n",
    "np.random.seed(seed)\n",
    "\n",
    "data_url = \"https://raw.githubusercontent.com/uzay00/KaVe-Egitim/master/DerinOgrenme/Keras-Giris/pima-indians-diabetes.csv\" \n",
    "data = pd.read_csv(data_url, skiprows=9, header = None)\n",
    "\n",
    "# split into input (X) and output (Y) variables\n",
    "X = data.iloc[:,0:8].values\n",
    "Y = data.iloc[:,8].values\n",
    "\n",
    "# split into 67% for train and 33% for test\n",
    "X_train, X_test, y_train, y_test = train_test_split(X, Y, test_size=0.33, random_state=seed)\n",
    "\n",
    "# create model\n",
    "model = Sequential()\n",
    "model.add(Dense(12, input_dim=8, init= 'uniform' , activation= 'relu'))\n",
    "model.add(Dense(8, init= 'uniform' , activation= 'relu' ))\n",
    "model.add(Dense(1, init= 'uniform' , activation= 'sigmoid'))\n",
    "\n",
    "# Compile model\n",
    "model.compile(loss= 'binary_crossentropy' , optimizer= 'adam' , metrics=['accuracy'])\n",
    "\n",
    "# Fit Model\n",
    "model.fit(X_train, y_train, validation_data=(X_test,y_test), nb_epoch=10, batch_size=10)\n",
    "\n",
    "# evaluate the model\n",
    "scores = model.evaluate(X, Y)\n",
    "print(\"%s: %.2f%%\" % (model.metrics_names[1], scores[1]*100))"
   ]
  },
  {
   "cell_type": "markdown",
   "metadata": {},
   "source": [
    "## Manual k-Fold Cross-Validation\n",
    "To get less biased estimate of the performance of your model.\n",
    " - k subsets and takes turns training models on all subsets except one which is held out\n"
   ]
  },
  {
   "cell_type": "code",
   "execution_count": 5,
   "metadata": {},
   "outputs": [
    {
     "name": "stderr",
     "output_type": "stream",
     "text": [
      "/anaconda3/lib/python3.6/site-packages/ipykernel_launcher.py:24: UserWarning: Update your `Dense` call to the Keras 2 API: `Dense(12, input_dim=8, activation=\"relu\", kernel_initializer=\"uniform\")`\n",
      "/anaconda3/lib/python3.6/site-packages/ipykernel_launcher.py:25: UserWarning: Update your `Dense` call to the Keras 2 API: `Dense(8, activation=\"relu\", kernel_initializer=\"uniform\")`\n",
      "/anaconda3/lib/python3.6/site-packages/ipykernel_launcher.py:26: UserWarning: Update your `Dense` call to the Keras 2 API: `Dense(1, activation=\"sigmoid\", kernel_initializer=\"uniform\")`\n",
      "/anaconda3/lib/python3.6/site-packages/keras/models.py:939: UserWarning: The `nb_epoch` argument in `fit` has been renamed `epochs`.\n",
      "  warnings.warn('The `nb_epoch` argument in `fit` '\n"
     ]
    },
    {
     "name": "stdout",
     "output_type": "stream",
     "text": [
      "acc: 64.94%\n",
      "acc: 70.13%\n",
      "acc: 66.23%\n",
      "acc: 77.92%\n",
      "acc: 64.94%\n",
      "acc: 66.23%\n",
      "acc: 62.34%\n",
      "acc: 58.44%\n",
      "acc: 68.42%\n",
      "acc: 65.79%\n",
      "66.54% (+/- 4.85%)\n"
     ]
    }
   ],
   "source": [
    "from keras.models import Sequential\n",
    "from keras.layers import Dense\n",
    "from sklearn.model_selection import StratifiedKFold\n",
    "\n",
    "import numpy as np\n",
    "import pandas as pd\n",
    "# fix random seed for reproducibility\n",
    "seed = 7\n",
    "np.random.seed(seed)\n",
    "\n",
    "data_url = \"https://raw.githubusercontent.com/uzay00/KaVe-Egitim/master/DerinOgrenme/Keras-Giris/pima-indians-diabetes.csv\" \n",
    "data = pd.read_csv(data_url, skiprows=9, header = None)\n",
    "\n",
    "# split into input (X) and output (Y) variables\n",
    "X = data.iloc[:,0:8].values\n",
    "Y = data.iloc[:,8].values\n",
    "\n",
    "# define 10-fold cross validation test harness\n",
    "kfold = StratifiedKFold(n_splits=10, shuffle=True, random_state=seed)\n",
    "cvscores = []\n",
    "for train, test in kfold.split(X, Y):\n",
    "    # create model\n",
    "    model = Sequential()\n",
    "    model.add(Dense(12, input_dim=8, init= 'uniform' , activation= 'relu'))\n",
    "    model.add(Dense(8, init= 'uniform' , activation= 'relu' ))\n",
    "    model.add(Dense(1, init= 'uniform' , activation= 'sigmoid'))\n",
    "\n",
    "    # Compile model\n",
    "    model.compile(loss= 'binary_crossentropy' , optimizer= 'adam' , metrics=['accuracy'])\n",
    "\n",
    "    # Fit Model\n",
    "    model.fit(X[train], Y[train], nb_epoch=10, batch_size=10, verbose = 0)\n",
    "\n",
    "    # evaluate the model\n",
    "    scores = model.evaluate(X[test], Y[test], verbose=0)\n",
    "    print(\"%s: %.2f%%\" % (model.metrics_names[1], scores[1]*100))\n",
    "    cvscores.append(scores[1] * 100)\n",
    "    \n",
    "print(\"%.2f%% (+/- %.2f%%)\" % (np.mean(cvscores), np.std(cvscores)))"
   ]
  },
  {
   "cell_type": "code",
   "execution_count": null,
   "metadata": {},
   "outputs": [],
   "source": []
  }
 ],
 "metadata": {
  "kernelspec": {
   "display_name": "Python 3",
   "language": "python",
   "name": "python3"
  },
  "language_info": {
   "codemirror_mode": {
    "name": "ipython",
    "version": 3
   },
   "file_extension": ".py",
   "mimetype": "text/x-python",
   "name": "python",
   "nbconvert_exporter": "python",
   "pygments_lexer": "ipython3",
   "version": "3.6.7"
  }
 },
 "nbformat": 4,
 "nbformat_minor": 2
}
