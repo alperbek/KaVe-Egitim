{
 "cells": [
  {
   "cell_type": "code",
   "execution_count": 9,
   "metadata": {},
   "outputs": [],
   "source": [
    "import numpy as np \n",
    "import matplotlib.pyplot as plt\n",
    "%matplotlib inline \n",
    "\n",
    "class agent():\n",
    "    def __init__(self, m = 16, \n",
    "                 start_x = 0, start_y = 2, \n",
    "                 target_x = 9, target_y = 9, \n",
    "                 possible_genes = ['up', 'right', 'left']):\n",
    "        self.x, self.y  = start_x, start_y\n",
    "        self.target_x, self.target_y = target_x, target_y\n",
    "        self.pathx, self.pathy = [start_x], [start_y]\n",
    "        \n",
    "        self.possible_genes = possible_genes\n",
    "        self.take_action = {'up': self.go_up, \n",
    "                            'left':self.go_left, \n",
    "                            'right':self.go_right}\n",
    "        \n",
    "        self.m = m\n",
    "        self.create_genotype()\n",
    "        self.phenotype()\n",
    "    \n",
    "    def go_up(self): \n",
    "        self.y = self.y +1\n",
    "    def go_left(self): \n",
    "        self.x = self.x-1\n",
    "    def go_right(self): \n",
    "        self.x = self.x+1\n",
    "\n",
    "    def create_genotype(self):\n",
    "        self.genome = np.random.choice(self.possible_genes, size = self.m)\n",
    "    \n",
    "    def set_gene(self, new_gene):\n",
    "        self.genome = new_gene\n",
    "    \n",
    "    def phenotype(self):\n",
    "        for gene in self.genome:\n",
    "            self.take_action[gene]()\n",
    "            \n",
    "            self.pathx.append(self.x)\n",
    "            self.pathy.append(self.y)\n",
    "    \n",
    "    def fitness(self):\n",
    "        error_x = (self.target_x - self.pathx[-1])\n",
    "        error_y = (self.target_y - self.pathy[-1])\n",
    "        return 1/(1 + np.sqrt(error_x**2 + error_y**2))\n",
    "    \n",
    "    def draw(self, verbose = True):\n",
    "        if verbose: print(self.genome)\n",
    "        plt.plot(self.target_x, self.target_y, 'g*', markersize=30)\n",
    "        plt.plot(self.pathx[-1], self.pathy[-1], 'r^', markersize=25)\n",
    "        plt.plot(self.pathx, self.pathy)\n",
    "        plt.axis((-2,self.target_x+2,0,self.target_y+2))\n",
    "        plt.grid()"
   ]
  },
  {
   "cell_type": "code",
   "execution_count": 10,
   "metadata": {},
   "outputs": [],
   "source": [
    "class evolution():\n",
    "    def __init__(self, N = 10, possible_genes = ['up', 'right', 'left']):\n",
    "        self.N = N\n",
    "        self.possible_genes = possible_genes\n",
    "        \n",
    "        self.population = [agent() for i in range(N)]\n",
    "        self.fitness_values = [self.population[i].fitness() for i in range(N)]\n",
    "        \n",
    "        total_fitness = sum(self.fitness_values)\n",
    "        self.reproduction_probabiliy = [val/total_fitness for val in self.fitness_values]\n",
    "        \n",
    "        self.best_agent = self.population[np.argmax(self.fitness_values)]\n",
    "        \n",
    "    def selection(self):\n",
    "        parents = np.random.choice(self.N, size = 2, p = self.reproduction_probabiliy)\n",
    "        return parents\n",
    "    \n",
    "    def crossover(self, parent0, parent1):\n",
    "        cutoff = np.random.randint(len(parent0.genome))\n",
    "        child= np.concatenate((parent0.genome[:cutoff],parent1.genome[cutoff:]))\n",
    "        return child\n",
    "\n",
    "    def mutation(self, child):\n",
    "        mutation_point = np.random.randint(len(child.genome))\n",
    "        child.genome[mutation_point] = np.random.choice(self.possible_genes)\n",
    "        \n",
    "    def create_offspring(self):\n",
    "        parents = self.selection()\n",
    "        P0, P1 = self.population[parents[0]], self.population[parents[1]]\n",
    "        \n",
    "        child_agent = agent()\n",
    "        child_genome = self.crossover(parent0 = P0, parent1 = P1)\n",
    "        child_agent.set_gene(child_genome)\n",
    "        self.mutation(child_agent)\n",
    "        \n",
    "        return child_agent\n",
    "    \n",
    "    def create_new_population(self):\n",
    "        new_population = [self.create_offspring() for i in range(self.N-1)] + [self.best_agent]\n",
    "        self.population = new_population\n",
    "\n",
    "        self.fitness_values = [self.population[i].fitness() for i in range(self.N)]\n",
    "        total_fitness = sum(self.fitness_values)\n",
    "        self.reproduction_probabiliy = [val/total_fitness for val in self.fitness_values]\n",
    "        self.best_agent = self.population[np.argmax(self.fitness_values)]\n",
    "    \n",
    "    def evolve(self, G = 10):\n",
    "        for i in range(G):\n",
    "            self.create_new_population()\n",
    "        return self.best_agent"
   ]
  },
  {
   "cell_type": "code",
   "execution_count": 20,
   "metadata": {},
   "outputs": [
    {
     "data": {
      "image/png": "[encoded data removed]",
      "text/plain": [
       "<Figure size 432x288 with 1 Axes>"
      ]
     },
     "metadata": {
      "needs_background": "light"
     },
     "output_type": "display_data"
    }
   ],
   "source": [
    "world = evolution()\n",
    "for a in world.population:\n",
    "    a.draw(verbose = False)\n",
    "plt.grid()"
   ]
  },
  {
   "cell_type": "code",
   "execution_count": 21,
   "metadata": {},
   "outputs": [
    {
     "name": "stdout",
     "output_type": "stream",
     "text": [
      "['up' 'up' 'up' 'right' 'right' 'right' 'up' 'left' 'right' 'right'\n",
      " 'right' 'up' 'right' 'left' 'left' 'left']\n"
     ]
    },
    {
     "data": {
      "image/png": "[encoded data removed]",
      "text/plain": [
       "<Figure size 432x288 with 1 Axes>"
      ]
     },
     "metadata": {
      "needs_background": "light"
     },
     "output_type": "display_data"
    }
   ],
   "source": [
    "world.best_agent.draw()"
   ]
  },
  {
   "cell_type": "code",
   "execution_count": 4,
   "metadata": {},
   "outputs": [
    {
     "name": "stdout",
     "output_type": "stream",
     "text": [
      "['up' 'up' 'left' 'left' 'up' 'left' 'up' 'right' 'right' 'right' 'up'\n",
      " 'up' 'right' 'up' 'up' 'right']\n"
     ]
    },
    {
     "data": {
      "image/png": "[encoded data removed]",
      "text/plain": [
       "<Figure size 432x288 with 1 Axes>"
      ]
     },
     "metadata": {
      "needs_background": "light"
     },
     "output_type": "display_data"
    }
   ],
   "source": [
    "world.evolve()\n",
    "world.best_agent.draw()"
   ]
  },
  {
   "cell_type": "code",
   "execution_count": 5,
   "metadata": {},
   "outputs": [
    {
     "name": "stdout",
     "output_type": "stream",
     "text": [
      "['up' 'right' 'right' 'right' 'up' 'right' 'up' 'right' 'right' 'right'\n",
      " 'up' 'right' 'up' 'up' 'up' 'right']\n"
     ]
    },
    {
     "data": {
      "image/png": "[encoded data removed]",
      "text/plain": [
       "<Figure size 432x288 with 1 Axes>"
      ]
     },
     "metadata": {
      "needs_background": "light"
     },
     "output_type": "display_data"
    }
   ],
   "source": [
    "world.evolve()\n",
    "world.best_agent.draw()"
   ]
  },
  {
   "cell_type": "code",
   "execution_count": 6,
   "metadata": {},
   "outputs": [
    {
     "name": "stdout",
     "output_type": "stream",
     "text": [
      "['up' 'right' 'right' 'right' 'up' 'right' 'left' 'right' 'right' 'right'\n",
      " 'up' 'right' 'right' 'up' 'up' 'right']\n"
     ]
    },
    {
     "data": {
      "image/png": "[encoded data removed]",
      "text/plain": [
       "<Figure size 432x288 with 1 Axes>"
      ]
     },
     "metadata": {
      "needs_background": "light"
     },
     "output_type": "display_data"
    }
   ],
   "source": [
    "world.evolve(G = 100)\n",
    "world.best_agent.draw()"
   ]
  },
  {
   "cell_type": "code",
   "execution_count": 7,
   "metadata": {},
   "outputs": [
    {
     "name": "stdout",
     "output_type": "stream",
     "text": [
      "['up' 'right' 'right' 'right' 'up' 'right' 'right' 'right' 'right' 'right'\n",
      " 'up' 'right' 'right' 'up' 'up' 'right']\n"
     ]
    },
    {
     "data": {
      "image/png": "[encoded data removed]",
      "text/plain": [
       "<Figure size 432x288 with 1 Axes>"
      ]
     },
     "metadata": {
      "needs_background": "light"
     },
     "output_type": "display_data"
    }
   ],
   "source": [
    "world.evolve(G = 100)\n",
    "world.best_agent.draw()"
   ]
  },
  {
   "cell_type": "code",
   "execution_count": 8,
   "metadata": {},
   "outputs": [
    {
     "name": "stdout",
     "output_type": "stream",
     "text": [
      "['up' 'left' 'right' 'up' 'up' 'right' 'up' 'right' 'right' 'right' 'up'\n",
      " 'right' 'right' 'up' 'left' 'right']\n"
     ]
    },
    {
     "data": {
      "image/png": "[encoded data removed]",
      "text/plain": [
       "<Figure size 432x288 with 1 Axes>"
      ]
     },
     "metadata": {
      "needs_background": "light"
     },
     "output_type": "display_data"
    }
   ],
   "source": [
    "world.evolve(G = 1000)\n",
    "world.best_agent.draw()"
   ]
  },
  {
   "cell_type": "code",
   "execution_count": null,
   "metadata": {},
   "outputs": [],
   "source": []
  },
  {
   "cell_type": "code",
   "execution_count": null,
   "metadata": {},
   "outputs": [],
   "source": []
  }
 ],
 "metadata": {
  "kernelspec": {
   "display_name": "Python 3",
   "language": "python",
   "name": "python3"
  },
  "language_info": {
   "codemirror_mode": {
    "name": "ipython",
    "version": 3
   },
   "file_extension": ".py",
   "mimetype": "text/x-python",
   "name": "python",
   "nbconvert_exporter": "python",
   "pygments_lexer": "ipython3",
   "version": "3.6.7"
  }
 },
 "nbformat": 4,
 "nbformat_minor": 2
}
