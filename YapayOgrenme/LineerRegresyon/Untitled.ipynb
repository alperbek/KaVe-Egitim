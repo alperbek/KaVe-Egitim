{
 "cells": [
  {
   "cell_type": "code",
   "execution_count": 1,
   "metadata": {},
   "outputs": [],
   "source": [
    "# Importing the libraries\n",
    "import numpy as np\n",
    "import matplotlib.pyplot as plt\n",
    "%matplotlib inline  \n",
    "import pandas as pd\n",
    "\n",
    "import seaborn as sns\n",
    "sns.set()"
   ]
  },
  {
   "cell_type": "code",
   "execution_count": 2,
   "metadata": {},
   "outputs": [
    {
     "data": {
      "text/plain": [
       "(100, 4)"
      ]
     },
     "execution_count": 2,
     "metadata": {},
     "output_type": "execute_result"
    }
   ],
   "source": [
    "d = 3    # oznitelik sayisi\n",
    "n = 100   # ornek sayisi\n",
    "\n",
    "X = np.random.randint(0,100, size = (d,n))\n",
    "w = np.ones((d,1))\n",
    "b = 10\n",
    "y = np.dot(w.T, X) + b\n",
    "\n",
    "oznitelik_isimleri = ['not'+str(i) for i in range(d)] + ['toplam']\n",
    "veri = pd.DataFrame(data = np.concatenate((X,y)).T, columns  = oznitelik_isimleri)\n",
    "veri.shape"
   ]
  },
  {
   "cell_type": "code",
   "execution_count": 3,
   "metadata": {},
   "outputs": [
    {
     "data": {
      "text/html": [
       "<div>\n",
       "<style scoped>\n",
       "    .dataframe tbody tr th:only-of-type {\n",
       "        vertical-align: middle;\n",
       "    }\n",
       "\n",
       "    .dataframe tbody tr th {\n",
       "        vertical-align: top;\n",
       "    }\n",
       "\n",
       "    .dataframe thead th {\n",
       "        text-align: right;\n",
       "    }\n",
       "</style>\n",
       "<table border=\"1\" class=\"dataframe\">\n",
       "  <thead>\n",
       "    <tr style=\"text-align: right;\">\n",
       "      <th></th>\n",
       "      <th>not0</th>\n",
       "      <th>not1</th>\n",
       "      <th>not2</th>\n",
       "      <th>toplam</th>\n",
       "    </tr>\n",
       "  </thead>\n",
       "  <tbody>\n",
       "    <tr>\n",
       "      <th>0</th>\n",
       "      <td>77.0</td>\n",
       "      <td>11.0</td>\n",
       "      <td>0.0</td>\n",
       "      <td>98.0</td>\n",
       "    </tr>\n",
       "    <tr>\n",
       "      <th>1</th>\n",
       "      <td>36.0</td>\n",
       "      <td>33.0</td>\n",
       "      <td>61.0</td>\n",
       "      <td>140.0</td>\n",
       "    </tr>\n",
       "    <tr>\n",
       "      <th>2</th>\n",
       "      <td>85.0</td>\n",
       "      <td>70.0</td>\n",
       "      <td>15.0</td>\n",
       "      <td>180.0</td>\n",
       "    </tr>\n",
       "  </tbody>\n",
       "</table>\n",
       "</div>"
      ],
      "text/plain": [
       "   not0  not1  not2  toplam\n",
       "0  77.0  11.0   0.0    98.0\n",
       "1  36.0  33.0  61.0   140.0\n",
       "2  85.0  70.0  15.0   180.0"
      ]
     },
     "execution_count": 3,
     "metadata": {},
     "output_type": "execute_result"
    }
   ],
   "source": [
    "veri.head(3)"
   ]
  },
  {
   "cell_type": "code",
   "execution_count": 4,
   "metadata": {},
   "outputs": [],
   "source": [
    "X = veri.iloc[:, :-1].values\n",
    "#X = (X - X.mean(axis = 0))/ (X.std(axis = 0)) # normallestirme\n",
    "\n",
    "y = veri.iloc[:, -1:].values\n",
    "#y = (y - y.mean(axis = 0))/ (y.std(axis = 0)) # normallestirme"
   ]
  },
  {
   "cell_type": "code",
   "execution_count": 5,
   "metadata": {},
   "outputs": [
    {
     "data": {
      "text/plain": [
       "((100, 3), (100, 1))"
      ]
     },
     "execution_count": 5,
     "metadata": {},
     "output_type": "execute_result"
    }
   ],
   "source": [
    "X.shape, y.shape"
   ]
  },
  {
   "cell_type": "code",
   "execution_count": 6,
   "metadata": {},
   "outputs": [
    {
     "data": {
      "text/plain": [
       "((3, 100), (1, 100))"
      ]
     },
     "execution_count": 6,
     "metadata": {},
     "output_type": "execute_result"
    }
   ],
   "source": [
    "X = X.T\n",
    "y = y.T\n",
    "\n",
    "X.shape, y.shape"
   ]
  },
  {
   "cell_type": "code",
   "execution_count": 13,
   "metadata": {},
   "outputs": [
    {
     "name": "stdout",
     "output_type": "stream",
     "text": [
      "w: [[1.0603944 ]\n",
      " [1.05068251]\n",
      " [1.05740402]]\n",
      "b:1.4348164102864258\n"
     ]
    }
   ],
   "source": [
    "alpha =  0.00001\n",
    "Js = []\n",
    "w  = np.random.rand(X.shape[0],1) \n",
    "b = np.random.rand() \n",
    "\n",
    "for i in range(100000):\n",
    "    # forward propagate\n",
    "    h = np.dot(w.T, X) + b\n",
    "    # back propagate\n",
    "    dw = (1 / n) * np.dot(X, (h - y).T)\n",
    "    db = (1 / n) * np.sum(h - y)\n",
    "    \n",
    "    w = w - alpha * dw\n",
    "    b = b - alpha * db\n",
    "    \n",
    "    Js.append((1 / (2 * n)) * np.sum(np.power(h - y,2)))\n",
    "    \n",
    "print(\"w: {}\\nb:{}\".format(w,b))"
   ]
  },
  {
   "cell_type": "code",
   "execution_count": 14,
   "metadata": {},
   "outputs": [
    {
     "data": {
      "text/plain": [
       "[<matplotlib.lines.Line2D at 0x1a152e6198>]"
      ]
     },
     "execution_count": 14,
     "metadata": {},
     "output_type": "execute_result"
    },
    {
     "data": {
      "image/png": "[encoded data removed]",
      "text/plain": [
       "<Figure size 432x288 with 1 Axes>"
      ]
     },
     "metadata": {
      "needs_background": "light"
     },
     "output_type": "display_data"
    }
   ],
   "source": [
    "plt.plot(Js)\n",
    "#Js"
   ]
  },
  {
   "cell_type": "code",
   "execution_count": 15,
   "metadata": {},
   "outputs": [
    {
     "data": {
      "text/plain": [
       "array([[ 94.64269306, 138.78318304, 180.97717672, 111.33018462,\n",
       "        187.60758061, 189.29808317, 103.9650366 , 202.16402251,\n",
       "        102.48634487,  91.3605776 , 119.89564385, 124.0117076 ,\n",
       "        221.23990099, 164.40076866, 112.48481716, 143.2780654 ,\n",
       "        109.04733882, 115.62926545, 140.90912967, 207.53172814,\n",
       "        111.32206381, 191.5832334 , 180.29090986, 216.14111057,\n",
       "        200.8264551 , 139.55532064, 170.17603185,  88.84914566,\n",
       "        152.13127512, 190.2839372 , 231.58025202,  97.53540029,\n",
       "        196.67982897, 139.55304361, 152.35687089, 159.90824553,\n",
       "        152.40995702, 175.62206378,  66.06433477, 191.27322098,\n",
       "        113.3621397 , 100.44843643, 150.62752076, 150.52683509,\n",
       "        117.9332631 , 204.28407057, 126.9665543 ,  96.59898345,\n",
       "        197.97031841, 194.58079578, 103.7207852 , 124.95180077,\n",
       "        105.89161496, 194.72713272, 166.04419325, 104.65717463,\n",
       "        158.90005953, 141.09755114, 139.64783071, 100.96237119,\n",
       "        156.54385348, 160.19054897, 164.85085013,  83.61065762,\n",
       "         95.78525447,  95.54756019, 233.58661076, 124.27170646,\n",
       "        220.97257686, 172.43111388,  30.02060956,  85.06841667,\n",
       "        176.82511879, 108.09462557, 126.86935319,  68.21873112,\n",
       "        119.63484945, 125.08765768, 136.68039132, 170.34036588,\n",
       "        182.16371613, 116.28859147, 145.04406825, 158.47575404,\n",
       "        206.38763044, 169.37700821, 182.67574529, 175.6684284 ,\n",
       "        105.05451189, 229.64020324, 204.14582705, 160.17043923,\n",
       "        113.2015642 , 161.76442662, 216.8579398 , 260.26009152,\n",
       "        204.00997014, 135.49972308, 190.55641915, 104.61308705]])"
      ]
     },
     "execution_count": 15,
     "metadata": {},
     "output_type": "execute_result"
    }
   ],
   "source": [
    "h = np.dot(w.T, X) + b\n",
    "h"
   ]
  },
  {
   "cell_type": "code",
   "execution_count": 16,
   "metadata": {},
   "outputs": [
    {
     "data": {
      "text/plain": [
       "array([[ 98., 140., 180., 114., 186., 188., 107., 200., 106.,  95., 122.,\n",
       "        126., 218., 164., 115., 144., 112., 118., 142., 205., 114., 190.,\n",
       "        179., 213., 199., 141., 170.,  93., 153., 189., 228., 101., 195.,\n",
       "        141., 153., 160., 153., 175.,  71., 190., 116., 104., 151., 151.,\n",
       "        120., 202., 129., 100., 196., 193., 107., 127., 109., 193., 166.,\n",
       "        108., 159., 142., 141., 104., 157., 160., 165.,  88.,  99.,  99.,\n",
       "        230., 126., 218., 172.,  37.,  89., 176., 111., 129.,  73., 122.,\n",
       "        127., 138., 170., 181., 119., 146., 159., 204., 169., 182., 175.,\n",
       "        108., 226., 202., 160., 116., 162., 214., 255., 202., 137., 189.,\n",
       "        108.]])"
      ]
     },
     "execution_count": 16,
     "metadata": {},
     "output_type": "execute_result"
    }
   ],
   "source": [
    "y"
   ]
  },
  {
   "cell_type": "code",
   "execution_count": 17,
   "metadata": {},
   "outputs": [
    {
     "data": {
      "text/plain": [
       "array([[-3.35730694, -1.21681696,  0.97717672, -2.66981538,  1.60758061,\n",
       "         1.29808317, -3.0349634 ,  2.16402251, -3.51365513, -3.6394224 ,\n",
       "        -2.10435615, -1.9882924 ,  3.23990099,  0.40076866, -2.51518284,\n",
       "        -0.7219346 , -2.95266118, -2.37073455, -1.09087033,  2.53172814,\n",
       "        -2.67793619,  1.5832334 ,  1.29090986,  3.14111057,  1.8264551 ,\n",
       "        -1.44467936,  0.17603185, -4.15085434, -0.86872488,  1.2839372 ,\n",
       "         3.58025202, -3.46459971,  1.67982897, -1.44695639, -0.64312911,\n",
       "        -0.09175447, -0.59004298,  0.62206378, -4.93566523,  1.27322098,\n",
       "        -2.6378603 , -3.55156357, -0.37247924, -0.47316491, -2.0667369 ,\n",
       "         2.28407057, -2.0334457 , -3.40101655,  1.97031841,  1.58079578,\n",
       "        -3.2792148 , -2.04819923, -3.10838504,  1.72713272,  0.04419325,\n",
       "        -3.34282537, -0.09994047, -0.90244886, -1.35216929, -3.03762881,\n",
       "        -0.45614652,  0.19054897, -0.14914987, -4.38934238, -3.21474553,\n",
       "        -3.45243981,  3.58661076, -1.72829354,  2.97257686,  0.43111388,\n",
       "        -6.97939044, -3.93158333,  0.82511879, -2.90537443, -2.13064681,\n",
       "        -4.78126888, -2.36515055, -1.91234232, -1.31960868,  0.34036588,\n",
       "         1.16371613, -2.71140853, -0.95593175, -0.52424596,  2.38763044,\n",
       "         0.37700821,  0.67574529,  0.6684284 , -2.94548811,  3.64020324,\n",
       "         2.14582705,  0.17043923, -2.7984358 , -0.23557338,  2.8579398 ,\n",
       "         5.26009152,  2.00997014, -1.50027692,  1.55641915, -3.38691295]])"
      ]
     },
     "execution_count": 17,
     "metadata": {},
     "output_type": "execute_result"
    }
   ],
   "source": [
    "h-y"
   ]
  },
  {
   "cell_type": "code",
   "execution_count": 18,
   "metadata": {},
   "outputs": [
    {
     "data": {
      "text/plain": [
       "2.055137594496031"
      ]
     },
     "execution_count": 18,
     "metadata": {},
     "output_type": "execute_result"
    }
   ],
   "source": [
    "np.mean(np.abs(h-y))"
   ]
  },
  {
   "cell_type": "code",
   "execution_count": null,
   "metadata": {},
   "outputs": [],
   "source": []
  }
 ],
 "metadata": {
  "kernelspec": {
   "display_name": "Python 3",
   "language": "python",
   "name": "python3"
  },
  "language_info": {
   "codemirror_mode": {
    "name": "ipython",
    "version": 3
   },
   "file_extension": ".py",
   "mimetype": "text/x-python",
   "name": "python",
   "nbconvert_exporter": "python",
   "pygments_lexer": "ipython3",
   "version": "3.6.7"
  }
 },
 "nbformat": 4,
 "nbformat_minor": 2
}
