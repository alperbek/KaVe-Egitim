{
 "cells": [
  {
   "cell_type": "code",
   "execution_count": 1,
   "metadata": {},
   "outputs": [],
   "source": [
    "# Importing the libraries\n",
    "import numpy as np\n",
    "import matplotlib.pyplot as plt\n",
    "%matplotlib inline  \n",
    "import pandas as pd\n",
    "\n",
    "import seaborn as sns\n",
    "sns.set()"
   ]
  },
  {
   "cell_type": "markdown",
   "metadata": {},
   "source": [
    "# El yapimi Logistic Regresyon\n",
    "\n",
    "`X` \n",
    " - Ogrencilerin Vize ve Final notlari\n",
    " \n",
    "`w`, `b` \n",
    " - parametreler w = [0.5 0.5].T ve b = 10\n",
    " \n",
    "Tahmin edilmek istenen `y`\n",
    " - `0.5 vize + 0.5 Final + 10 > 50` ise ogrenci geciyor, `y = True`"
   ]
  },
  {
   "cell_type": "code",
   "execution_count": 4,
   "metadata": {},
   "outputs": [
    {
     "data": {
      "text/plain": [
       "(100, 3)"
      ]
     },
     "execution_count": 4,
     "metadata": {},
     "output_type": "execute_result"
    }
   ],
   "source": [
    "d = 2     # oznitelik sayisi\n",
    "n = 100   # ornek sayisi\n",
    "\n",
    "X = np.random.randint(0,100, size = (d,n))\n",
    "w_gizli = np.ones((d,1)) * 0.5\n",
    "b_gizli = 10\n",
    "h = np.dot(w_gizli.T, X) + b_gizli\n",
    "y = (h > 50) * 1\n",
    "\n",
    "oznitelik_isimleri = ['not'+str(i) for i in range(d)] + ['y']\n",
    "veri = pd.DataFrame(data = np.concatenate((X,y)).T, columns  = oznitelik_isimleri)\n",
    "veri.shape"
   ]
  },
  {
   "cell_type": "code",
   "execution_count": 5,
   "metadata": {},
   "outputs": [
    {
     "data": {
      "text/html": [
       "<div>\n",
       "<style scoped>\n",
       "    .dataframe tbody tr th:only-of-type {\n",
       "        vertical-align: middle;\n",
       "    }\n",
       "\n",
       "    .dataframe tbody tr th {\n",
       "        vertical-align: top;\n",
       "    }\n",
       "\n",
       "    .dataframe thead th {\n",
       "        text-align: right;\n",
       "    }\n",
       "</style>\n",
       "<table border=\"1\" class=\"dataframe\">\n",
       "  <thead>\n",
       "    <tr style=\"text-align: right;\">\n",
       "      <th></th>\n",
       "      <th>not0</th>\n",
       "      <th>not1</th>\n",
       "      <th>y</th>\n",
       "    </tr>\n",
       "  </thead>\n",
       "  <tbody>\n",
       "    <tr>\n",
       "      <th>0</th>\n",
       "      <td>25</td>\n",
       "      <td>7</td>\n",
       "      <td>0</td>\n",
       "    </tr>\n",
       "    <tr>\n",
       "      <th>1</th>\n",
       "      <td>33</td>\n",
       "      <td>3</td>\n",
       "      <td>0</td>\n",
       "    </tr>\n",
       "    <tr>\n",
       "      <th>2</th>\n",
       "      <td>69</td>\n",
       "      <td>28</td>\n",
       "      <td>1</td>\n",
       "    </tr>\n",
       "    <tr>\n",
       "      <th>3</th>\n",
       "      <td>7</td>\n",
       "      <td>31</td>\n",
       "      <td>0</td>\n",
       "    </tr>\n",
       "    <tr>\n",
       "      <th>4</th>\n",
       "      <td>23</td>\n",
       "      <td>27</td>\n",
       "      <td>0</td>\n",
       "    </tr>\n",
       "  </tbody>\n",
       "</table>\n",
       "</div>"
      ],
      "text/plain": [
       "   not0  not1  y\n",
       "0    25     7  0\n",
       "1    33     3  0\n",
       "2    69    28  1\n",
       "3     7    31  0\n",
       "4    23    27  0"
      ]
     },
     "execution_count": 5,
     "metadata": {},
     "output_type": "execute_result"
    }
   ],
   "source": [
    "veri.head()"
   ]
  },
  {
   "cell_type": "code",
   "execution_count": 6,
   "metadata": {},
   "outputs": [],
   "source": [
    "class Classo():\n",
    "    def __init__(self, X, y, alpha =  0.0001, iterasyon = 1000):\n",
    "        \n",
    "        #X = veri.iloc[:, :-1].values\n",
    "        #X = (X - X.mean(axis = 0))/ (X.std(axis = 0)) # normallestirme\n",
    "        \n",
    "        #self.X = X.T\n",
    "        #self.y = veri.iloc[:, -1:].values.T\n",
    "        \n",
    "        self.X = X\n",
    "        self.y = y\n",
    "        \n",
    "        self.d = self.X.shape[0] # oznitelik sayisi\n",
    "        self.n = self.X.shape[1] # ornek sayisi\n",
    "        \n",
    "        self.alpha = alpha\n",
    "        self.iterasyon = iterasyon\n",
    "        \n",
    "        self.w  = np.random.rand(self.d,1) # rastgele d agirlik parametre degeri\n",
    "        self.b = np.random.rand() # ratgeele 1 bias paarmetre degeri\n",
    "        \n",
    "    def sigmoid(self, z):\n",
    "        return 1 / (1 + np.exp(-z))\n",
    "    \n",
    "    def fit(self):\n",
    "        self.Js = [] \n",
    "\n",
    "        for i in range(self.iterasyon):\n",
    "            # ileri yayilim\n",
    "            h = self.sigmoid(np.dot(self.w.T, self.X) + self.b)\n",
    "            # geri yayilim\n",
    "            dw = (1 / self.n) * np.dot(self.X, (h - self.y).T)\n",
    "            db = (1 / self.n) * np.sum(h - self.y)\n",
    "            # Egim Inis\n",
    "            self.w = self.w - self.alpha * dw\n",
    "            self.b = self.b - self.alpha * db\n",
    "\n",
    "            if i%100:\n",
    "                cost = (- 1 / self.n) * np.sum(self.y* np.log(h) + (1 - self.y) * (np.log(1 - h)))\n",
    "                self.Js.append(cost)\n",
    "                \n",
    "    def predict(self, X):\n",
    "        h = self.sigmoid(np.dot(self.w.T, X) + self.b)\n",
    "        return 1 * (h > 0.5)\n",
    "        "
   ]
  },
  {
   "cell_type": "code",
   "execution_count": 7,
   "metadata": {},
   "outputs": [],
   "source": [
    "X = veri.iloc[:, :-1].values\n",
    "m, s = X.mean(axis = 0), X.std(axis = 0)\n",
    "X = (X - m)/ s # normallestirme\n",
    "\n",
    "X = X.T\n",
    "y = veri.iloc[:, -1:].values.T"
   ]
  },
  {
   "cell_type": "code",
   "execution_count": 8,
   "metadata": {},
   "outputs": [],
   "source": [
    "cls = Classo(X, y , alpha =  0.0001, iterasyon = 100000)\n",
    "cls.fit()"
   ]
  },
  {
   "cell_type": "code",
   "execution_count": 9,
   "metadata": {},
   "outputs": [
    {
     "name": "stdout",
     "output_type": "stream",
     "text": [
      "Buldugumuz parametre degerleri\n",
      "\tw = [[1.5813152  1.32520191]].T\n",
      "\tb = 0.8630987750147099\n"
     ]
    }
   ],
   "source": [
    "print(\"Buldugumuz parametre degerleri\")\n",
    "print(\"\\tw = {}.T\".format(cls.w.T))\n",
    "print(\"\\tb = {}\".format(cls.b))"
   ]
  },
  {
   "cell_type": "code",
   "execution_count": 10,
   "metadata": {},
   "outputs": [
    {
     "data": {
      "image/png": "[encoded data removed]",
      "text/plain": [
       "<Figure size 432x288 with 1 Axes>"
      ]
     },
     "metadata": {
      "needs_background": "light"
     },
     "output_type": "display_data"
    }
   ],
   "source": [
    "plt.plot(cls.Js)\n",
    "plt.xlabel('iterasyon'); plt.ylabel('Toplam Hata'); "
   ]
  },
  {
   "cell_type": "code",
   "execution_count": 18,
   "metadata": {},
   "outputs": [
    {
     "data": {
      "text/plain": [
       "array([[-1.80942982, -1.12339008,  1.62076889],\n",
       "       [-1.49805076, -1.42880875,  1.96404944]])"
      ]
     },
     "execution_count": 18,
     "metadata": {},
     "output_type": "execute_result"
    }
   ],
   "source": [
    "X_test = np.array([[0, 20,100],[0, 2,100]]).T\n",
    "X_test = (X_test - m)/ s # normallestirme\n",
    "X_test = X_test.T\n",
    "X_test"
   ]
  },
  {
   "cell_type": "code",
   "execution_count": 19,
   "metadata": {},
   "outputs": [
    {
     "data": {
      "text/plain": [
       "array([[0, 0, 1]])"
      ]
     },
     "execution_count": 19,
     "metadata": {},
     "output_type": "execute_result"
    }
   ],
   "source": [
    "cls.predict(X_test)"
   ]
  },
  {
   "cell_type": "code",
   "execution_count": null,
   "metadata": {},
   "outputs": [],
   "source": []
  }
 ],
 "metadata": {
  "kernelspec": {
   "display_name": "Python 3",
   "language": "python",
   "name": "python3"
  },
  "language_info": {
   "codemirror_mode": {
    "name": "ipython",
    "version": 3
   },
   "file_extension": ".py",
   "mimetype": "text/x-python",
   "name": "python",
   "nbconvert_exporter": "python",
   "pygments_lexer": "ipython3",
   "version": "3.6.7"
  }
 },
 "nbformat": 4,
 "nbformat_minor": 2
}
