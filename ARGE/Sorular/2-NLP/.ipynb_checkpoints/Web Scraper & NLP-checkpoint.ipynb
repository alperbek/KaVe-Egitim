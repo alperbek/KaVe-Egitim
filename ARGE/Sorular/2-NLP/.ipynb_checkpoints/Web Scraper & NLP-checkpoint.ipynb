{
 "cells": [
  {
   "cell_type": "markdown",
   "metadata": {},
   "source": [
    "# Kave Ar-Ge Sınav Soru 2\n",
    "\n",
    "**Bu soru Web Scraper ve Natural Language Processing Çalışacak arkadaşlara özel hazırlanmıştır.**\n",
    "\n",
    "### İçerikler\n",
    "1. DunyaHalleri.com'dan Verinin Çekilmesi\n",
    "    - Siteden veri indirmek için **Selenium**, **Beautifulsoup** gibi kütüphaneleri kullanabilirsiniz.\n",
    "    - İndirdiğiniz veri Dataframe halinde olmalıdır. Değişkenlerde, [Link, Başlık, Haber Metni, Haber Zamanı] Şeklinde Olmalıdır.\n",
    "    - İndirdiğiniz veriyi pandas kütüphanesiyle xlsx olarak kaydetmenizi bekliyoruz.\n",
    "    - En az 100 Haber için veri çekilmesini bekliyoruz.\n",
    "    ## Ortaya çıkardığınız veri şuna benzeyecek. ![image.png](dunyahalleri.png)\n",
    "2. Verinin Görselleştirmesi\n",
    "    - Burada tamamen sizin özgünlüğünüze kalıyor, En çok geçen kelimeleri görselleştirebilirsiniz, Wordcloud ile kelimeleri görselleştirebilirsiniz vs.\n",
    "    ## Örnek Görselleştirme: ![title](dst.png) ![title](dst2.png)\n",
    "3. Veri ile Word2Vec Modellemesinin Yapılması\n",
    "    - Bu kısımda Haber metni değişkeninin içerisindeki textler ile gensim kütüphanesini kullanarak basit bir word2vec modellemesi yapmanızı bekliyoruz.\n",
    "    ## Bu şekilde çıktı almanızı bekliyoruz: ![title](dst3.png)\n",
    "4. Altta Verilen 5 Kelimenin En Yakın Kelimelerinin Raporlanması\n",
    "    - Dünya, Teknoloji, Yapay Zeka, Blockchain, Robotik kelimelerinin alttaki resimdeki gibi en yakın 5 kelimesinin w2vec ile bulunup dataframe haline getirilmesi\n",
    "    ## Örnek Df ![title](df.png)\n",
    "    \n",
    "    \n",
    "    \n",
    "### Kaynaklar\n",
    "1. Veri Çekilmesi için Kaynaklar\n",
    "    - [Selenium ile Seçim Verilerinin Toplanması](http://www.veridefteri.com/2018/09/29/selenium-ile-veri-toplama-secim-verileri)\n",
    "    - [Selenium ile İnstagram Verilerinin Toplanması](https://caylakyazilimci.com/post/python-emojilerle-instagram-uzerinden-duygu-analizi)\n",
    "    - [Selenium ile Eksisozluk Verilerinin Toplanması](https://caylakyazilimci.com/post/python-kullanarak-eksi-sozluk-basliklarini-toplamak)\n",
    "    - [BeautifulSoup ile İnternet Sitesinden Veri İndirmek](https://medium.com/python/python-beautifulsoup-mod%C3%BCl%C3%BC-77030b4846a4)\n",
    "\n",
    "2. Veri Görselleştirmesi için Kaynaklar\n",
    "    - [NLP Verilerinin Görselleştirilmesi](https://towardsdatascience.com/a-complete-exploratory-data-analysis-and-visualization-for-text-data-29fb1b96fb6a)\n",
    "    - [NLP Görselleştirmesi](https://kanoki.org/2019/03/17/text-data-visualization-in-python/)\n",
    "\n",
    "3. Word2Vec Kaynakları\n",
    "    - [Word2Vec Modellemesi](https://towardsdatascience.com/a-beginners-guide-to-word-embedding-with-gensim-word2vec-model-5970fa56cc92)\n",
    "    - [W2Vec Modellenmesi](https://www.kaggle.com/pierremegret/gensim-word2vec-tutorial)\n",
    "    \n",
    "4. Pandas DataFrame Örnekleri\n",
    "    - [Pandas Dataframe Tutorial](https://www.datacamp.com/community/tutorials/pandas-tutorial-dataframe-python)\n",
    "    - [Birbaşka pandas dataframe tutorial'ı](https://www.tutorialspoint.com/python_pandas/python_pandas_dataframe.htm)\n",
    "    \n",
    "    \n",
    "    \n",
    "### NOT : Bu sorunun sizin için çok zor olabileceğinin farkındayız, buradaki amacımız sizin motivasyonunuzu görmek, yapabildiğiniz kadar yapmanızı öneriyoruz.\n",
    "\n",
    "### NOT2: Lütfen Notebook'u Yüklerken Adınız - Web Scraper & NLP şeklinde düzenleyip yükleyin :)"
   ]
  },
  {
   "cell_type": "code",
   "execution_count": null,
   "metadata": {},
   "outputs": [],
   "source": []
  }
 ],
 "metadata": {
  "kernelspec": {
   "display_name": "Python 3",
   "language": "python",
   "name": "python3"
  },
  "language_info": {
   "codemirror_mode": {
    "name": "ipython",
    "version": 3
   },
   "file_extension": ".py",
   "mimetype": "text/x-python",
   "name": "python",
   "nbconvert_exporter": "python",
   "pygments_lexer": "ipython3",
   "version": "3.6.7"
  }
 },
 "nbformat": 4,
 "nbformat_minor": 2
}
